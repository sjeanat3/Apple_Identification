{
 "cells": [
  {
   "cell_type": "code",
   "execution_count": 4,
   "id": "1fe5ce3f",
   "metadata": {},
   "outputs": [],
   "source": [
    "import os"
   ]
  },
  {
   "cell_type": "code",
   "execution_count": 19,
   "id": "06e13aae",
   "metadata": {},
   "outputs": [],
   "source": [
    "golden_1_train_path = \"../data/fruits-360_dataset/fruits-360/Training/Apple Golden 1/\"\n",
    "golden_1_test_path = \"../data/fruits-360_dataset/fruits-360/Test/Apple Golden 1/\"\n",
    "\n",
    "golden_2_train_path = \"../data/fruits-360_dataset/fruits-360/Training/Apple Golden 2/\"\n",
    "golden_2_test_path = \"../data/fruits-360_dataset/fruits-360/Test/Apple Golden 2/\"\n",
    "\n",
    "golden_3_train_path = \"../data/fruits-360_dataset/fruits-360/Training/Apple Golden 3/\"\n",
    "golden_3_test_path = \"../data/fruits-360_dataset/fruits-360/Test/Apple Golden 3/\""
   ]
  },
  {
   "cell_type": "code",
   "execution_count": 23,
   "id": "13df3ac8",
   "metadata": {},
   "outputs": [],
   "source": [
    "red_1_train_path = \"../data/fruits-360_dataset/fruits-360/Training/Apple Red 1/\"\n",
    "red_1_test_path = \"../data/fruits-360_dataset/fruits-360/Test/Apple Red 1/\"\n",
    "\n",
    "red_2_train_path = \"../data/fruits-360_dataset/fruits-360/Training/Apple Red 2/\"\n",
    "red_2_test_path = \"../data/fruits-360_dataset/fruits-360/Test/Apple Red 2/\"\n",
    "\n",
    "red_3_train_path = \"../data/fruits-360_dataset/fruits-360/Training/Apple Red 3/\"\n",
    "red_3_test_path = \"../data/fruits-360_dataset/fruits-360/Test/Apple Red 3/\""
   ]
  },
  {
   "cell_type": "code",
   "execution_count": 13,
   "id": "c30928b2",
   "metadata": {},
   "outputs": [],
   "source": [
    "def golden1_rename_images(path):\n",
    "    for pic in os.listdir(path):\n",
    "        my_dest = \"golden_1_\" + str(pic)\n",
    "        my_source = path + pic\n",
    "        my_dest = path + my_dest\n",
    "        # rename() function will rename all the files\n",
    "        os.rename(my_source, my_dest)"
   ]
  },
  {
   "cell_type": "code",
   "execution_count": 14,
   "id": "fc3b3052",
   "metadata": {},
   "outputs": [],
   "source": [
    "golden1_rename_images(golden_1_train_path)\n",
    "golden1_rename_images(golden_1_test_path)"
   ]
  },
  {
   "cell_type": "code",
   "execution_count": 17,
   "id": "4aa25a6c",
   "metadata": {},
   "outputs": [],
   "source": [
    "def golden2_rename_images(path):\n",
    "    for pic in os.listdir(path):\n",
    "        my_dest = \"golden_2_\" + str(pic)\n",
    "        my_source = path + pic\n",
    "        my_dest = path + my_dest\n",
    "        # rename() function will rename all the files\n",
    "        os.rename(my_source, my_dest)"
   ]
  },
  {
   "cell_type": "code",
   "execution_count": 20,
   "id": "360656fa",
   "metadata": {},
   "outputs": [],
   "source": [
    "golden2_rename_images(golden_2_train_path)\n",
    "golden2_rename_images(golden_2_test_path)"
   ]
  },
  {
   "cell_type": "code",
   "execution_count": 21,
   "id": "090c1789",
   "metadata": {},
   "outputs": [],
   "source": [
    "def golden3_rename_images(path):\n",
    "    for pic in os.listdir(path):\n",
    "        my_dest = \"golden_3_\" + str(pic)\n",
    "        my_source = path + pic\n",
    "        my_dest = path + my_dest\n",
    "        # rename() function will rename all the files\n",
    "        os.rename(my_source, my_dest)"
   ]
  },
  {
   "cell_type": "code",
   "execution_count": 22,
   "id": "4b410610",
   "metadata": {},
   "outputs": [],
   "source": [
    "golden3_rename_images(golden_3_train_path)\n",
    "golden3_rename_images(golden_3_test_path)"
   ]
  },
  {
   "cell_type": "code",
   "execution_count": 24,
   "id": "5a02c198",
   "metadata": {},
   "outputs": [],
   "source": [
    "def red1_rename_images(path):\n",
    "    for pic in os.listdir(path):\n",
    "        my_dest = \"red_1_\" + str(pic)\n",
    "        my_source = path + pic\n",
    "        my_dest = path + my_dest\n",
    "        # rename() function will rename all the files\n",
    "        os.rename(my_source, my_dest)"
   ]
  },
  {
   "cell_type": "code",
   "execution_count": 25,
   "id": "0a6426f5",
   "metadata": {},
   "outputs": [],
   "source": [
    "red1_rename_images(red_1_train_path)\n",
    "red1_rename_images(red_1_test_path)"
   ]
  },
  {
   "cell_type": "code",
   "execution_count": 28,
   "id": "baf1c340",
   "metadata": {},
   "outputs": [],
   "source": [
    "def red2_rename_images(path):\n",
    "    for pic in os.listdir(path):\n",
    "        my_dest = \"red_2_\" + str(pic)\n",
    "        my_source = path + pic\n",
    "        my_dest = path + my_dest\n",
    "        # rename() function will rename all the files\n",
    "        os.rename(my_source, my_dest)"
   ]
  },
  {
   "cell_type": "code",
   "execution_count": 29,
   "id": "b9a1c404",
   "metadata": {},
   "outputs": [],
   "source": [
    "red2_rename_images(red_2_train_path)\n",
    "red2_rename_images(red_2_test_path)"
   ]
  },
  {
   "cell_type": "code",
   "execution_count": 30,
   "id": "52f4b62d",
   "metadata": {},
   "outputs": [],
   "source": [
    "def red3_rename_images(path):\n",
    "    for pic in os.listdir(path):\n",
    "        my_dest = \"red_3_\" + str(pic)\n",
    "        my_source = path + pic\n",
    "        my_dest = path + my_dest\n",
    "        # rename() function will rename all the files\n",
    "        os.rename(my_source, my_dest)"
   ]
  },
  {
   "cell_type": "code",
   "execution_count": 31,
   "id": "d7f922a2",
   "metadata": {},
   "outputs": [],
   "source": [
    "red3_rename_images(red_3_train_path)\n",
    "red3_rename_images(red_3_test_path)"
   ]
  }
 ],
 "metadata": {
  "kernelspec": {
   "display_name": "tensorflow_env",
   "language": "python",
   "name": "tensorflow_env"
  },
  "language_info": {
   "codemirror_mode": {
    "name": "ipython",
    "version": 3
   },
   "file_extension": ".py",
   "mimetype": "text/x-python",
   "name": "python",
   "nbconvert_exporter": "python",
   "pygments_lexer": "ipython3",
   "version": "3.8.15"
  }
 },
 "nbformat": 4,
 "nbformat_minor": 5
}
