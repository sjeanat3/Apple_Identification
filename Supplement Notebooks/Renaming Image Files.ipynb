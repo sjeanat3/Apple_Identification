{
 "cells": [
  {
   "cell_type": "code",
   "execution_count": 80,
   "id": "1fe5ce3f",
   "metadata": {},
   "outputs": [],
   "source": [
    "import os\n",
    "import shutil"
   ]
  },
  {
   "cell_type": "code",
   "execution_count": 4,
   "id": "06e13aae",
   "metadata": {},
   "outputs": [],
   "source": [
    "golden_1_train_path = \"../data/fruits-360_dataset/fruits-360/Training/Apple Golden 1/\"\n",
    "golden_1_test_path = \"../data/fruits-360_dataset/fruits-360/Test/Apple Golden 1/\"\n",
    "\n",
    "golden_2_train_path = \"../data/fruits-360_dataset/fruits-360/Training/Apple Golden 2/\"\n",
    "golden_2_test_path = \"../data/fruits-360_dataset/fruits-360/Test/Apple Golden 2/\"\n",
    "\n",
    "golden_3_train_path = \"../data/fruits-360_dataset/fruits-360/Training/Apple Golden 3/\"\n",
    "golden_3_test_path = \"../data/fruits-360_dataset/fruits-360/Test/Apple Golden 3/\""
   ]
  },
  {
   "cell_type": "code",
   "execution_count": 5,
   "id": "13df3ac8",
   "metadata": {},
   "outputs": [],
   "source": [
    "red_1_train_path = \"../data/fruits-360_dataset/fruits-360/Training/Apple Red 1/\"\n",
    "red_1_test_path = \"../data/fruits-360_dataset/fruits-360/Test/Apple Red 1/\"\n",
    "\n",
    "red_2_train_path = \"../data/fruits-360_dataset/fruits-360/Training/Apple Red 2/\"\n",
    "red_2_test_path = \"../data/fruits-360_dataset/fruits-360/Test/Apple Red 2/\"\n",
    "\n",
    "red_3_train_path = \"../data/fruits-360_dataset/fruits-360/Training/Apple Red 3/\"\n",
    "red_3_test_path = \"../data/fruits-360_dataset/fruits-360/Test/Apple Red 3/\""
   ]
  },
  {
   "cell_type": "code",
   "execution_count": 13,
   "id": "c30928b2",
   "metadata": {},
   "outputs": [],
   "source": [
    "def golden1_rename_images(path):\n",
    "    for pic in os.listdir(path):\n",
    "        my_dest = \"golden_1_\" + str(pic)\n",
    "        my_source = path + pic\n",
    "        my_dest = path + my_dest\n",
    "        # rename() function will rename all the files\n",
    "        os.rename(my_source, my_dest)"
   ]
  },
  {
   "cell_type": "code",
   "execution_count": 14,
   "id": "fc3b3052",
   "metadata": {},
   "outputs": [],
   "source": [
    "golden1_rename_images(golden_1_train_path)\n",
    "golden1_rename_images(golden_1_test_path)"
   ]
  },
  {
   "cell_type": "code",
   "execution_count": 17,
   "id": "4aa25a6c",
   "metadata": {},
   "outputs": [],
   "source": [
    "def golden2_rename_images(path):\n",
    "    for pic in os.listdir(path):\n",
    "        my_dest = \"golden_2_\" + str(pic)\n",
    "        my_source = path + pic\n",
    "        my_dest = path + my_dest\n",
    "        # rename() function will rename all the files\n",
    "        os.rename(my_source, my_dest)"
   ]
  },
  {
   "cell_type": "code",
   "execution_count": 20,
   "id": "360656fa",
   "metadata": {},
   "outputs": [],
   "source": [
    "golden2_rename_images(golden_2_train_path)\n",
    "golden2_rename_images(golden_2_test_path)"
   ]
  },
  {
   "cell_type": "code",
   "execution_count": 21,
   "id": "090c1789",
   "metadata": {},
   "outputs": [],
   "source": [
    "def golden3_rename_images(path):\n",
    "    for pic in os.listdir(path):\n",
    "        my_dest = \"golden_3_\" + str(pic)\n",
    "        my_source = path + pic\n",
    "        my_dest = path + my_dest\n",
    "        # rename() function will rename all the files\n",
    "        os.rename(my_source, my_dest)"
   ]
  },
  {
   "cell_type": "code",
   "execution_count": 22,
   "id": "4b410610",
   "metadata": {},
   "outputs": [],
   "source": [
    "golden3_rename_images(golden_3_train_path)\n",
    "golden3_rename_images(golden_3_test_path)"
   ]
  },
  {
   "cell_type": "code",
   "execution_count": 24,
   "id": "5a02c198",
   "metadata": {},
   "outputs": [],
   "source": [
    "def red1_rename_images(path):\n",
    "    for pic in os.listdir(path):\n",
    "        my_dest = \"red_1_\" + str(pic)\n",
    "        my_source = path + pic\n",
    "        my_dest = path + my_dest\n",
    "        # rename() function will rename all the files\n",
    "        os.rename(my_source, my_dest)"
   ]
  },
  {
   "cell_type": "code",
   "execution_count": 25,
   "id": "0a6426f5",
   "metadata": {},
   "outputs": [],
   "source": [
    "red1_rename_images(red_1_train_path)\n",
    "red1_rename_images(red_1_test_path)"
   ]
  },
  {
   "cell_type": "code",
   "execution_count": 28,
   "id": "baf1c340",
   "metadata": {},
   "outputs": [],
   "source": [
    "def red2_rename_images(path):\n",
    "    for pic in os.listdir(path):\n",
    "        my_dest = \"red_2_\" + str(pic)\n",
    "        my_source = path + pic\n",
    "        my_dest = path + my_dest\n",
    "        # rename() function will rename all the files\n",
    "        os.rename(my_source, my_dest)"
   ]
  },
  {
   "cell_type": "code",
   "execution_count": 29,
   "id": "b9a1c404",
   "metadata": {},
   "outputs": [],
   "source": [
    "red2_rename_images(red_2_train_path)\n",
    "red2_rename_images(red_2_test_path)"
   ]
  },
  {
   "cell_type": "code",
   "execution_count": 30,
   "id": "52f4b62d",
   "metadata": {},
   "outputs": [],
   "source": [
    "def red3_rename_images(path):\n",
    "    for pic in os.listdir(path):\n",
    "        my_dest = \"red_3_\" + str(pic)\n",
    "        my_source = path + pic\n",
    "        my_dest = path + my_dest\n",
    "        # rename() function will rename all the files\n",
    "        os.rename(my_source, my_dest)"
   ]
  },
  {
   "cell_type": "code",
   "execution_count": 31,
   "id": "d7f922a2",
   "metadata": {},
   "outputs": [],
   "source": [
    "red3_rename_images(red_3_train_path)\n",
    "red3_rename_images(red_3_test_path)"
   ]
  },
  {
   "cell_type": "code",
   "execution_count": 18,
   "id": "14c34791",
   "metadata": {},
   "outputs": [],
   "source": [
    "braeburn_train_path = '../data/fruits-360_dataset/fruits-360/Training/Apple Braeburn'\n",
    "braeburn_test_path = '../data/fruits-360_dataset/fruits-360/Test/Apple Braeburn'"
   ]
  },
  {
   "cell_type": "code",
   "execution_count": 91,
   "id": "95cefee6",
   "metadata": {},
   "outputs": [
    {
     "data": {
      "text/plain": [
       "16.0"
      ]
     },
     "execution_count": 91,
     "metadata": {},
     "output_type": "execute_result"
    }
   ],
   "source": [
    "round(len(os.listdir(braeburn_test_path))*0.1,0)"
   ]
  },
  {
   "cell_type": "code",
   "execution_count": 92,
   "id": "5396da74",
   "metadata": {},
   "outputs": [
    {
     "name": "stdout",
     "output_type": "stream",
     "text": [
      "range(0, 16)\n"
     ]
    }
   ],
   "source": [
    "print(range(0,int(round(len(os.listdir(braeburn_test_path))*0.1,0))))"
   ]
  },
  {
   "cell_type": "code",
   "execution_count": null,
   "id": "e892d172",
   "metadata": {},
   "outputs": [],
   "source": []
  },
  {
   "cell_type": "code",
   "execution_count": null,
   "id": "b80d3ce1",
   "metadata": {},
   "outputs": [],
   "source": []
  },
  {
   "cell_type": "code",
   "execution_count": null,
   "id": "6870c705",
   "metadata": {},
   "outputs": [],
   "source": []
  },
  {
   "cell_type": "code",
   "execution_count": 93,
   "id": "32b0dd15",
   "metadata": {},
   "outputs": [
    {
     "data": {
      "text/plain": [
       "['r_78_100.jpg',\n",
       " 'r_68_100.jpg',\n",
       " 'r_3_100.jpg',\n",
       " '45_100.jpg',\n",
       " '55_100.jpg',\n",
       " 'r_47_100.jpg',\n",
       " 'r_57_100.jpg',\n",
       " 'r_35_100.jpg',\n",
       " '37_100.jpg',\n",
       " 'r_325_100.jpg',\n",
       " '326_100.jpg',\n",
       " 'r_61_100.jpg',\n",
       " 'r_71_100.jpg',\n",
       " '63_100.jpg',\n",
       " '73_100.jpg',\n",
       " '87_100.jpg']"
      ]
     },
     "execution_count": 93,
     "metadata": {},
     "output_type": "execute_result"
    }
   ],
   "source": [
    "os.listdir(braeburn_test_path)[:16]"
   ]
  },
  {
   "cell_type": "code",
   "execution_count": 94,
   "id": "fad1bfed",
   "metadata": {},
   "outputs": [],
   "source": []
  },
  {
   "cell_type": "code",
   "execution_count": 151,
   "id": "aea8c05e",
   "metadata": {},
   "outputs": [],
   "source": [
    "def move_ten_perc_img(name):\n",
    "    old_path = f'../data/fruits-360_dataset/fruits-360/Training/{name}'\n",
    "    new_path_list = []\n",
    "    old_path_list = []\n",
    "    \n",
    "    for i in os.listdir(old_path):\n",
    "        new_path_list.append(f'../data/fruits-360_dataset/fruits-360/Validation/{name}/{i}')\n",
    "        new_path_list = new_path_list[0:(int(round(len(os.listdir(old_path))*0.1,0)))]\n",
    "        \n",
    "        old_path_list.append(f'../data/fruits-360_dataset/fruits-360/Training/{name}/{i}')\n",
    "        old_path_list = old_path_list[0:(int(round(len(os.listdir(old_path))*0.1,0)))]\n",
    "        \n",
    "    for path in range(0, int(len(new_path_list))):\n",
    "        shutil.move(old_path_list[path], new_path_list[path])"
   ]
  },
  {
   "cell_type": "code",
   "execution_count": 152,
   "id": "d2031c51",
   "metadata": {},
   "outputs": [],
   "source": [
    "move_ten_perc_img('Apple Braeburn')"
   ]
  },
  {
   "cell_type": "code",
   "execution_count": 153,
   "id": "e4a4e14b",
   "metadata": {},
   "outputs": [],
   "source": [
    "move_ten_perc_img('Apple Crimson Snow')"
   ]
  },
  {
   "cell_type": "code",
   "execution_count": 154,
   "id": "cea595e5",
   "metadata": {},
   "outputs": [],
   "source": [
    "move_ten_perc_img('Apple Golden')"
   ]
  },
  {
   "cell_type": "code",
   "execution_count": 155,
   "id": "60b32cf0",
   "metadata": {},
   "outputs": [],
   "source": [
    "move_ten_perc_img('Apple Granny Smith')"
   ]
  },
  {
   "cell_type": "code",
   "execution_count": 156,
   "id": "bfca6c01",
   "metadata": {},
   "outputs": [],
   "source": [
    "move_ten_perc_img('Apple Pink Lady')"
   ]
  },
  {
   "cell_type": "code",
   "execution_count": 157,
   "id": "73328d7e",
   "metadata": {},
   "outputs": [],
   "source": [
    "move_ten_perc_img('Apple Red Delicious')"
   ]
  }
 ],
 "metadata": {
  "kernelspec": {
   "display_name": "tensorflow_env",
   "language": "python",
   "name": "tensorflow_env"
  },
  "language_info": {
   "codemirror_mode": {
    "name": "ipython",
    "version": 3
   },
   "file_extension": ".py",
   "mimetype": "text/x-python",
   "name": "python",
   "nbconvert_exporter": "python",
   "pygments_lexer": "ipython3",
   "version": "3.8.15"
  }
 },
 "nbformat": 4,
 "nbformat_minor": 5
}
