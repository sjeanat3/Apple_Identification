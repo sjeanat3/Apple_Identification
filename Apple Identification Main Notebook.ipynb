{
 "cells": [
  {
   "cell_type": "markdown",
   "id": "4b40087c",
   "metadata": {},
   "source": [
    "## Import Necessary Libraries"
   ]
  },
  {
   "cell_type": "code",
   "execution_count": 121,
   "id": "3ad423c2",
   "metadata": {},
   "outputs": [],
   "source": [
    "import pandas as pd\n",
    "import tensorflow as tf\n",
    "import os\n",
    "import numpy as np\n",
    "from tensorflow import keras\n",
    "from tensorflow.keras.models import Sequential, Model, load_model\n",
    "from tensorflow.keras.layers import Dense, Dropout, Convolution2D, MaxPooling2D, Flatten, GlobalAveragePooling2D\n",
    "from keras import models, layers\n",
    "from keras_preprocessing.image import load_img, array_to_img, img_to_array, ImageDataGenerator\n",
    "from tensorflow.keras.optimizers import  Adam\n",
    "from matplotlib import pyplot as plt\n",
    "import matplotlib.image as mpimg\n",
    "%matplotlib inline"
   ]
  },
  {
   "cell_type": "code",
   "execution_count": 122,
   "id": "2c434633",
   "metadata": {},
   "outputs": [],
   "source": [
    "datagen = ImageDataGenerator()"
   ]
  },
  {
   "cell_type": "code",
   "execution_count": 123,
   "id": "0895d807",
   "metadata": {},
   "outputs": [],
   "source": [
    "train_path =  './data/fruits-360_dataset/fruits-360/Training'\n",
    "test_path = './data/fruits-360_dataset/fruits-360/Test'\n",
    "val_path = './data/fruits-360_dataset/fruits-360/Validation'"
   ]
  },
  {
   "cell_type": "code",
   "execution_count": 124,
   "id": "294e0052",
   "metadata": {},
   "outputs": [],
   "source": [
    "golden_1_train_path = \"./data/fruits-360_dataset/fruits-360/Training/Apple Golden 1\""
   ]
  },
  {
   "cell_type": "code",
   "execution_count": 125,
   "id": "493a934d",
   "metadata": {},
   "outputs": [],
   "source": [
    "train_datagen = ImageDataGenerator(rescale = 1./255,\n",
    "                                   shear_range = 0.2, \n",
    "                                   zoom_range = 0.2,\n",
    "                                   horizontal_flip = True)\n",
    "\n",
    "test_datagen = ImageDataGenerator(rescale = 1./255)\n",
    "val_datagen = ImageDataGenerator(rescale = 1./255)"
   ]
  },
  {
   "cell_type": "code",
   "execution_count": 126,
   "id": "19dd919a",
   "metadata": {},
   "outputs": [
    {
     "name": "stdout",
     "output_type": "stream",
     "text": [
      "Found 4711 images belonging to 6 classes.\n",
      "Found 1751 images belonging to 6 classes.\n",
      "Found 523 images belonging to 6 classes.\n"
     ]
    }
   ],
   "source": [
    "train_generator = train_datagen.flow_from_directory(\n",
    "    train_path,\n",
    "    target_size = (200, 200),\n",
    "    batch_size = 32,\n",
    "    color_mode = 'rgb',\n",
    "    class_mode = 'categorical')\n",
    "\n",
    "test_generator = test_datagen.flow_from_directory(\n",
    "    test_path,\n",
    "    target_size = (200, 200),\n",
    "    batch_size = 32,\n",
    "    color_mode = 'rgb',\n",
    "    class_mode = 'categorical')\n",
    "\n",
    "val_generator = val_datagen.flow_from_directory(\n",
    "    val_path,\n",
    "    target_size = (200, 200),\n",
    "    batch_size = 32,\n",
    "    color_mode = 'rgb',\n",
    "    class_mode = 'categorical')"
   ]
  },
  {
   "cell_type": "code",
   "execution_count": 127,
   "id": "6846462f",
   "metadata": {},
   "outputs": [
    {
     "data": {
      "text/plain": [
       "['Apple Braeburn',\n",
       " 'Apple Crimson Snow',\n",
       " 'Apple Golden',\n",
       " 'Apple Granny Smith',\n",
       " 'Apple Pink Lady',\n",
       " 'Apple Red Delicious']"
      ]
     },
     "execution_count": 127,
     "metadata": {},
     "output_type": "execute_result"
    }
   ],
   "source": [
    "train_class_names = list(train_generator.class_indices.keys())\n",
    "train_class_names"
   ]
  },
  {
   "cell_type": "code",
   "execution_count": 128,
   "id": "a14152e8",
   "metadata": {},
   "outputs": [
    {
     "data": {
      "text/plain": [
       "['Apple Braeburn',\n",
       " 'Apple Crimson Snow',\n",
       " 'Apple Golden',\n",
       " 'Apple Granny Smith',\n",
       " 'Apple Pink Lady',\n",
       " 'Apple Red Delicious']"
      ]
     },
     "execution_count": 128,
     "metadata": {},
     "output_type": "execute_result"
    }
   ],
   "source": [
    "test_class_names = list(test_generator.class_indices.keys())\n",
    "test_class_names"
   ]
  },
  {
   "cell_type": "code",
   "execution_count": 129,
   "id": "135f09d1",
   "metadata": {},
   "outputs": [
    {
     "data": {
      "text/plain": [
       "['Apple Braeburn',\n",
       " 'Apple Crimson Snow',\n",
       " 'Apple Golden',\n",
       " 'Apple Granny Smith',\n",
       " 'Apple Pink Lady',\n",
       " 'Apple Red Delicious']"
      ]
     },
     "execution_count": 129,
     "metadata": {},
     "output_type": "execute_result"
    }
   ],
   "source": [
    "val_class_names = list(val_generator.class_indices.keys())\n",
    "val_class_names"
   ]
  },
  {
   "cell_type": "markdown",
   "id": "06dd1bb1",
   "metadata": {},
   "source": [
    "## Begin Modeling"
   ]
  },
  {
   "cell_type": "code",
   "execution_count": 130,
   "id": "6528e7dd",
   "metadata": {},
   "outputs": [],
   "source": [
    "# create the data sets\n",
    "train_images, train_labels = next(train_generator)\n",
    "test_images, test_labels = next(test_generator)\n",
    "val_images, val_labels = next(val_generator)"
   ]
  },
  {
   "cell_type": "code",
   "execution_count": 131,
   "id": "be756f6c",
   "metadata": {},
   "outputs": [],
   "source": [
    "train_img = train_images.reshape(train_images.shape[0], -1)\n",
    "test_img = test_images.reshape(test_images.shape[0], -1)\n",
    "val_img = val_images.reshape(val_images.shape[0], -1)"
   ]
  },
  {
   "cell_type": "code",
   "execution_count": 132,
   "id": "1d962fa7",
   "metadata": {},
   "outputs": [
    {
     "name": "stdout",
     "output_type": "stream",
     "text": [
      "(32, 120000)\n",
      "(32, 120000)\n",
      "(32, 120000)\n"
     ]
    }
   ],
   "source": [
    "print(train_img.shape)\n",
    "print(test_img.shape)\n",
    "print(val_img.shape)"
   ]
  },
  {
   "cell_type": "code",
   "execution_count": 133,
   "id": "17ee0a39",
   "metadata": {},
   "outputs": [],
   "source": [
    "train_y = np.reshape(train_labels[:,0], (32,1))\n",
    "test_y = np.reshape(test_labels[:,0], (32,1))\n",
    "val_y = np.reshape(val_labels[:,0], (32,1))"
   ]
  },
  {
   "cell_type": "code",
   "execution_count": 134,
   "id": "6982a8bd",
   "metadata": {},
   "outputs": [],
   "source": [
    "np.random.seed(3)\n",
    "baseline_model = models.Sequential()\n",
    "baseline_model.add(layers.Dense(20, activation='relu', input_shape=(120000,))) # 2 hidden layers\n",
    "baseline_model.add(layers.Dense(7, activation='relu'))\n",
    "baseline_model.add(layers.Dense(5, activation='relu'))\n",
    "baseline_model.add(layers.Dense(1, activation='sigmoid'))"
   ]
  },
  {
   "cell_type": "code",
   "execution_count": 135,
   "id": "68c2ec73",
   "metadata": {},
   "outputs": [
    {
     "name": "stdout",
     "output_type": "stream",
     "text": [
      "Epoch 1/30\n",
      "1/1 [==============================] - ETA: 0s - loss: 0.5605 - accuracy: 0.7500"
     ]
    },
    {
     "name": "stderr",
     "output_type": "stream",
     "text": [
      "2022-12-05 17:58:02.092902: I tensorflow/core/grappler/optimizers/custom_graph_optimizer_registry.cc:113] Plugin optimizer for device_type GPU is enabled.\n",
      "2022-12-05 17:58:02.262618: I tensorflow/core/grappler/optimizers/custom_graph_optimizer_registry.cc:113] Plugin optimizer for device_type GPU is enabled.\n"
     ]
    },
    {
     "name": "stdout",
     "output_type": "stream",
     "text": [
      "1/1 [==============================] - 0s 367ms/step - loss: 0.5605 - accuracy: 0.7500 - val_loss: 6.5075 - val_accuracy: 0.0312\n",
      "Epoch 2/30\n",
      "1/1 [==============================] - 0s 116ms/step - loss: 5.2685 - accuracy: 0.2500 - val_loss: 0.5758 - val_accuracy: 0.9688\n",
      "Epoch 3/30\n",
      "1/1 [==============================] - 0s 99ms/step - loss: 0.6219 - accuracy: 0.7500 - val_loss: 0.3995 - val_accuracy: 0.9688\n",
      "Epoch 4/30\n",
      "1/1 [==============================] - 0s 105ms/step - loss: 0.5193 - accuracy: 0.8125 - val_loss: 0.2244 - val_accuracy: 0.9688\n",
      "Epoch 5/30\n",
      "1/1 [==============================] - 0s 99ms/step - loss: 0.5102 - accuracy: 0.7500 - val_loss: 0.2779 - val_accuracy: 0.9688\n",
      "Epoch 6/30\n",
      "1/1 [==============================] - 0s 98ms/step - loss: 0.4978 - accuracy: 0.7500 - val_loss: 0.2596 - val_accuracy: 0.9688\n",
      "Epoch 7/30\n",
      "1/1 [==============================] - 0s 99ms/step - loss: 0.4905 - accuracy: 0.7500 - val_loss: 0.2592 - val_accuracy: 0.9688\n",
      "Epoch 8/30\n",
      "1/1 [==============================] - 0s 99ms/step - loss: 0.4830 - accuracy: 0.7500 - val_loss: 0.2558 - val_accuracy: 0.9688\n",
      "Epoch 9/30\n",
      "1/1 [==============================] - 0s 99ms/step - loss: 0.4748 - accuracy: 0.7500 - val_loss: 0.2533 - val_accuracy: 0.9688\n",
      "Epoch 10/30\n",
      "1/1 [==============================] - 0s 106ms/step - loss: 0.4656 - accuracy: 0.7500 - val_loss: 0.2510 - val_accuracy: 0.9688\n",
      "Epoch 11/30\n",
      "1/1 [==============================] - 0s 99ms/step - loss: 0.4554 - accuracy: 0.7500 - val_loss: 0.2492 - val_accuracy: 0.9688\n",
      "Epoch 12/30\n",
      "1/1 [==============================] - 0s 99ms/step - loss: 0.4438 - accuracy: 0.7500 - val_loss: 0.2478 - val_accuracy: 0.9688\n",
      "Epoch 13/30\n",
      "1/1 [==============================] - 0s 100ms/step - loss: 0.4305 - accuracy: 0.7500 - val_loss: 0.2470 - val_accuracy: 0.9688\n",
      "Epoch 14/30\n",
      "1/1 [==============================] - 0s 99ms/step - loss: 0.4156 - accuracy: 0.7500 - val_loss: 0.2465 - val_accuracy: 0.9688\n",
      "Epoch 15/30\n",
      "1/1 [==============================] - 0s 99ms/step - loss: 0.3989 - accuracy: 0.7500 - val_loss: 0.2464 - val_accuracy: 0.9688\n",
      "Epoch 16/30\n",
      "1/1 [==============================] - 0s 100ms/step - loss: 0.3812 - accuracy: 0.7500 - val_loss: 0.2293 - val_accuracy: 0.9688\n",
      "Epoch 17/30\n",
      "1/1 [==============================] - 0s 99ms/step - loss: 0.3663 - accuracy: 0.7500 - val_loss: 0.2194 - val_accuracy: 0.9688\n",
      "Epoch 18/30\n",
      "1/1 [==============================] - 0s 98ms/step - loss: 0.3543 - accuracy: 0.7500 - val_loss: 0.2109 - val_accuracy: 0.9688\n",
      "Epoch 19/30\n",
      "1/1 [==============================] - 0s 99ms/step - loss: 0.3440 - accuracy: 0.7500 - val_loss: 0.2190 - val_accuracy: 0.9688\n",
      "Epoch 20/30\n",
      "1/1 [==============================] - 0s 99ms/step - loss: 0.3337 - accuracy: 0.7500 - val_loss: 0.1969 - val_accuracy: 0.9688\n",
      "Epoch 21/30\n",
      "1/1 [==============================] - 0s 99ms/step - loss: 0.3245 - accuracy: 0.7500 - val_loss: 0.2404 - val_accuracy: 0.9688\n",
      "Epoch 22/30\n",
      "1/1 [==============================] - 0s 98ms/step - loss: 0.3158 - accuracy: 0.7500 - val_loss: 0.1838 - val_accuracy: 0.9688\n",
      "Epoch 23/30\n",
      "1/1 [==============================] - 0s 99ms/step - loss: 0.3063 - accuracy: 0.7500 - val_loss: 0.2715 - val_accuracy: 0.9375\n",
      "Epoch 24/30\n",
      "1/1 [==============================] - 0s 99ms/step - loss: 0.3017 - accuracy: 0.8750 - val_loss: 0.1604 - val_accuracy: 0.9688\n",
      "Epoch 25/30\n",
      "1/1 [==============================] - 0s 98ms/step - loss: 0.2973 - accuracy: 0.8438 - val_loss: 0.3169 - val_accuracy: 0.9062\n",
      "Epoch 26/30\n",
      "1/1 [==============================] - 0s 99ms/step - loss: 0.3149 - accuracy: 1.0000 - val_loss: 0.1025 - val_accuracy: 0.9688\n",
      "Epoch 27/30\n",
      "1/1 [==============================] - 0s 97ms/step - loss: 0.5049 - accuracy: 0.7500 - val_loss: 0.5682 - val_accuracy: 0.5625\n",
      "Epoch 28/30\n",
      "1/1 [==============================] - 0s 99ms/step - loss: 0.4995 - accuracy: 0.8125 - val_loss: 0.1065 - val_accuracy: 0.9688\n",
      "Epoch 29/30\n",
      "1/1 [==============================] - 0s 99ms/step - loss: 0.3929 - accuracy: 0.7500 - val_loss: 0.4687 - val_accuracy: 0.7500\n",
      "Epoch 30/30\n",
      "1/1 [==============================] - 0s 100ms/step - loss: 0.4174 - accuracy: 0.9375 - val_loss: 0.1033 - val_accuracy: 0.9688\n"
     ]
    }
   ],
   "source": [
    "baseline_model.compile(optimizer='sgd',\n",
    "              loss='binary_crossentropy',\n",
    "              metrics=['accuracy'])\n",
    "\n",
    "histoire = baseline_model.fit(train_img,\n",
    "                    train_y,\n",
    "                    epochs = 30,\n",
    "                    batch_size = 32,\n",
    "                    validation_data = (val_img, val_y))"
   ]
  },
  {
   "cell_type": "code",
   "execution_count": 136,
   "id": "360a7259",
   "metadata": {},
   "outputs": [],
   "source": [
    "# sz = 200\n",
    "\n",
    "# # Initializing the CNN\n",
    "# model1 = Sequential()\n",
    "\n",
    "# # First convolution layer and pooling\n",
    "# model1.add(Convolution2D(32, (3, 3), input_shape=(sz, sz, 3), activation='relu'))\n",
    "# model1.add(MaxPooling2D(pool_size = (2, 2)))\n",
    "\n",
    "# # Second convolution layer and pooling\n",
    "# model1.add(Convolution2D(32, (3, 3), activation='relu'))\n",
    "# # input_shape is going to be the pooled feature maps from the previous convolution layer\n",
    "# model1.add(MaxPooling2D(pool_size=(2, 2)))\n",
    "\n",
    "# # Flattening the layers\n",
    "# model1.add(Flatten(input_shape = (28,28)))\n",
    "\n",
    "# # Adding a fully connected layer\n",
    "# model1.add(Dense(units=96, activation='relu'))\n",
    "# model1.add(Dropout(0.40))\n",
    "# model1.add(Dense(units=32, activation='relu'))\n",
    "# model1.add(Dense(units=24, activation='softmax')) # softmax for more than 2"
   ]
  },
  {
   "cell_type": "code",
   "execution_count": 137,
   "id": "c88208d1",
   "metadata": {},
   "outputs": [],
   "source": [
    "# model1.summary()"
   ]
  },
  {
   "cell_type": "code",
   "execution_count": 138,
   "id": "1e310229",
   "metadata": {},
   "outputs": [],
   "source": [
    "# model1.compile(optimizer='adam',\n",
    "#                loss = tf.keras.losses.SparseCategoricalCrossentropy(from_logits=False),\n",
    "#                metrics=['accuracy'])"
   ]
  },
  {
   "cell_type": "code",
   "execution_count": 139,
   "id": "470da53c",
   "metadata": {},
   "outputs": [],
   "source": [
    "# history = model1.fit(\n",
    "#     train_generator,\n",
    "#     validation_data = test_generator,\n",
    "#     epochs = 5\n",
    "# )"
   ]
  },
  {
   "cell_type": "code",
   "execution_count": null,
   "id": "bc3c8e8c",
   "metadata": {},
   "outputs": [],
   "source": []
  }
 ],
 "metadata": {
  "kernelspec": {
   "display_name": "tensorflow_env",
   "language": "python",
   "name": "tensorflow_env"
  },
  "language_info": {
   "codemirror_mode": {
    "name": "ipython",
    "version": 3
   },
   "file_extension": ".py",
   "mimetype": "text/x-python",
   "name": "python",
   "nbconvert_exporter": "python",
   "pygments_lexer": "ipython3",
   "version": "3.8.15"
  }
 },
 "nbformat": 4,
 "nbformat_minor": 5
}
