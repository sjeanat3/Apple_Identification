{
 "cells": [
  {
   "cell_type": "markdown",
   "id": "4b40087c",
   "metadata": {},
   "source": [
    "## Import Necessary Libraries"
   ]
  },
  {
   "cell_type": "code",
   "execution_count": 364,
   "id": "3ad423c2",
   "metadata": {},
   "outputs": [],
   "source": [
    "import pandas as pd\n",
    "import tensorflow as tf\n",
    "import os\n",
    "import numpy as np\n",
    "from tensorflow import keras\n",
    "from tensorflow.keras.models import Sequential, Model, load_model\n",
    "from tensorflow.keras.layers import Dense, Dropout, Convolution2D, MaxPooling2D, Flatten, GlobalAveragePooling2D\n",
    "from keras import models, layers\n",
    "from keras_preprocessing.image import load_img, array_to_img, img_to_array, ImageDataGenerator\n",
    "from tensorflow.keras.optimizers import  Adam\n",
    "from matplotlib import pyplot as plt\n",
    "import matplotlib.image as mpimg\n",
    "%matplotlib inline\n",
    "from sklearn.metrics import plot_confusion_matrix, confusion_matrix\n",
    "import itertools"
   ]
  },
  {
   "cell_type": "markdown",
   "id": "7c716d0a",
   "metadata": {},
   "source": [
    "## Load the Files of Images"
   ]
  },
  {
   "cell_type": "code",
   "execution_count": 365,
   "id": "2c434633",
   "metadata": {},
   "outputs": [],
   "source": [
    "datagen = ImageDataGenerator()"
   ]
  },
  {
   "cell_type": "code",
   "execution_count": 366,
   "id": "0895d807",
   "metadata": {},
   "outputs": [],
   "source": [
    "train_path =  './data/fruits-360_dataset/fruits-360/Training'\n",
    "test_path = './data/fruits-360_dataset/fruits-360/Test'\n",
    "val_path = './data/fruits-360_dataset/fruits-360/Validation'"
   ]
  },
  {
   "cell_type": "code",
   "execution_count": 367,
   "id": "493a934d",
   "metadata": {},
   "outputs": [],
   "source": [
    "train_datagen = ImageDataGenerator(rescale = 1./255,\n",
    "                                   shear_range = 0.2, \n",
    "                                   zoom_range = 0.2,\n",
    "                                   horizontal_flip = True)\n",
    "\n",
    "test_datagen = ImageDataGenerator(rescale = 1./255)\n",
    "val_datagen = ImageDataGenerator(rescale = 1./255)"
   ]
  },
  {
   "cell_type": "code",
   "execution_count": 368,
   "id": "19dd919a",
   "metadata": {},
   "outputs": [
    {
     "name": "stdout",
     "output_type": "stream",
     "text": [
      "Found 4711 images belonging to 6 classes.\n",
      "Found 1751 images belonging to 6 classes.\n",
      "Found 523 images belonging to 6 classes.\n"
     ]
    }
   ],
   "source": [
    "train_generator = train_datagen.flow_from_directory(\n",
    "    train_path,\n",
    "    target_size = (200, 200),\n",
    "    batch_size = 30,\n",
    "    color_mode = 'rgb',\n",
    "    class_mode = 'categorical')\n",
    "\n",
    "test_generator = test_datagen.flow_from_directory(\n",
    "    test_path,\n",
    "    target_size = (200, 200),\n",
    "    batch_size = 30,\n",
    "    color_mode = 'rgb',\n",
    "    class_mode = 'categorical')\n",
    "\n",
    "val_generator = val_datagen.flow_from_directory(\n",
    "    val_path,\n",
    "    target_size = (200, 200),\n",
    "    batch_size = 30,\n",
    "    color_mode = 'rgb',\n",
    "    class_mode = 'categorical')"
   ]
  },
  {
   "cell_type": "code",
   "execution_count": 369,
   "id": "6846462f",
   "metadata": {},
   "outputs": [
    {
     "data": {
      "text/plain": [
       "['Apple Braeburn',\n",
       " 'Apple Crimson Snow',\n",
       " 'Apple Golden',\n",
       " 'Apple Granny Smith',\n",
       " 'Apple Pink Lady',\n",
       " 'Apple Red Delicious']"
      ]
     },
     "execution_count": 369,
     "metadata": {},
     "output_type": "execute_result"
    }
   ],
   "source": [
    "train_class_names = list(train_generator.class_indices.keys())\n",
    "train_class_names"
   ]
  },
  {
   "cell_type": "code",
   "execution_count": 370,
   "id": "a14152e8",
   "metadata": {},
   "outputs": [
    {
     "data": {
      "text/plain": [
       "['Apple Braeburn',\n",
       " 'Apple Crimson Snow',\n",
       " 'Apple Golden',\n",
       " 'Apple Granny Smith',\n",
       " 'Apple Pink Lady',\n",
       " 'Apple Red Delicious']"
      ]
     },
     "execution_count": 370,
     "metadata": {},
     "output_type": "execute_result"
    }
   ],
   "source": [
    "test_class_names = list(test_generator.class_indices.keys())\n",
    "test_class_names"
   ]
  },
  {
   "cell_type": "code",
   "execution_count": 371,
   "id": "135f09d1",
   "metadata": {},
   "outputs": [
    {
     "data": {
      "text/plain": [
       "['Apple Braeburn',\n",
       " 'Apple Crimson Snow',\n",
       " 'Apple Golden',\n",
       " 'Apple Granny Smith',\n",
       " 'Apple Pink Lady',\n",
       " 'Apple Red Delicious']"
      ]
     },
     "execution_count": 371,
     "metadata": {},
     "output_type": "execute_result"
    }
   ],
   "source": [
    "val_class_names = list(val_generator.class_indices.keys())\n",
    "val_class_names"
   ]
  },
  {
   "cell_type": "markdown",
   "id": "06dd1bb1",
   "metadata": {},
   "source": [
    "## Begin Modeling"
   ]
  },
  {
   "cell_type": "markdown",
   "id": "19b89396",
   "metadata": {},
   "source": [
    "#### Baseline Model"
   ]
  },
  {
   "cell_type": "code",
   "execution_count": 372,
   "id": "6528e7dd",
   "metadata": {},
   "outputs": [],
   "source": [
    "# create the data sets\n",
    "train_images, train_labels = next(train_generator)\n",
    "test_images, test_labels = next(test_generator)\n",
    "val_images, val_labels = next(val_generator)"
   ]
  },
  {
   "cell_type": "code",
   "execution_count": 373,
   "id": "be756f6c",
   "metadata": {},
   "outputs": [],
   "source": [
    "# train_img = train_images.reshape(train_images.shape[0], -1)\n",
    "# test_img = test_images.reshape(test_images.shape[0], -1)\n",
    "# val_img = val_images.reshape(val_images.shape[0], -1)"
   ]
  },
  {
   "cell_type": "code",
   "execution_count": 374,
   "id": "1d962fa7",
   "metadata": {},
   "outputs": [
    {
     "name": "stdout",
     "output_type": "stream",
     "text": [
      "(30, 120000)\n",
      "(30, 120000)\n",
      "(30, 120000)\n"
     ]
    }
   ],
   "source": [
    "print(train_img.shape)\n",
    "print(test_img.shape)\n",
    "print(val_img.shape)"
   ]
  },
  {
   "cell_type": "code",
   "execution_count": 375,
   "id": "b18f78de",
   "metadata": {},
   "outputs": [
    {
     "data": {
      "text/plain": [
       "(30, 200, 200, 3)"
      ]
     },
     "execution_count": 375,
     "metadata": {},
     "output_type": "execute_result"
    }
   ],
   "source": [
    "train_images.shape"
   ]
  },
  {
   "cell_type": "code",
   "execution_count": 376,
   "id": "4f0d66dc",
   "metadata": {},
   "outputs": [
    {
     "data": {
      "text/plain": [
       "(30, 6)"
      ]
     },
     "execution_count": 376,
     "metadata": {},
     "output_type": "execute_result"
    }
   ],
   "source": [
    "train_labels.shape"
   ]
  },
  {
   "cell_type": "code",
   "execution_count": 377,
   "id": "17ee0a39",
   "metadata": {},
   "outputs": [],
   "source": [
    "train_y = np.reshape(train_labels[:,0], (30, ))\n",
    "test_y = np.reshape(test_labels[:,0], (30, ))\n",
    "val_y = np.reshape(val_labels[:,0], (30, ))"
   ]
  },
  {
   "cell_type": "code",
   "execution_count": 378,
   "id": "6982a8bd",
   "metadata": {},
   "outputs": [],
   "source": [
    "np.random.seed(3)\n",
    "baseline_model = models.Sequential()\n",
    "baseline_model.add(layers.Conv2D(20, (3,3), activation='relu', input_shape=(200, 200, 3))) # 2 hidden layers\n",
    "baseline_model.add(layers.MaxPooling2D(2,2))\n",
    "baseline_model.add(layers.Flatten())\n",
    "baseline_model.add(layers.Dense(10, activation='relu'))\n",
    "baseline_model.add(layers.Dense(10, activation='relu'))\n",
    "baseline_model.add(layers.Dense(6, activation='softmax'))"
   ]
  },
  {
   "cell_type": "code",
   "execution_count": 379,
   "id": "fd551460",
   "metadata": {},
   "outputs": [
    {
     "data": {
      "text/plain": [
       "(30,)"
      ]
     },
     "execution_count": 379,
     "metadata": {},
     "output_type": "execute_result"
    }
   ],
   "source": [
    "train_y.shape"
   ]
  },
  {
   "cell_type": "code",
   "execution_count": 380,
   "id": "e413475d",
   "metadata": {},
   "outputs": [
    {
     "data": {
      "text/plain": [
       "(30, 120000)"
      ]
     },
     "execution_count": 380,
     "metadata": {},
     "output_type": "execute_result"
    }
   ],
   "source": [
    "train_img.shape"
   ]
  },
  {
   "cell_type": "code",
   "execution_count": 381,
   "id": "23462873",
   "metadata": {},
   "outputs": [
    {
     "data": {
      "text/plain": [
       "(30, 120000)"
      ]
     },
     "execution_count": 381,
     "metadata": {},
     "output_type": "execute_result"
    }
   ],
   "source": [
    "val_img.shape"
   ]
  },
  {
   "cell_type": "code",
   "execution_count": 382,
   "id": "5c9d5f4a",
   "metadata": {},
   "outputs": [
    {
     "data": {
      "text/plain": [
       "(30,)"
      ]
     },
     "execution_count": 382,
     "metadata": {},
     "output_type": "execute_result"
    }
   ],
   "source": [
    "val_y.shape"
   ]
  },
  {
   "cell_type": "code",
   "execution_count": 383,
   "id": "68c2ec73",
   "metadata": {},
   "outputs": [
    {
     "name": "stdout",
     "output_type": "stream",
     "text": [
      "Epoch 1/30\n",
      "1/2 [==============>...............] - ETA: 0s - loss: 1.8503 - accuracy: 0.2000"
     ]
    },
    {
     "name": "stderr",
     "output_type": "stream",
     "text": [
      "2022-12-06 14:25:07.363684: I tensorflow/core/grappler/optimizers/custom_graph_optimizer_registry.cc:113] Plugin optimizer for device_type GPU is enabled.\n",
      "2022-12-06 14:25:07.551807: I tensorflow/core/grappler/optimizers/custom_graph_optimizer_registry.cc:113] Plugin optimizer for device_type GPU is enabled.\n"
     ]
    },
    {
     "name": "stdout",
     "output_type": "stream",
     "text": [
      "2/2 [==============================] - 0s 157ms/step - loss: 2.1866 - accuracy: 0.2333 - val_loss: 1.7939 - val_accuracy: 0.1333\n",
      "Epoch 2/30\n",
      "2/2 [==============================] - 0s 49ms/step - loss: 2.0012 - accuracy: 0.2000 - val_loss: 1.7903 - val_accuracy: 0.1667\n",
      "Epoch 3/30\n",
      "2/2 [==============================] - 0s 44ms/step - loss: 1.7892 - accuracy: 0.2000 - val_loss: 1.7884 - val_accuracy: 0.1667\n",
      "Epoch 4/30\n",
      "2/2 [==============================] - 0s 46ms/step - loss: 1.7873 - accuracy: 0.1667 - val_loss: 1.7865 - val_accuracy: 0.4667\n",
      "Epoch 5/30\n",
      "2/2 [==============================] - 0s 47ms/step - loss: 1.7857 - accuracy: 0.3333 - val_loss: 1.7850 - val_accuracy: 0.4667\n",
      "Epoch 6/30\n",
      "2/2 [==============================] - 0s 44ms/step - loss: 1.7838 - accuracy: 0.3333 - val_loss: 1.7834 - val_accuracy: 0.4667\n",
      "Epoch 7/30\n",
      "2/2 [==============================] - 0s 45ms/step - loss: 1.7821 - accuracy: 0.3333 - val_loss: 1.7815 - val_accuracy: 0.4667\n",
      "Epoch 8/30\n",
      "2/2 [==============================] - 0s 45ms/step - loss: 1.7803 - accuracy: 0.3333 - val_loss: 1.7800 - val_accuracy: 0.4667\n",
      "Epoch 9/30\n",
      "2/2 [==============================] - 0s 46ms/step - loss: 1.7785 - accuracy: 0.3333 - val_loss: 1.7782 - val_accuracy: 0.4667\n",
      "Epoch 10/30\n",
      "2/2 [==============================] - 0s 46ms/step - loss: 1.7767 - accuracy: 0.3333 - val_loss: 1.7765 - val_accuracy: 0.4667\n",
      "Epoch 11/30\n",
      "2/2 [==============================] - 0s 48ms/step - loss: 1.7750 - accuracy: 0.3333 - val_loss: 1.7748 - val_accuracy: 0.4667\n",
      "Epoch 12/30\n",
      "2/2 [==============================] - 0s 50ms/step - loss: 1.7733 - accuracy: 0.3333 - val_loss: 1.7731 - val_accuracy: 0.4667\n",
      "Epoch 13/30\n",
      "2/2 [==============================] - 0s 48ms/step - loss: 1.7715 - accuracy: 0.3333 - val_loss: 1.7715 - val_accuracy: 0.4667\n",
      "Epoch 14/30\n",
      "2/2 [==============================] - 0s 44ms/step - loss: 1.7699 - accuracy: 0.3333 - val_loss: 1.7699 - val_accuracy: 0.4667\n",
      "Epoch 15/30\n",
      "2/2 [==============================] - 0s 44ms/step - loss: 1.7682 - accuracy: 0.3333 - val_loss: 1.7685 - val_accuracy: 0.4667\n",
      "Epoch 16/30\n",
      "2/2 [==============================] - 0s 45ms/step - loss: 1.7667 - accuracy: 0.3333 - val_loss: 1.7666 - val_accuracy: 0.4667\n",
      "Epoch 17/30\n",
      "2/2 [==============================] - 0s 45ms/step - loss: 1.7650 - accuracy: 0.3333 - val_loss: 1.7654 - val_accuracy: 0.4667\n",
      "Epoch 18/30\n",
      "2/2 [==============================] - 0s 45ms/step - loss: 1.7635 - accuracy: 0.3333 - val_loss: 1.7637 - val_accuracy: 0.4667\n",
      "Epoch 19/30\n",
      "2/2 [==============================] - 0s 46ms/step - loss: 1.7618 - accuracy: 0.3333 - val_loss: 1.7624 - val_accuracy: 0.4667\n",
      "Epoch 20/30\n",
      "2/2 [==============================] - 0s 46ms/step - loss: 1.7602 - accuracy: 0.3333 - val_loss: 1.7605 - val_accuracy: 0.4667\n",
      "Epoch 21/30\n",
      "2/2 [==============================] - 0s 47ms/step - loss: 1.7585 - accuracy: 0.3333 - val_loss: 1.7590 - val_accuracy: 0.4667\n",
      "Epoch 22/30\n",
      "2/2 [==============================] - 0s 45ms/step - loss: 1.7571 - accuracy: 0.3333 - val_loss: 1.7580 - val_accuracy: 0.4667\n",
      "Epoch 23/30\n",
      "2/2 [==============================] - 0s 45ms/step - loss: 1.7555 - accuracy: 0.3333 - val_loss: 1.7563 - val_accuracy: 0.4667\n",
      "Epoch 24/30\n",
      "2/2 [==============================] - 0s 45ms/step - loss: 1.7539 - accuracy: 0.3333 - val_loss: 1.7549 - val_accuracy: 0.4667\n",
      "Epoch 25/30\n",
      "2/2 [==============================] - 0s 45ms/step - loss: 1.7526 - accuracy: 0.3333 - val_loss: 1.7538 - val_accuracy: 0.4667\n",
      "Epoch 26/30\n",
      "2/2 [==============================] - 0s 45ms/step - loss: 1.7510 - accuracy: 0.3333 - val_loss: 1.7524 - val_accuracy: 0.4667\n",
      "Epoch 27/30\n",
      "2/2 [==============================] - 0s 43ms/step - loss: 1.7496 - accuracy: 0.3333 - val_loss: 1.7506 - val_accuracy: 0.4667\n",
      "Epoch 28/30\n",
      "2/2 [==============================] - 0s 43ms/step - loss: 1.7481 - accuracy: 0.3333 - val_loss: 1.7487 - val_accuracy: 0.4667\n",
      "Epoch 29/30\n",
      "2/2 [==============================] - 0s 43ms/step - loss: 1.7463 - accuracy: 0.3333 - val_loss: 1.7473 - val_accuracy: 0.4667\n",
      "Epoch 30/30\n",
      "2/2 [==============================] - 0s 44ms/step - loss: 1.7448 - accuracy: 0.3333 - val_loss: 1.7458 - val_accuracy: 0.4667\n"
     ]
    }
   ],
   "source": [
    "baseline_model.compile(optimizer='sgd',\n",
    "              loss = 'categorical_crossentropy',\n",
    "              metrics = ['accuracy'])\n",
    "\n",
    "baseline_histoire = baseline_model.fit(train_images,\n",
    "                    train_labels,\n",
    "                    epochs = 30,\n",
    "                    batch_size = 20,\n",
    "                    validation_data = (val_images, val_labels))"
   ]
  },
  {
   "cell_type": "code",
   "execution_count": 384,
   "id": "6cb71f50",
   "metadata": {},
   "outputs": [
    {
     "name": "stdout",
     "output_type": "stream",
     "text": [
      "1/1 [==============================] - 0s 37ms/step - loss: 1.7436 - accuracy: 0.3333\n"
     ]
    }
   ],
   "source": [
    "baseline_results_train = baseline_model.evaluate(train_images, train_labels)"
   ]
  },
  {
   "cell_type": "code",
   "execution_count": 385,
   "id": "7ebee621",
   "metadata": {},
   "outputs": [
    {
     "name": "stdout",
     "output_type": "stream",
     "text": [
      "1/1 [==============================] - 0s 32ms/step - loss: 1.7618 - accuracy: 0.4333\n"
     ]
    }
   ],
   "source": [
    "baseline_results_test = baseline_model.evaluate(test_images, test_labels)"
   ]
  },
  {
   "cell_type": "code",
   "execution_count": null,
   "id": "b8e8d19d",
   "metadata": {},
   "outputs": [],
   "source": []
  },
  {
   "cell_type": "code",
   "execution_count": 386,
   "id": "8f469382",
   "metadata": {},
   "outputs": [
    {
     "name": "stdout",
     "output_type": "stream",
     "text": [
      "Baseline Train Results: [1.7435798645019531, 0.3333333432674408]\n",
      "Baseline Test Results: [1.7617559432983398, 0.4333333671092987]\n"
     ]
    }
   ],
   "source": [
    "print(f'Baseline Train Results: {baseline_results_train}')\n",
    "print(f'Baseline Test Results: {baseline_results_test}')"
   ]
  },
  {
   "cell_type": "markdown",
   "id": "d89b21cb",
   "metadata": {},
   "source": [
    "#### Baseline Model Visualizations"
   ]
  },
  {
   "cell_type": "markdown",
   "id": "251ddb9a",
   "metadata": {},
   "source": [
    "#### Graphing Accuracy and Loss Metrics"
   ]
  },
  {
   "cell_type": "code",
   "execution_count": 387,
   "id": "f391b318",
   "metadata": {},
   "outputs": [
    {
     "data": {
      "image/png": "[encoded data removed]",
      "text/plain": [
       "<Figure size 640x480 with 1 Axes>"
      ]
     },
     "metadata": {},
     "output_type": "display_data"
    },
    {
     "data": {
      "image/png": "[encoded data removed]",
      "text/plain": [
       "<Figure size 640x480 with 1 Axes>"
      ]
     },
     "metadata": {},
     "output_type": "display_data"
    }
   ],
   "source": [
    "# Plot history\n",
    "acc = baseline_histoire.history['accuracy']\n",
    "val_acc = baseline_histoire.history['val_accuracy']\n",
    "loss = baseline_histoire.history['loss']\n",
    "val_loss = baseline_histoire.history['val_loss']\n",
    "epochs = range(len(acc))\n",
    "plt.plot(epochs, acc, 'bo', label='Training acc')\n",
    "plt.plot(epochs, val_acc, 'b', label='Validation acc')\n",
    "plt.title('Training and validation accuracy')\n",
    "plt.legend()\n",
    "plt.figure()\n",
    "plt.plot(epochs, loss, 'bo', label='Training loss')\n",
    "plt.plot(epochs, val_loss, 'b', label='Validation loss')\n",
    "plt.title('Training and validation loss')\n",
    "plt.legend()\n",
    "plt.show();\n"
   ]
  },
  {
   "cell_type": "markdown",
   "id": "77908369",
   "metadata": {},
   "source": [
    "#### Confusion Matrix"
   ]
  },
  {
   "cell_type": "code",
   "execution_count": 388,
   "id": "98020715",
   "metadata": {},
   "outputs": [
    {
     "data": {
      "text/plain": [
       "(30, 200, 200, 3)"
      ]
     },
     "execution_count": 388,
     "metadata": {},
     "output_type": "execute_result"
    }
   ],
   "source": [
    "test_images.shape"
   ]
  },
  {
   "cell_type": "code",
   "execution_count": 389,
   "id": "3dd3f714",
   "metadata": {},
   "outputs": [
    {
     "data": {
      "text/plain": [
       "(30, 120000)"
      ]
     },
     "execution_count": 389,
     "metadata": {},
     "output_type": "execute_result"
    }
   ],
   "source": [
    "test_img.shape"
   ]
  },
  {
   "cell_type": "code",
   "execution_count": 390,
   "id": "a5b12e93",
   "metadata": {},
   "outputs": [
    {
     "name": "stderr",
     "output_type": "stream",
     "text": [
      "2022-12-06 14:25:10.252033: I tensorflow/core/grappler/optimizers/custom_graph_optimizer_registry.cc:113] Plugin optimizer for device_type GPU is enabled.\n"
     ]
    }
   ],
   "source": [
    "baseline_predictions = baseline_model.predict(x = test_images, batch_size = 32, verbose = 0)\n",
    "baseline_rounded_predictions = np.argmax(baseline_predictions, axis = -1)\n",
    "baseline_rounded_labels = np.argmax(test_labels, axis=1)\n",
    "baseline_cm = confusion_matrix(y_true = baseline_rounded_labels, y_pred = baseline_rounded_predictions)"
   ]
  },
  {
   "cell_type": "code",
   "execution_count": 391,
   "id": "3364026e",
   "metadata": {},
   "outputs": [
    {
     "data": {
      "text/plain": [
       "array([[0.17055556, 0.15224586, 0.17154555, 0.1718693 , 0.14927734,\n",
       "        0.18450639],\n",
       "       [0.17055556, 0.15224586, 0.17154555, 0.1718693 , 0.14927734,\n",
       "        0.18450639],\n",
       "       [0.17055556, 0.15224586, 0.17154555, 0.1718693 , 0.14927734,\n",
       "        0.18450639],\n",
       "       [0.17055556, 0.15224586, 0.17154555, 0.1718693 , 0.14927734,\n",
       "        0.18450639],\n",
       "       [0.17055556, 0.15224586, 0.17154555, 0.1718693 , 0.14927734,\n",
       "        0.18450639],\n",
       "       [0.17055556, 0.15224586, 0.17154555, 0.1718693 , 0.14927734,\n",
       "        0.18450639],\n",
       "       [0.17055556, 0.15224586, 0.17154555, 0.1718693 , 0.14927734,\n",
       "        0.18450639],\n",
       "       [0.17055556, 0.15224586, 0.17154555, 0.1718693 , 0.14927734,\n",
       "        0.18450639],\n",
       "       [0.17055556, 0.15224586, 0.17154555, 0.1718693 , 0.14927734,\n",
       "        0.18450639],\n",
       "       [0.17055556, 0.15224586, 0.17154555, 0.1718693 , 0.14927734,\n",
       "        0.18450639],\n",
       "       [0.17055556, 0.15224586, 0.17154555, 0.1718693 , 0.14927734,\n",
       "        0.18450639],\n",
       "       [0.17055556, 0.15224586, 0.17154555, 0.1718693 , 0.14927734,\n",
       "        0.18450639],\n",
       "       [0.17055556, 0.15224586, 0.17154555, 0.1718693 , 0.14927734,\n",
       "        0.18450639],\n",
       "       [0.17055556, 0.15224586, 0.17154555, 0.1718693 , 0.14927734,\n",
       "        0.18450639],\n",
       "       [0.17055556, 0.15224586, 0.17154555, 0.1718693 , 0.14927734,\n",
       "        0.18450639],\n",
       "       [0.17055556, 0.15224586, 0.17154555, 0.1718693 , 0.14927734,\n",
       "        0.18450639],\n",
       "       [0.17055556, 0.15224586, 0.17154555, 0.1718693 , 0.14927734,\n",
       "        0.18450639],\n",
       "       [0.17055556, 0.15224586, 0.17154555, 0.1718693 , 0.14927734,\n",
       "        0.18450639],\n",
       "       [0.17055556, 0.15224586, 0.17154555, 0.1718693 , 0.14927734,\n",
       "        0.18450639],\n",
       "       [0.17055556, 0.15224586, 0.17154555, 0.1718693 , 0.14927734,\n",
       "        0.18450639],\n",
       "       [0.17055556, 0.15224586, 0.17154555, 0.1718693 , 0.14927734,\n",
       "        0.18450639],\n",
       "       [0.17055556, 0.15224586, 0.17154555, 0.1718693 , 0.14927734,\n",
       "        0.18450639],\n",
       "       [0.17055556, 0.15224586, 0.17154555, 0.1718693 , 0.14927734,\n",
       "        0.18450639],\n",
       "       [0.17055556, 0.15224586, 0.17154555, 0.1718693 , 0.14927734,\n",
       "        0.18450639],\n",
       "       [0.17055556, 0.15224586, 0.17154555, 0.1718693 , 0.14927734,\n",
       "        0.18450639],\n",
       "       [0.17055556, 0.15224586, 0.17154555, 0.1718693 , 0.14927734,\n",
       "        0.18450639],\n",
       "       [0.17055556, 0.15224586, 0.17154555, 0.1718693 , 0.14927734,\n",
       "        0.18450639],\n",
       "       [0.17055556, 0.15224586, 0.17154555, 0.1718693 , 0.14927734,\n",
       "        0.18450639],\n",
       "       [0.17055556, 0.15224586, 0.17154555, 0.1718693 , 0.14927734,\n",
       "        0.18450639],\n",
       "       [0.17055556, 0.15224586, 0.17154555, 0.1718693 , 0.14927734,\n",
       "        0.18450639]], dtype=float32)"
      ]
     },
     "execution_count": 391,
     "metadata": {},
     "output_type": "execute_result"
    }
   ],
   "source": [
    "baseline_predictions"
   ]
  },
  {
   "cell_type": "code",
   "execution_count": 392,
   "id": "499b6588",
   "metadata": {},
   "outputs": [
    {
     "data": {
      "text/plain": [
       "array([5, 1, 2, 4, 4, 2, 5, 2, 4, 2, 1, 3, 1, 5, 5, 4, 5, 2, 2, 2, 5, 5,\n",
       "       2, 5, 5, 5, 5, 5, 5, 2])"
      ]
     },
     "execution_count": 392,
     "metadata": {},
     "output_type": "execute_result"
    }
   ],
   "source": [
    "baseline_rounded_labels"
   ]
  },
  {
   "cell_type": "code",
   "execution_count": 393,
   "id": "1394614d",
   "metadata": {},
   "outputs": [
    {
     "data": {
      "text/plain": [
       "array([5, 1, 2, 4, 4, 2, 5, 2, 4, 2, 1, 3, 1, 5, 5, 4, 5, 2, 2, 2, 5, 5,\n",
       "       2, 5, 5, 5, 5, 5, 5, 2])"
      ]
     },
     "execution_count": 393,
     "metadata": {},
     "output_type": "execute_result"
    }
   ],
   "source": [
    "baseline_rounded_labels"
   ]
  },
  {
   "cell_type": "code",
   "execution_count": 394,
   "id": "99eb995d",
   "metadata": {},
   "outputs": [
    {
     "data": {
      "text/plain": [
       "array([5, 5, 5, 5, 5, 5, 5, 5, 5, 5, 5, 5, 5, 5, 5, 5, 5, 5, 5, 5, 5, 5,\n",
       "       5, 5, 5, 5, 5, 5, 5, 5])"
      ]
     },
     "execution_count": 394,
     "metadata": {},
     "output_type": "execute_result"
    }
   ],
   "source": [
    "baseline_rounded_predictions"
   ]
  },
  {
   "cell_type": "code",
   "execution_count": 395,
   "id": "50f4de59",
   "metadata": {},
   "outputs": [],
   "source": [
    "def plot_confusion_matrix_func(cm, classes,\n",
    "                        normalize=False,\n",
    "                        title='Confusion matrix',\n",
    "                        cmap=plt.cm.Blues):\n",
    "    \"\"\"\n",
    "    This function prints and plots the confusion matrix.\n",
    "    Normalization can be applied by setting `normalize=True`.\n",
    "    \"\"\"\n",
    "    plt.imshow(cm, interpolation='none', cmap=cmap)\n",
    "    plt.title(title)\n",
    "    plt.colorbar()\n",
    "    tick_marks = np.arange(len(classes))\n",
    "    plt.xticks(tick_marks, classes, rotation=45)\n",
    "    plt.yticks(tick_marks, classes)\n",
    "\n",
    "    if normalize:\n",
    "        cm = cm.astype('float') / cm.sum(axis=1)[:, np.newaxis]\n",
    "        print(\"Normalized confusion matrix\")\n",
    "    else:\n",
    "        print('Confusion matrix, without normalization')\n",
    "\n",
    "    print(cm)\n",
    "\n",
    "    thresh = cm.max() / 2.\n",
    "    for i, j in itertools.product(range(cm.shape[0]), range(cm.shape[1])):\n",
    "        plt.text(j, i, cm[i, j],\n",
    "            horizontalalignment=\"center\",\n",
    "            color=\"white\" if cm[i, j] > thresh else \"black\")"
   ]
  },
  {
   "cell_type": "code",
   "execution_count": 396,
   "id": "e2c22ead",
   "metadata": {},
   "outputs": [],
   "source": [
    "cm_plot_labels = test_class_names"
   ]
  },
  {
   "cell_type": "code",
   "execution_count": 397,
   "id": "3990742b",
   "metadata": {},
   "outputs": [
    {
     "name": "stdout",
     "output_type": "stream",
     "text": [
      "Confusion matrix, without normalization\n",
      "[[ 0  0  0  0  3]\n",
      " [ 0  0  0  0  9]\n",
      " [ 0  0  0  0  1]\n",
      " [ 0  0  0  0  4]\n",
      " [ 0  0  0  0 13]]\n"
     ]
    },
    {
     "data": {
      "image/png": "[encoded data removed]",
      "text/plain": [
       "<Figure size 640x480 with 2 Axes>"
      ]
     },
     "metadata": {},
     "output_type": "display_data"
    }
   ],
   "source": [
    "plot_confusion_matrix_func(cm = baseline_cm, classes = cm_plot_labels, title='Confusion Matrix')"
   ]
  },
  {
   "cell_type": "code",
   "execution_count": 398,
   "id": "291e7691",
   "metadata": {},
   "outputs": [
    {
     "data": {
      "text/plain": [
       "numpy.ndarray"
      ]
     },
     "execution_count": 398,
     "metadata": {},
     "output_type": "execute_result"
    }
   ],
   "source": [
    "type(baseline_cm)"
   ]
  },
  {
   "cell_type": "code",
   "execution_count": 399,
   "id": "043b7c45",
   "metadata": {},
   "outputs": [
    {
     "data": {
      "text/plain": [
       "array([[0., 0., 0., 0., 0., 1.],\n",
       "       [0., 1., 0., 0., 0., 0.],\n",
       "       [0., 0., 1., 0., 0., 0.],\n",
       "       [0., 0., 0., 0., 1., 0.],\n",
       "       [0., 0., 0., 0., 1., 0.],\n",
       "       [0., 0., 1., 0., 0., 0.],\n",
       "       [0., 0., 0., 0., 0., 1.],\n",
       "       [0., 0., 1., 0., 0., 0.],\n",
       "       [0., 0., 0., 0., 1., 0.],\n",
       "       [0., 0., 1., 0., 0., 0.],\n",
       "       [0., 1., 0., 0., 0., 0.],\n",
       "       [0., 0., 0., 1., 0., 0.],\n",
       "       [0., 1., 0., 0., 0., 0.],\n",
       "       [0., 0., 0., 0., 0., 1.],\n",
       "       [0., 0., 0., 0., 0., 1.],\n",
       "       [0., 0., 0., 0., 1., 0.],\n",
       "       [0., 0., 0., 0., 0., 1.],\n",
       "       [0., 0., 1., 0., 0., 0.],\n",
       "       [0., 0., 1., 0., 0., 0.],\n",
       "       [0., 0., 1., 0., 0., 0.],\n",
       "       [0., 0., 0., 0., 0., 1.],\n",
       "       [0., 0., 0., 0., 0., 1.],\n",
       "       [0., 0., 1., 0., 0., 0.],\n",
       "       [0., 0., 0., 0., 0., 1.],\n",
       "       [0., 0., 0., 0., 0., 1.],\n",
       "       [0., 0., 0., 0., 0., 1.],\n",
       "       [0., 0., 0., 0., 0., 1.],\n",
       "       [0., 0., 0., 0., 0., 1.],\n",
       "       [0., 0., 0., 0., 0., 1.],\n",
       "       [0., 0., 1., 0., 0., 0.]], dtype=float32)"
      ]
     },
     "execution_count": 399,
     "metadata": {},
     "output_type": "execute_result"
    }
   ],
   "source": [
    "test_labels"
   ]
  },
  {
   "cell_type": "markdown",
   "id": "3fd23909",
   "metadata": {},
   "source": [
    "#### Second Model"
   ]
  },
  {
   "cell_type": "code",
   "execution_count": null,
   "id": "7ededf00",
   "metadata": {},
   "outputs": [],
   "source": []
  },
  {
   "cell_type": "code",
   "execution_count": null,
   "id": "14dc4163",
   "metadata": {},
   "outputs": [],
   "source": []
  },
  {
   "cell_type": "code",
   "execution_count": null,
   "id": "97eeb933",
   "metadata": {},
   "outputs": [],
   "source": []
  },
  {
   "cell_type": "code",
   "execution_count": 400,
   "id": "360a7259",
   "metadata": {},
   "outputs": [],
   "source": [
    "sz = 200\n",
    "\n",
    "# Initializing the CNN\n",
    "model1 = Sequential()\n",
    "\n",
    "# First convolution layer and pooling\n",
    "model1.add(Convolution2D(32, (3, 3), input_shape=(sz, sz, 3), activation='relu'))\n",
    "model1.add(MaxPooling2D(pool_size = (2, 2)))\n",
    "\n",
    "# Second convolution layer and pooling\n",
    "model1.add(Convolution2D(32, (3, 3), activation='relu'))\n",
    "# input_shape is going to be the pooled feature maps from the previous convolution layer\n",
    "model1.add(MaxPooling2D(pool_size=(2, 2)))\n",
    "\n",
    "# Flattening the layers\n",
    "model1.add(Flatten(input_shape = (28,28)))\n",
    "\n",
    "# Adding a fully connected layer\n",
    "model1.add(Dense(units=96, activation='relu'))\n",
    "model1.add(Dropout(0.40))\n",
    "model1.add(Dense(units=32, activation='relu'))\n",
    "model1.add(Dense(units=24, activation='softmax')) # softmax for more than 2"
   ]
  },
  {
   "cell_type": "code",
   "execution_count": 401,
   "id": "c88208d1",
   "metadata": {},
   "outputs": [
    {
     "name": "stdout",
     "output_type": "stream",
     "text": [
      "Model: \"sequential_25\"\n",
      "_________________________________________________________________\n",
      " Layer (type)                Output Shape              Param #   \n",
      "=================================================================\n",
      " conv2d_10 (Conv2D)          (None, 198, 198, 32)      896       \n",
      "                                                                 \n",
      " max_pooling2d_7 (MaxPooling  (None, 99, 99, 32)       0         \n",
      " 2D)                                                             \n",
      "                                                                 \n",
      " conv2d_11 (Conv2D)          (None, 97, 97, 32)        9248      \n",
      "                                                                 \n",
      " max_pooling2d_8 (MaxPooling  (None, 48, 48, 32)       0         \n",
      " 2D)                                                             \n",
      "                                                                 \n",
      " flatten_5 (Flatten)         (None, 73728)             0         \n",
      "                                                                 \n",
      " dense_71 (Dense)            (None, 96)                7077984   \n",
      "                                                                 \n",
      " dropout_1 (Dropout)         (None, 96)                0         \n",
      "                                                                 \n",
      " dense_72 (Dense)            (None, 32)                3104      \n",
      "                                                                 \n",
      " dense_73 (Dense)            (None, 24)                792       \n",
      "                                                                 \n",
      "=================================================================\n",
      "Total params: 7,092,024\n",
      "Trainable params: 7,092,024\n",
      "Non-trainable params: 0\n",
      "_________________________________________________________________\n"
     ]
    }
   ],
   "source": [
    "model1.summary()"
   ]
  },
  {
   "cell_type": "code",
   "execution_count": 402,
   "id": "1e310229",
   "metadata": {},
   "outputs": [],
   "source": [
    "model1.compile(optimizer='adam',\n",
    "               loss = tf.keras.losses.SparseCategoricalCrossentropy(from_logits=False),\n",
    "               metrics=['accuracy'])"
   ]
  },
  {
   "cell_type": "code",
   "execution_count": 404,
   "id": "470da53c",
   "metadata": {},
   "outputs": [],
   "source": [
    "# history = model1.fit(\n",
    "#     train_generator,\n",
    "#     validation_data = test_generator,\n",
    "#     epochs = 5\n",
    "# )"
   ]
  },
  {
   "cell_type": "code",
   "execution_count": null,
   "id": "bc3c8e8c",
   "metadata": {},
   "outputs": [],
   "source": []
  }
 ],
 "metadata": {
  "kernelspec": {
   "display_name": "tensorflow_env",
   "language": "python",
   "name": "tensorflow_env"
  },
  "language_info": {
   "codemirror_mode": {
    "name": "ipython",
    "version": 3
   },
   "file_extension": ".py",
   "mimetype": "text/x-python",
   "name": "python",
   "nbconvert_exporter": "python",
   "pygments_lexer": "ipython3",
   "version": "3.8.15"
  }
 },
 "nbformat": 4,
 "nbformat_minor": 5
}
