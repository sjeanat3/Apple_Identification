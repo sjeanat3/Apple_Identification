{
 "cells": [
  {
   "cell_type": "markdown",
   "id": "4b40087c",
   "metadata": {},
   "source": [
    "## Import Necessary Libraries"
   ]
  },
  {
   "cell_type": "code",
   "execution_count": 135,
   "id": "3ad423c2",
   "metadata": {},
   "outputs": [],
   "source": [
    "import pandas as pd\n",
    "import tensorflow as tf\n",
    "import os\n",
    "import numpy as np\n",
    "from tensorflow import keras\n",
    "from tensorflow.keras.models import Sequential, Model, load_model\n",
    "from tensorflow.keras.layers import Dense, Dropout, Convolution2D, MaxPooling2D, Flatten, GlobalAveragePooling2D\n",
    "from keras import models, layers\n",
    "from keras_preprocessing.image import load_img, array_to_img, img_to_array, ImageDataGenerator\n",
    "from tensorflow.keras.optimizers import  Adam\n",
    "from matplotlib import pyplot as plt\n",
    "import matplotlib.image as mpimg\n",
    "%matplotlib inline"
   ]
  },
  {
   "cell_type": "code",
   "execution_count": 136,
   "id": "2c434633",
   "metadata": {},
   "outputs": [],
   "source": [
    "datagen = ImageDataGenerator()"
   ]
  },
  {
   "cell_type": "code",
   "execution_count": 137,
   "id": "0895d807",
   "metadata": {},
   "outputs": [],
   "source": [
    "train_path =  \"./data/fruits-360_dataset/fruits-360/Training\"\n",
    "test_path = \"./data/fruits-360_dataset/fruits-360/Test\""
   ]
  },
  {
   "cell_type": "code",
   "execution_count": 138,
   "id": "294e0052",
   "metadata": {},
   "outputs": [],
   "source": [
    "golden_1_train_path = \"./data/fruits-360_dataset/fruits-360/Training/Apple Golden 1\""
   ]
  },
  {
   "cell_type": "code",
   "execution_count": 139,
   "id": "493a934d",
   "metadata": {},
   "outputs": [],
   "source": [
    "train_datagen = ImageDataGenerator(rescale = 1./255,\n",
    "                                   shear_range = 0.2, \n",
    "                                   zoom_range = 0.2,\n",
    "                                   horizontal_flip = True)\n",
    "\n",
    "test_datagen = ImageDataGenerator(rescale = 1./255)"
   ]
  },
  {
   "cell_type": "code",
   "execution_count": 140,
   "id": "19dd919a",
   "metadata": {},
   "outputs": [
    {
     "name": "stdout",
     "output_type": "stream",
     "text": [
      "Found 5240 images belonging to 6 classes.\n",
      "Found 1751 images belonging to 6 classes.\n"
     ]
    }
   ],
   "source": [
    "train_generator = train_datagen.flow_from_directory(\n",
    "    train_path,\n",
    "    target_size = (200, 200),\n",
    "    batch_size = 32,\n",
    "    color_mode = 'rgb',\n",
    "    class_mode = 'categorical')\n",
    "\n",
    "test_generator = test_datagen.flow_from_directory(\n",
    "    test_path,\n",
    "    target_size = (200, 200),\n",
    "    batch_size = 32,\n",
    "    color_mode = 'rgb',\n",
    "    class_mode = 'categorical')"
   ]
  },
  {
   "cell_type": "code",
   "execution_count": 141,
   "id": "6846462f",
   "metadata": {},
   "outputs": [
    {
     "data": {
      "text/plain": [
       "['Apple Braeburn',\n",
       " 'Apple Crimson Snow',\n",
       " 'Apple Golden',\n",
       " 'Apple Granny Smith',\n",
       " 'Apple Pink Lady',\n",
       " 'Apple Red Delicious']"
      ]
     },
     "execution_count": 141,
     "metadata": {},
     "output_type": "execute_result"
    }
   ],
   "source": [
    "train_class_names = list(train_generator.class_indices.keys())\n",
    "train_class_names"
   ]
  },
  {
   "cell_type": "code",
   "execution_count": 142,
   "id": "a14152e8",
   "metadata": {},
   "outputs": [
    {
     "data": {
      "text/plain": [
       "['Apple Braeburn',\n",
       " 'Apple Crimson Snow',\n",
       " 'Apple Golden',\n",
       " 'Apple Granny Smith',\n",
       " 'Apple Pink Lady',\n",
       " 'Apple Red Delicious']"
      ]
     },
     "execution_count": 142,
     "metadata": {},
     "output_type": "execute_result"
    }
   ],
   "source": [
    "test_class_names = list(test_generator.class_indices.keys())\n",
    "test_class_names"
   ]
  },
  {
   "cell_type": "markdown",
   "id": "06dd1bb1",
   "metadata": {},
   "source": [
    "## Begin Modeling"
   ]
  },
  {
   "cell_type": "code",
   "execution_count": 143,
   "id": "6528e7dd",
   "metadata": {},
   "outputs": [],
   "source": [
    "# create the data sets\n",
    "train_images, train_labels = next(train_generator)\n",
    "test_images, test_labels = next(test_generator)"
   ]
  },
  {
   "cell_type": "code",
   "execution_count": 144,
   "id": "be756f6c",
   "metadata": {},
   "outputs": [],
   "source": [
    "train_img = train_images.reshape(train_images.shape[0], -1)\n",
    "test_img = test_images.reshape(test_images.shape[0], -1)"
   ]
  },
  {
   "cell_type": "code",
   "execution_count": 145,
   "id": "1d962fa7",
   "metadata": {},
   "outputs": [
    {
     "name": "stdout",
     "output_type": "stream",
     "text": [
      "(32, 120000)\n",
      "(32, 120000)\n"
     ]
    }
   ],
   "source": [
    "print(train_img.shape)\n",
    "print(test_img.shape)"
   ]
  },
  {
   "cell_type": "code",
   "execution_count": 146,
   "id": "17ee0a39",
   "metadata": {},
   "outputs": [],
   "source": [
    "train_y = np.reshape(train_labels[:,0], (32,1))\n",
    "test_y = np.reshape(test_labels[:,0], (32,1))"
   ]
  },
  {
   "cell_type": "code",
   "execution_count": 147,
   "id": "6982a8bd",
   "metadata": {},
   "outputs": [],
   "source": [
    "np.random.seed(3)\n",
    "baseline_model = models.Sequential()\n",
    "baseline_model.add(layers.Dense(20, activation='relu', input_shape=(120000,))) # 2 hidden layers\n",
    "baseline_model.add(layers.Dense(7, activation='relu'))\n",
    "baseline_model.add(layers.Dense(5, activation='relu'))\n",
    "baseline_model.add(layers.Dense(1, activation='sigmoid'))"
   ]
  },
  {
   "cell_type": "code",
   "execution_count": 148,
   "id": "68c2ec73",
   "metadata": {},
   "outputs": [
    {
     "name": "stdout",
     "output_type": "stream",
     "text": [
      "Epoch 1/50\n",
      "1/1 [==============================] - 0s 373ms/step - loss: 0.2971 - accuracy: 0.9062\n",
      "Epoch 2/50\n",
      "1/1 [==============================] - 0s 47ms/step - loss: 1.3970 - accuracy: 0.9062\n",
      "Epoch 3/50\n"
     ]
    },
    {
     "name": "stderr",
     "output_type": "stream",
     "text": [
      "2022-12-05 15:36:33.734894: I tensorflow/core/grappler/optimizers/custom_graph_optimizer_registry.cc:113] Plugin optimizer for device_type GPU is enabled.\n"
     ]
    },
    {
     "name": "stdout",
     "output_type": "stream",
     "text": [
      "1/1 [==============================] - 0s 45ms/step - loss: 15.5816 - accuracy: 0.0938\n",
      "Epoch 4/50\n",
      "1/1 [==============================] - 0s 47ms/step - loss: 0.7373 - accuracy: 0.9062\n",
      "Epoch 5/50\n",
      "1/1 [==============================] - 0s 46ms/step - loss: 0.4615 - accuracy: 0.9062\n",
      "Epoch 6/50\n",
      "1/1 [==============================] - 0s 46ms/step - loss: 0.3244 - accuracy: 0.9062\n",
      "Epoch 7/50\n",
      "1/1 [==============================] - 0s 45ms/step - loss: 0.2823 - accuracy: 0.9062\n",
      "Epoch 8/50\n",
      "1/1 [==============================] - 0s 45ms/step - loss: 0.2737 - accuracy: 0.9062\n",
      "Epoch 9/50\n",
      "1/1 [==============================] - 0s 45ms/step - loss: 0.2708 - accuracy: 0.9062\n",
      "Epoch 10/50\n",
      "1/1 [==============================] - 0s 46ms/step - loss: 0.2684 - accuracy: 0.9062\n",
      "Epoch 11/50\n",
      "1/1 [==============================] - 0s 45ms/step - loss: 0.2659 - accuracy: 0.9062\n",
      "Epoch 12/50\n",
      "1/1 [==============================] - 0s 45ms/step - loss: 0.2634 - accuracy: 0.9062\n",
      "Epoch 13/50\n",
      "1/1 [==============================] - 0s 45ms/step - loss: 0.2607 - accuracy: 0.9062\n",
      "Epoch 14/50\n",
      "1/1 [==============================] - 0s 45ms/step - loss: 0.2580 - accuracy: 0.9062\n",
      "Epoch 15/50\n",
      "1/1 [==============================] - 0s 46ms/step - loss: 0.2551 - accuracy: 0.9062\n",
      "Epoch 16/50\n",
      "1/1 [==============================] - 0s 45ms/step - loss: 0.2521 - accuracy: 0.9062\n",
      "Epoch 17/50\n",
      "1/1 [==============================] - 0s 45ms/step - loss: 0.2489 - accuracy: 0.9062\n",
      "Epoch 18/50\n",
      "1/1 [==============================] - 0s 46ms/step - loss: 0.2457 - accuracy: 0.9062\n",
      "Epoch 19/50\n",
      "1/1 [==============================] - 0s 45ms/step - loss: 0.2422 - accuracy: 0.9062\n",
      "Epoch 20/50\n",
      "1/1 [==============================] - 0s 46ms/step - loss: 0.2386 - accuracy: 0.9062\n",
      "Epoch 21/50\n",
      "1/1 [==============================] - 0s 46ms/step - loss: 0.2349 - accuracy: 0.9062\n",
      "Epoch 22/50\n",
      "1/1 [==============================] - 0s 45ms/step - loss: 0.2310 - accuracy: 0.9062\n",
      "Epoch 23/50\n",
      "1/1 [==============================] - 0s 46ms/step - loss: 0.2269 - accuracy: 0.9062\n",
      "Epoch 24/50\n",
      "1/1 [==============================] - 0s 45ms/step - loss: 0.2226 - accuracy: 0.9062\n",
      "Epoch 25/50\n",
      "1/1 [==============================] - 0s 45ms/step - loss: 0.2181 - accuracy: 0.9062\n",
      "Epoch 26/50\n",
      "1/1 [==============================] - 0s 45ms/step - loss: 0.2135 - accuracy: 0.9062\n",
      "Epoch 27/50\n",
      "1/1 [==============================] - 0s 46ms/step - loss: 0.2088 - accuracy: 0.9062\n",
      "Epoch 28/50\n",
      "1/1 [==============================] - 0s 45ms/step - loss: 0.2038 - accuracy: 0.9062\n",
      "Epoch 29/50\n",
      "1/1 [==============================] - 0s 46ms/step - loss: 0.1984 - accuracy: 0.9062\n",
      "Epoch 30/50\n",
      "1/1 [==============================] - 0s 45ms/step - loss: 0.1928 - accuracy: 0.9062\n",
      "Epoch 31/50\n",
      "1/1 [==============================] - 0s 45ms/step - loss: 0.1872 - accuracy: 0.9062\n",
      "Epoch 32/50\n",
      "1/1 [==============================] - 0s 45ms/step - loss: 0.1816 - accuracy: 0.9062\n",
      "Epoch 33/50\n",
      "1/1 [==============================] - 0s 45ms/step - loss: 0.1759 - accuracy: 0.9062\n",
      "Epoch 34/50\n",
      "1/1 [==============================] - 0s 45ms/step - loss: 0.1702 - accuracy: 0.9062\n",
      "Epoch 35/50\n",
      "1/1 [==============================] - 0s 46ms/step - loss: 0.1646 - accuracy: 0.9062\n",
      "Epoch 36/50\n",
      "1/1 [==============================] - 0s 45ms/step - loss: 0.1591 - accuracy: 0.9062\n",
      "Epoch 37/50\n",
      "1/1 [==============================] - 0s 45ms/step - loss: 0.1537 - accuracy: 0.9062\n",
      "Epoch 38/50\n",
      "1/1 [==============================] - 0s 46ms/step - loss: 0.1484 - accuracy: 0.9062\n",
      "Epoch 39/50\n",
      "1/1 [==============================] - 0s 45ms/step - loss: 0.1432 - accuracy: 0.9062\n",
      "Epoch 40/50\n",
      "1/1 [==============================] - 0s 45ms/step - loss: 0.1383 - accuracy: 0.9062\n",
      "Epoch 41/50\n",
      "1/1 [==============================] - 0s 45ms/step - loss: 0.1340 - accuracy: 0.9062\n",
      "Epoch 42/50\n",
      "1/1 [==============================] - 0s 45ms/step - loss: 0.1336 - accuracy: 0.9062\n",
      "Epoch 43/50\n",
      "1/1 [==============================] - 0s 45ms/step - loss: 0.1300 - accuracy: 0.9062\n",
      "Epoch 44/50\n",
      "1/1 [==============================] - 0s 45ms/step - loss: 0.1266 - accuracy: 0.9062\n",
      "Epoch 45/50\n",
      "1/1 [==============================] - 0s 45ms/step - loss: 0.1248 - accuracy: 0.9062\n",
      "Epoch 46/50\n",
      "1/1 [==============================] - 0s 45ms/step - loss: 0.1196 - accuracy: 0.9062\n",
      "Epoch 47/50\n",
      "1/1 [==============================] - 0s 45ms/step - loss: 0.1202 - accuracy: 0.9062\n",
      "Epoch 48/50\n",
      "1/1 [==============================] - 0s 45ms/step - loss: 0.1234 - accuracy: 0.9062\n",
      "Epoch 49/50\n",
      "1/1 [==============================] - 0s 45ms/step - loss: 0.1230 - accuracy: 0.9062\n",
      "Epoch 50/50\n",
      "1/1 [==============================] - 0s 45ms/step - loss: 0.1388 - accuracy: 0.9062\n"
     ]
    }
   ],
   "source": [
    "baseline_model.compile(optimizer='sgd',\n",
    "              loss='binary_crossentropy',\n",
    "              metrics=['accuracy'])\n",
    "\n",
    "histoire = baseline_model.fit(train_img,\n",
    "                    train_y,\n",
    "                    epochs=50,\n",
    "                    batch_size=32)\n",
    "#                     validation_data=(val_img, val_y))"
   ]
  },
  {
   "cell_type": "code",
   "execution_count": 149,
   "id": "360a7259",
   "metadata": {},
   "outputs": [],
   "source": [
    "# sz = 200\n",
    "\n",
    "# # Initializing the CNN\n",
    "# model1 = Sequential()\n",
    "\n",
    "# # First convolution layer and pooling\n",
    "# model1.add(Convolution2D(32, (3, 3), input_shape=(sz, sz, 3), activation='relu'))\n",
    "# model1.add(MaxPooling2D(pool_size = (2, 2)))\n",
    "\n",
    "# # Second convolution layer and pooling\n",
    "# model1.add(Convolution2D(32, (3, 3), activation='relu'))\n",
    "# # input_shape is going to be the pooled feature maps from the previous convolution layer\n",
    "# model1.add(MaxPooling2D(pool_size=(2, 2)))\n",
    "\n",
    "# # Flattening the layers\n",
    "# model1.add(Flatten(input_shape = (28,28)))\n",
    "\n",
    "# # Adding a fully connected layer\n",
    "# model1.add(Dense(units=96, activation='relu'))\n",
    "# model1.add(Dropout(0.40))\n",
    "# model1.add(Dense(units=32, activation='relu'))\n",
    "# model1.add(Dense(units=24, activation='softmax')) # softmax for more than 2"
   ]
  },
  {
   "cell_type": "code",
   "execution_count": 150,
   "id": "c88208d1",
   "metadata": {},
   "outputs": [],
   "source": [
    "# model1.summary()"
   ]
  },
  {
   "cell_type": "code",
   "execution_count": 151,
   "id": "1e310229",
   "metadata": {},
   "outputs": [],
   "source": [
    "# model1.compile(optimizer='adam',\n",
    "#                loss = tf.keras.losses.SparseCategoricalCrossentropy(from_logits=False),\n",
    "#                metrics=['accuracy'])"
   ]
  },
  {
   "cell_type": "code",
   "execution_count": 152,
   "id": "470da53c",
   "metadata": {},
   "outputs": [],
   "source": [
    "# history = model1.fit(\n",
    "#     train_generator,\n",
    "#     validation_data = test_generator,\n",
    "#     epochs = 5\n",
    "# )"
   ]
  },
  {
   "cell_type": "code",
   "execution_count": null,
   "id": "bc3c8e8c",
   "metadata": {},
   "outputs": [],
   "source": []
  }
 ],
 "metadata": {
  "kernelspec": {
   "display_name": "tensorflow_env",
   "language": "python",
   "name": "tensorflow_env"
  },
  "language_info": {
   "codemirror_mode": {
    "name": "ipython",
    "version": 3
   },
   "file_extension": ".py",
   "mimetype": "text/x-python",
   "name": "python",
   "nbconvert_exporter": "python",
   "pygments_lexer": "ipython3",
   "version": "3.8.15"
  }
 },
 "nbformat": 4,
 "nbformat_minor": 5
}
