{
 "cells": [
  {
   "cell_type": "markdown",
   "id": "4b40087c",
   "metadata": {},
   "source": [
    "## Import Necessary Libraries"
   ]
  },
  {
   "cell_type": "code",
   "execution_count": 273,
   "id": "3ad423c2",
   "metadata": {},
   "outputs": [],
   "source": [
    "import pandas as pd\n",
    "import tensorflow as tf\n",
    "import os\n",
    "import numpy as np\n",
    "import itertools\n",
    "import random\n",
    "import PIL\n",
    "from PIL import Image\n",
    "import io\n",
    "\n",
    "from tensorflow import keras\n",
    "from tensorflow.keras.models import Sequential, Model, load_model\n",
    "from tensorflow.keras.layers import Dense, Dropout, Convolution2D, MaxPooling2D, Flatten, \\\n",
    "GlobalAveragePooling2D, BatchNormalization, Resizing, Rescaling, RandomFlip, RandomRotation\n",
    "\n",
    "from tensorflow.keras.regularizers import l2\n",
    "from tensorflow.keras.utils import to_categorical\n",
    "from keras import models, layers \n",
    "from keras_preprocessing.image import load_img, array_to_img, img_to_array, ImageDataGenerator\n",
    "from keras.callbacks import EarlyStopping\n",
    "from tensorflow.keras.optimizers import  Adam\n",
    "\n",
    "from sklearn.metrics import ConfusionMatrixDisplay\n",
    "from matplotlib import pyplot as plt\n",
    "import matplotlib.image as mpimg\n",
    "%matplotlib inline\n",
    "\n",
    "from sklearn.metrics import plot_confusion_matrix, confusion_matrix"
   ]
  },
  {
   "cell_type": "markdown",
   "id": "7c716d0a",
   "metadata": {},
   "source": [
    "## Load the Files of Images"
   ]
  },
  {
   "cell_type": "code",
   "execution_count": 274,
   "id": "2c434633",
   "metadata": {},
   "outputs": [],
   "source": [
    "datagen = ImageDataGenerator()"
   ]
  },
  {
   "cell_type": "code",
   "execution_count": 275,
   "id": "0895d807",
   "metadata": {},
   "outputs": [],
   "source": [
    "train_path =  './data/fruits-360_dataset/fruits-360/Training'\n",
    "test_path = './data/fruits-360_dataset/fruits-360/Test'\n",
    "val_path = './data/fruits-360_dataset/fruits-360/Validation'"
   ]
  },
  {
   "cell_type": "code",
   "execution_count": 276,
   "id": "493a934d",
   "metadata": {},
   "outputs": [],
   "source": [
    "train_datagen = ImageDataGenerator(rescale = 1./255,\n",
    "                                   shear_range = 0.2, \n",
    "                                   zoom_range = 0.2,\n",
    "                                   horizontal_flip = True,\n",
    "                                   rotation_range=10, \n",
    "                                   width_shift_range=0.1, \n",
    "                                   height_shift_range=0.1, \n",
    "                                   channel_shift_range=10.)\n",
    "\n",
    "test_datagen = ImageDataGenerator(rescale = 1./255)\n",
    "val_datagen = ImageDataGenerator(rescale = 1./255)"
   ]
  },
  {
   "cell_type": "code",
   "execution_count": 277,
   "id": "19dd919a",
   "metadata": {},
   "outputs": [
    {
     "name": "stdout",
     "output_type": "stream",
     "text": [
      "Found 7841 images belonging to 6 classes.\n",
      "Found 3017 images belonging to 6 classes.\n",
      "Found 1207 images belonging to 6 classes.\n"
     ]
    }
   ],
   "source": [
    "image_size = (100, 100)\n",
    "train_generator = train_datagen.flow_from_directory(\n",
    "    train_path,\n",
    "    target_size = image_size,\n",
    "    batch_size = 7841,\n",
    "    color_mode = 'rgb',\n",
    "    class_mode = 'categorical')\n",
    "\n",
    "test_generator = test_datagen.flow_from_directory(\n",
    "    test_path,\n",
    "    target_size = image_size,\n",
    "    batch_size = 3017,\n",
    "    color_mode = 'rgb',\n",
    "    class_mode = 'categorical')\n",
    "\n",
    "val_generator = val_datagen.flow_from_directory(\n",
    "    val_path,\n",
    "    target_size = image_size,\n",
    "    batch_size = 1207,\n",
    "    color_mode = 'rgb',\n",
    "    class_mode = 'categorical')"
   ]
  },
  {
   "cell_type": "code",
   "execution_count": 278,
   "id": "6846462f",
   "metadata": {},
   "outputs": [
    {
     "data": {
      "text/plain": [
       "['Apple Braeburn',\n",
       " 'Apple Crimson Snow',\n",
       " 'Apple Golden',\n",
       " 'Apple Granny Smith',\n",
       " 'Apple Pink Lady',\n",
       " 'Apple Red Delicious']"
      ]
     },
     "execution_count": 278,
     "metadata": {},
     "output_type": "execute_result"
    }
   ],
   "source": [
    "train_class_names = list(train_generator.class_indices.keys())\n",
    "train_class_names"
   ]
  },
  {
   "cell_type": "code",
   "execution_count": 279,
   "id": "a14152e8",
   "metadata": {},
   "outputs": [
    {
     "data": {
      "text/plain": [
       "['Apple Braeburn',\n",
       " 'Apple Crimson Snow',\n",
       " 'Apple Golden',\n",
       " 'Apple Granny Smith',\n",
       " 'Apple Pink Lady',\n",
       " 'Apple Red Delicious']"
      ]
     },
     "execution_count": 279,
     "metadata": {},
     "output_type": "execute_result"
    }
   ],
   "source": [
    "test_class_names = list(test_generator.class_indices.keys())\n",
    "test_class_names"
   ]
  },
  {
   "cell_type": "code",
   "execution_count": 280,
   "id": "135f09d1",
   "metadata": {},
   "outputs": [
    {
     "data": {
      "text/plain": [
       "['Apple Braeburn',\n",
       " 'Apple Crimson Snow',\n",
       " 'Apple Golden',\n",
       " 'Apple Granny Smith',\n",
       " 'Apple Pink Lady',\n",
       " 'Apple Red Delicious']"
      ]
     },
     "execution_count": 280,
     "metadata": {},
     "output_type": "execute_result"
    }
   ],
   "source": [
    "val_class_names = list(val_generator.class_indices.keys())\n",
    "val_class_names"
   ]
  },
  {
   "cell_type": "markdown",
   "id": "06dd1bb1",
   "metadata": {},
   "source": [
    "## Begin Modeling"
   ]
  },
  {
   "cell_type": "markdown",
   "id": "19b89396",
   "metadata": {},
   "source": [
    "#### Baseline Model"
   ]
  },
  {
   "cell_type": "code",
   "execution_count": 281,
   "id": "6528e7dd",
   "metadata": {},
   "outputs": [],
   "source": [
    "# create the data sets\n",
    "train_images, train_labels = next(train_generator)\n",
    "test_images, test_labels = next(test_generator)\n",
    "val_images, val_labels = next(val_generator)"
   ]
  },
  {
   "cell_type": "code",
   "execution_count": 282,
   "id": "aed12946",
   "metadata": {},
   "outputs": [],
   "source": [
    "# enc_train_labels = to_categorical(train_labels) #/255\n",
    "# enc_train_images = to_categorical(train_images)\n",
    "\n",
    "# enc_test_labels = to_categorical(test_labels)/255\n",
    "# enc_test_images = to_categorical(test_images)\n",
    "\n",
    "# enc_val_labels = to_categorical(val_labels)/255\n",
    "# enc_val_images = to_categorical(val_images)"
   ]
  },
  {
   "cell_type": "code",
   "execution_count": 283,
   "id": "be756f6c",
   "metadata": {},
   "outputs": [],
   "source": [
    "train_img = train_images.reshape(train_images.shape[0], -1)\n",
    "test_img = test_images.reshape(test_images.shape[0], -1)\n",
    "val_img = val_images.reshape(val_images.shape[0], -1)"
   ]
  },
  {
   "cell_type": "code",
   "execution_count": 284,
   "id": "1d962fa7",
   "metadata": {},
   "outputs": [],
   "source": [
    "# print(train_img.shape)\n",
    "# print(test_img.shape)\n",
    "# print(val_img.shape)"
   ]
  },
  {
   "cell_type": "code",
   "execution_count": 285,
   "id": "002b9684",
   "metadata": {},
   "outputs": [
    {
     "data": {
      "text/plain": [
       "array([[0., 1., 0., 0., 0., 0.],\n",
       "       [0., 1., 0., 0., 0., 0.],\n",
       "       [0., 0., 0., 1., 0., 0.],\n",
       "       ...,\n",
       "       [1., 0., 0., 0., 0., 0.],\n",
       "       [0., 0., 0., 0., 0., 1.],\n",
       "       [0., 0., 0., 0., 0., 1.]], dtype=float32)"
      ]
     },
     "execution_count": 285,
     "metadata": {},
     "output_type": "execute_result"
    }
   ],
   "source": [
    "train_labels"
   ]
  },
  {
   "cell_type": "code",
   "execution_count": 286,
   "id": "b18f78de",
   "metadata": {},
   "outputs": [
    {
     "data": {
      "text/plain": [
       "(7841, 100, 100, 3)"
      ]
     },
     "execution_count": 286,
     "metadata": {},
     "output_type": "execute_result"
    }
   ],
   "source": [
    "train_images.shape"
   ]
  },
  {
   "cell_type": "code",
   "execution_count": 287,
   "id": "4f0d66dc",
   "metadata": {},
   "outputs": [
    {
     "data": {
      "text/plain": [
       "(7841, 6)"
      ]
     },
     "execution_count": 287,
     "metadata": {},
     "output_type": "execute_result"
    }
   ],
   "source": [
    "train_labels.shape"
   ]
  },
  {
   "cell_type": "code",
   "execution_count": 288,
   "id": "17ee0a39",
   "metadata": {},
   "outputs": [],
   "source": [
    "# train_y = np.reshape(train_labels[:,0], (32, ))\n",
    "# test_y = np.reshape(test_labels[:,0], (32, ))\n",
    "# val_y = np.reshape(val_labels[:,0], (32, ))"
   ]
  },
  {
   "cell_type": "code",
   "execution_count": 289,
   "id": "02fea473",
   "metadata": {},
   "outputs": [],
   "source": [
    "#Instantiate a Regularizer\n",
    "reg = l2(3e-3)"
   ]
  },
  {
   "cell_type": "code",
   "execution_count": 290,
   "id": "7643d8eb",
   "metadata": {},
   "outputs": [
    {
     "data": {
      "text/plain": [
       "<matplotlib.image.AxesImage at 0x34eb73eb0>"
      ]
     },
     "execution_count": 290,
     "metadata": {},
     "output_type": "execute_result"
    },
    {
     "data": {
      "image/png": "[encoded data removed]",
      "text/plain": [
       "<Figure size 640x480 with 1 Axes>"
      ]
     },
     "metadata": {},
     "output_type": "display_data"
    }
   ],
   "source": [
    "chosen_image = random.choice(os.listdir('./data/fruits-360_dataset/fruits-360/Training/Apple Braeburn/'))\n",
    "image_path = './data/fruits-360_dataset/fruits-360/Training/Apple Braeburn/' + chosen_image\n",
    "image = np.expand_dims(plt.imread(image_path),0)\n",
    "plt.imshow(image[0])"
   ]
  },
  {
   "cell_type": "code",
   "execution_count": 291,
   "id": "6f2d2096",
   "metadata": {},
   "outputs": [],
   "source": [
    "def augment_images(apple_name):\n",
    "    names = [os.path.join(f'./data/fruits-360_dataset/fruits-360/Training/{apple_name}/'\n",
    "                      , name) for name in os.listdir(f'./data/fruits-360_dataset/fruits-360/Training/{apple_name}/')]\n",
    "    for f in names:\n",
    "        if f.endswith('.jpg'):\n",
    "            img = Image.open(f)\n",
    "            x = img_to_array(img) \n",
    "            # Reshape the input image \n",
    "            x = x.reshape((1, ) + x.shape)  \n",
    "            i = 0\n",
    "\n",
    "            # generate 2 new augmented images \n",
    "            for batch in train_datagen.flow(x, batch_size = 1, \n",
    "                              save_to_dir = f'./data/fruits-360_dataset/fruits-360/Training/{apple_name}',  \n",
    "                              save_prefix = 'aug-image-', save_format ='jpg'):\n",
    "                i += 1\n",
    "                if i > 2: \n",
    "                    break"
   ]
  },
  {
   "cell_type": "code",
   "execution_count": 292,
   "id": "fc39bdba",
   "metadata": {},
   "outputs": [],
   "source": [
    "# DO NOT RUN\n",
    "# augment_images('Apple Braeburn')\n",
    "# augment_images('Apple Crimson Snow')\n",
    "# augment_images('Apple Golden')\n",
    "# augment_images('Apple Granny Smith')\n",
    "# augment_images('Apple Pink Lady')\n",
    "# augment_images('Apple Red Delicious')"
   ]
  },
  {
   "cell_type": "code",
   "execution_count": 293,
   "id": "06a67f71",
   "metadata": {},
   "outputs": [],
   "source": [
    "# aug_iter = train_datagen.flow(augment_images, \n",
    "#                               save_to_dir='./data/fruits-360_dataset/fruits-360_2/Txraining/Apple Braeburn', \n",
    "#                               save_prefix='aug-image-', \n",
    "#                               save_format='jpeg')"
   ]
  },
  {
   "cell_type": "code",
   "execution_count": 294,
   "id": "209069fe",
   "metadata": {},
   "outputs": [],
   "source": [
    "data_augmentation = tf.keras.Sequential([\n",
    "  layers.RandomFlip(\"horizontal_and_vertical\"),\n",
    "  layers.RandomRotation(0.2),\n",
    "])"
   ]
  },
  {
   "cell_type": "code",
   "execution_count": 295,
   "id": "6982a8bd",
   "metadata": {},
   "outputs": [],
   "source": [
    "baseline_model = models.Sequential()\n",
    "baseline_model.add(layers.Conv2D(18, (3,3), activation='relu', input_shape=(100, 100, 3))) # 2 hidden layers\n",
    "baseline_model.add(layers.MaxPooling2D(2,2))\n",
    "baseline_model.add(layers.Dropout(0.3))\n",
    "baseline_model.add(layers.Conv2D(36, (3,3), activation='relu')) # 2 hidden layers\n",
    "baseline_model.add(layers.Dropout(0.25))\n",
    "baseline_model.add(layers.MaxPooling2D(2,2))\n",
    "baseline_model.add(layers.Dropout(0.2))\n",
    "#baseline_model.add(BatchNormalization())\n",
    "baseline_model.add(layers.Flatten())\n",
    "baseline_model.add(layers.Dense(24, activation='relu', kernel_regularizer = reg))\n",
    "# baseline_model.add(layers.Dense(48, activation='relu', kernel_regularizer = reg))\n",
    "# baseline_model.add(layers.Dense(24, activation='relu', kernel_regularizer = reg))\n",
    "baseline_model.add(layers.Dense(6, activation='softmax', kernel_regularizer = reg))\n",
    "#Check example of dropout, towrards start, filyters\n",
    "# CNNS Intro\n",
    "# "
   ]
  },
  {
   "cell_type": "code",
   "execution_count": 296,
   "id": "b82cf148",
   "metadata": {},
   "outputs": [
    {
     "data": {
      "text/plain": [
       "(7841, 100, 100, 3)"
      ]
     },
     "execution_count": 296,
     "metadata": {},
     "output_type": "execute_result"
    }
   ],
   "source": [
    "train_images.shape"
   ]
  },
  {
   "cell_type": "code",
   "execution_count": 297,
   "id": "02e494d7",
   "metadata": {},
   "outputs": [
    {
     "data": {
      "text/plain": [
       "(7841, 6)"
      ]
     },
     "execution_count": 297,
     "metadata": {},
     "output_type": "execute_result"
    }
   ],
   "source": [
    "train_labels.shape"
   ]
  },
  {
   "cell_type": "code",
   "execution_count": 298,
   "id": "68c2ec73",
   "metadata": {},
   "outputs": [
    {
     "name": "stdout",
     "output_type": "stream",
     "text": [
      "Epoch 1/100\n"
     ]
    },
    {
     "name": "stderr",
     "output_type": "stream",
     "text": [
      "2022-12-07 17:12:32.522951: I tensorflow/core/grappler/optimizers/custom_graph_optimizer_registry.cc:113] Plugin optimizer for device_type GPU is enabled.\n"
     ]
    },
    {
     "name": "stdout",
     "output_type": "stream",
     "text": [
      "99/99 [==============================] - ETA: 0s - loss: 1.9119 - accuracy: 0.2630"
     ]
    },
    {
     "name": "stderr",
     "output_type": "stream",
     "text": [
      "2022-12-07 17:12:36.856369: I tensorflow/core/grappler/optimizers/custom_graph_optimizer_registry.cc:113] Plugin optimizer for device_type GPU is enabled.\n"
     ]
    },
    {
     "name": "stdout",
     "output_type": "stream",
     "text": [
      "99/99 [==============================] - 5s 45ms/step - loss: 1.9119 - accuracy: 0.2630 - val_loss: 1.8622 - val_accuracy: 0.3786\n",
      "Epoch 2/100\n",
      "99/99 [==============================] - 4s 38ms/step - loss: 1.7484 - accuracy: 0.3764 - val_loss: 1.7690 - val_accuracy: 0.4938\n",
      "Epoch 3/100\n",
      "99/99 [==============================] - 4s 37ms/step - loss: 1.6151 - accuracy: 0.4326 - val_loss: 1.6878 - val_accuracy: 0.5394\n",
      "Epoch 4/100\n",
      "99/99 [==============================] - 4s 37ms/step - loss: 1.4986 - accuracy: 0.4899 - val_loss: 1.6231 - val_accuracy: 0.5170\n",
      "Epoch 5/100\n",
      "99/99 [==============================] - 4s 39ms/step - loss: 1.4002 - accuracy: 0.5319 - val_loss: 1.5455 - val_accuracy: 0.5352\n",
      "Epoch 6/100\n",
      "99/99 [==============================] - 4s 41ms/step - loss: 1.3055 - accuracy: 0.5708 - val_loss: 1.5000 - val_accuracy: 0.5891\n",
      "Epoch 7/100\n",
      "99/99 [==============================] - 4s 45ms/step - loss: 1.2242 - accuracy: 0.6074 - val_loss: 1.4541 - val_accuracy: 0.5816\n",
      "Epoch 8/100\n",
      "99/99 [==============================] - 5s 47ms/step - loss: 1.1441 - accuracy: 0.6361 - val_loss: 1.4101 - val_accuracy: 0.6048\n",
      "Epoch 9/100\n",
      "99/99 [==============================] - 4s 45ms/step - loss: 1.0782 - accuracy: 0.6683 - val_loss: 1.3795 - val_accuracy: 0.6114\n",
      "Epoch 10/100\n",
      "99/99 [==============================] - 4s 42ms/step - loss: 1.0233 - accuracy: 0.6831 - val_loss: 1.3578 - val_accuracy: 0.6156\n",
      "Epoch 11/100\n",
      "99/99 [==============================] - 4s 38ms/step - loss: 0.9757 - accuracy: 0.7021 - val_loss: 1.3488 - val_accuracy: 0.6073\n",
      "Epoch 12/100\n",
      "99/99 [==============================] - 4s 37ms/step - loss: 0.9318 - accuracy: 0.7171 - val_loss: 1.3164 - val_accuracy: 0.6330\n",
      "Epoch 13/100\n",
      "99/99 [==============================] - 4s 37ms/step - loss: 0.8875 - accuracy: 0.7365 - val_loss: 1.3286 - val_accuracy: 0.6255\n",
      "Epoch 14/100\n",
      "99/99 [==============================] - 4s 38ms/step - loss: 0.8546 - accuracy: 0.7491 - val_loss: 1.3021 - val_accuracy: 0.6454\n",
      "Epoch 15/100\n",
      "99/99 [==============================] - 4s 38ms/step - loss: 0.8232 - accuracy: 0.7591 - val_loss: 1.2936 - val_accuracy: 0.6636\n",
      "Epoch 16/100\n",
      "99/99 [==============================] - 4s 38ms/step - loss: 0.7912 - accuracy: 0.7752 - val_loss: 1.2670 - val_accuracy: 0.6645\n",
      "Epoch 17/100\n",
      "99/99 [==============================] - 4s 37ms/step - loss: 0.7614 - accuracy: 0.7882 - val_loss: 1.2773 - val_accuracy: 0.6587\n",
      "Epoch 18/100\n",
      "99/99 [==============================] - 4s 37ms/step - loss: 0.7410 - accuracy: 0.7938 - val_loss: 1.2743 - val_accuracy: 0.6529\n",
      "Epoch 19/100\n",
      "99/99 [==============================] - 4s 37ms/step - loss: 0.7116 - accuracy: 0.8096 - val_loss: 1.2039 - val_accuracy: 0.7017\n",
      "Epoch 20/100\n",
      "99/99 [==============================] - 4s 38ms/step - loss: 0.6941 - accuracy: 0.8111 - val_loss: 1.2163 - val_accuracy: 0.6910\n",
      "Epoch 21/100\n",
      "99/99 [==============================] - 4s 37ms/step - loss: 0.6734 - accuracy: 0.8185 - val_loss: 1.2346 - val_accuracy: 0.6852\n",
      "Epoch 22/100\n",
      "99/99 [==============================] - 4s 37ms/step - loss: 0.6484 - accuracy: 0.8343 - val_loss: 1.2229 - val_accuracy: 0.6968\n",
      "Epoch 23/100\n",
      "99/99 [==============================] - 4s 37ms/step - loss: 0.6349 - accuracy: 0.8383 - val_loss: 1.1872 - val_accuracy: 0.7017\n",
      "Epoch 24/100\n",
      "99/99 [==============================] - 4s 37ms/step - loss: 0.6234 - accuracy: 0.8401 - val_loss: 1.1965 - val_accuracy: 0.6860\n",
      "Epoch 25/100\n",
      "99/99 [==============================] - 4s 37ms/step - loss: 0.6012 - accuracy: 0.8531 - val_loss: 1.1842 - val_accuracy: 0.7042\n",
      "Epoch 26/100\n",
      "99/99 [==============================] - 4s 37ms/step - loss: 0.5890 - accuracy: 0.8581 - val_loss: 1.1895 - val_accuracy: 0.7001\n",
      "Epoch 27/100\n",
      "99/99 [==============================] - 4s 37ms/step - loss: 0.5732 - accuracy: 0.8629 - val_loss: 1.1536 - val_accuracy: 0.7200\n",
      "Epoch 28/100\n",
      "99/99 [==============================] - 4s 37ms/step - loss: 0.5599 - accuracy: 0.8671 - val_loss: 1.1533 - val_accuracy: 0.7274\n",
      "Epoch 29/100\n",
      "99/99 [==============================] - 4s 37ms/step - loss: 0.5461 - accuracy: 0.8760 - val_loss: 1.1399 - val_accuracy: 0.7266\n",
      "Epoch 30/100\n",
      "99/99 [==============================] - 4s 37ms/step - loss: 0.5379 - accuracy: 0.8741 - val_loss: 1.1325 - val_accuracy: 0.7365\n",
      "Epoch 31/100\n",
      "99/99 [==============================] - 4s 37ms/step - loss: 0.5231 - accuracy: 0.8856 - val_loss: 1.1299 - val_accuracy: 0.7341\n",
      "Epoch 32/100\n",
      "99/99 [==============================] - 4s 37ms/step - loss: 0.5130 - accuracy: 0.8861 - val_loss: 1.1258 - val_accuracy: 0.7399\n",
      "Epoch 33/100\n",
      "99/99 [==============================] - 4s 37ms/step - loss: 0.5006 - accuracy: 0.8910 - val_loss: 1.1235 - val_accuracy: 0.7299\n",
      "Epoch 34/100\n",
      "99/99 [==============================] - 4s 37ms/step - loss: 0.4922 - accuracy: 0.8921 - val_loss: 1.1330 - val_accuracy: 0.7283\n",
      "Epoch 35/100\n",
      "99/99 [==============================] - 4s 37ms/step - loss: 0.4824 - accuracy: 0.8984 - val_loss: 1.1482 - val_accuracy: 0.7225\n",
      "Epoch 36/100\n",
      "99/99 [==============================] - 4s 37ms/step - loss: 0.4772 - accuracy: 0.8973 - val_loss: 1.1380 - val_accuracy: 0.7316\n",
      "Epoch 37/100\n",
      "99/99 [==============================] - 4s 37ms/step - loss: 0.4621 - accuracy: 0.9049 - val_loss: 1.1184 - val_accuracy: 0.7357\n",
      "Epoch 38/100\n",
      "99/99 [==============================] - 4s 37ms/step - loss: 0.4538 - accuracy: 0.9069 - val_loss: 1.0963 - val_accuracy: 0.7523\n",
      "Epoch 39/100\n",
      "99/99 [==============================] - 4s 37ms/step - loss: 0.4447 - accuracy: 0.9091 - val_loss: 1.1462 - val_accuracy: 0.7274\n",
      "Epoch 40/100\n",
      "99/99 [==============================] - 4s 37ms/step - loss: 0.4384 - accuracy: 0.9129 - val_loss: 1.0616 - val_accuracy: 0.7514\n",
      "Epoch 41/100\n",
      "99/99 [==============================] - 4s 37ms/step - loss: 0.4307 - accuracy: 0.9149 - val_loss: 1.1136 - val_accuracy: 0.7324\n",
      "Epoch 42/100\n",
      "99/99 [==============================] - 4s 37ms/step - loss: 0.4247 - accuracy: 0.9151 - val_loss: 1.0931 - val_accuracy: 0.7390\n",
      "Epoch 43/100\n",
      "99/99 [==============================] - 4s 37ms/step - loss: 0.4157 - accuracy: 0.9204 - val_loss: 1.0863 - val_accuracy: 0.7498\n",
      "Epoch 44/100\n",
      "99/99 [==============================] - 4s 37ms/step - loss: 0.4096 - accuracy: 0.9213 - val_loss: 1.0692 - val_accuracy: 0.7448\n",
      "Epoch 45/100\n",
      "99/99 [==============================] - 4s 37ms/step - loss: 0.4113 - accuracy: 0.9195 - val_loss: 1.1112 - val_accuracy: 0.7357\n",
      "Epoch 46/100\n",
      "99/99 [==============================] - 4s 37ms/step - loss: 0.4045 - accuracy: 0.9226 - val_loss: 1.0712 - val_accuracy: 0.7448\n",
      "Epoch 47/100\n",
      "99/99 [==============================] - 4s 37ms/step - loss: 0.3924 - accuracy: 0.9272 - val_loss: 1.0392 - val_accuracy: 0.7548\n",
      "Epoch 48/100\n",
      "99/99 [==============================] - 4s 37ms/step - loss: 0.3929 - accuracy: 0.9274 - val_loss: 1.0329 - val_accuracy: 0.7539\n",
      "Epoch 49/100\n",
      "99/99 [==============================] - 4s 37ms/step - loss: 0.3828 - accuracy: 0.9291 - val_loss: 1.0466 - val_accuracy: 0.7581\n",
      "Epoch 50/100\n",
      "99/99 [==============================] - 4s 37ms/step - loss: 0.3831 - accuracy: 0.9281 - val_loss: 1.0721 - val_accuracy: 0.7465\n",
      "Epoch 51/100\n",
      "99/99 [==============================] - 4s 37ms/step - loss: 0.3761 - accuracy: 0.9314 - val_loss: 1.0449 - val_accuracy: 0.7572\n",
      "Epoch 52/100\n",
      "99/99 [==============================] - 4s 37ms/step - loss: 0.3706 - accuracy: 0.9337 - val_loss: 1.0423 - val_accuracy: 0.7539\n",
      "Epoch 53/100\n",
      "99/99 [==============================] - 4s 37ms/step - loss: 0.3670 - accuracy: 0.9324 - val_loss: 1.0542 - val_accuracy: 0.7531\n",
      "Epoch 54/100\n",
      "99/99 [==============================] - 4s 37ms/step - loss: 0.3616 - accuracy: 0.9367 - val_loss: 1.0583 - val_accuracy: 0.7448\n",
      "Epoch 55/100\n",
      "99/99 [==============================] - 4s 37ms/step - loss: 0.3574 - accuracy: 0.9378 - val_loss: 1.0720 - val_accuracy: 0.7382\n",
      "Epoch 56/100\n",
      "99/99 [==============================] - 4s 37ms/step - loss: 0.3542 - accuracy: 0.9376 - val_loss: 1.0474 - val_accuracy: 0.7514\n",
      "Epoch 57/100\n",
      "99/99 [==============================] - 4s 37ms/step - loss: 0.3499 - accuracy: 0.9395 - val_loss: 1.0760 - val_accuracy: 0.7399\n",
      "Epoch 58/100\n"
     ]
    },
    {
     "name": "stdout",
     "output_type": "stream",
     "text": [
      "99/99 [==============================] - 4s 37ms/step - loss: 0.3494 - accuracy: 0.9385 - val_loss: 1.0579 - val_accuracy: 0.7490\n",
      "Epoch 59/100\n",
      "99/99 [==============================] - 4s 37ms/step - loss: 0.3436 - accuracy: 0.9434 - val_loss: 1.0565 - val_accuracy: 0.7680\n",
      "Epoch 60/100\n",
      "99/99 [==============================] - 4s 37ms/step - loss: 0.3451 - accuracy: 0.9401 - val_loss: 1.0656 - val_accuracy: 0.7630\n",
      "Epoch 61/100\n",
      "99/99 [==============================] - 4s 37ms/step - loss: 0.3385 - accuracy: 0.9425 - val_loss: 1.0147 - val_accuracy: 0.7763\n",
      "Epoch 62/100\n",
      "99/99 [==============================] - 4s 37ms/step - loss: 0.3337 - accuracy: 0.9463 - val_loss: 1.0844 - val_accuracy: 0.7506\n",
      "Epoch 63/100\n",
      "99/99 [==============================] - 4s 37ms/step - loss: 0.3318 - accuracy: 0.9464 - val_loss: 1.0626 - val_accuracy: 0.7564\n",
      "Epoch 64/100\n",
      "99/99 [==============================] - 4s 37ms/step - loss: 0.3392 - accuracy: 0.9445 - val_loss: 1.0190 - val_accuracy: 0.7771\n",
      "Epoch 65/100\n",
      "99/99 [==============================] - 4s 37ms/step - loss: 0.3251 - accuracy: 0.9475 - val_loss: 1.0236 - val_accuracy: 0.7854\n",
      "Epoch 66/100\n",
      "99/99 [==============================] - 4s 37ms/step - loss: 0.3258 - accuracy: 0.9472 - val_loss: 1.0238 - val_accuracy: 0.7838\n",
      "Epoch 67/100\n",
      "99/99 [==============================] - 4s 37ms/step - loss: 0.3201 - accuracy: 0.9485 - val_loss: 1.0436 - val_accuracy: 0.7664\n",
      "Epoch 68/100\n",
      "99/99 [==============================] - 4s 37ms/step - loss: 0.3165 - accuracy: 0.9490 - val_loss: 1.0950 - val_accuracy: 0.7432\n",
      "Epoch 69/100\n",
      "99/99 [==============================] - 4s 37ms/step - loss: 0.3234 - accuracy: 0.9457 - val_loss: 1.0330 - val_accuracy: 0.7730\n",
      "Epoch 70/100\n",
      "99/99 [==============================] - 4s 37ms/step - loss: 0.3133 - accuracy: 0.9500 - val_loss: 1.0188 - val_accuracy: 0.7763\n",
      "Epoch 71/100\n",
      "99/99 [==============================] - 4s 37ms/step - loss: 0.3094 - accuracy: 0.9560 - val_loss: 0.9980 - val_accuracy: 0.7929\n",
      "Epoch 72/100\n",
      "99/99 [==============================] - 4s 37ms/step - loss: 0.3058 - accuracy: 0.9552 - val_loss: 1.0187 - val_accuracy: 0.7846\n",
      "Epoch 73/100\n",
      "99/99 [==============================] - 4s 37ms/step - loss: 0.3052 - accuracy: 0.9526 - val_loss: 1.0105 - val_accuracy: 0.7846\n",
      "Epoch 74/100\n",
      "99/99 [==============================] - 4s 37ms/step - loss: 0.3032 - accuracy: 0.9547 - val_loss: 1.0123 - val_accuracy: 0.7838\n",
      "Epoch 75/100\n",
      "99/99 [==============================] - 4s 37ms/step - loss: 0.3007 - accuracy: 0.9550 - val_loss: 1.0152 - val_accuracy: 0.7887\n",
      "Epoch 76/100\n",
      "99/99 [==============================] - 4s 37ms/step - loss: 0.3036 - accuracy: 0.9503 - val_loss: 1.0193 - val_accuracy: 0.7854\n",
      "Epoch 77/100\n",
      "99/99 [==============================] - 4s 37ms/step - loss: 0.2978 - accuracy: 0.9565 - val_loss: 0.9932 - val_accuracy: 0.8045\n",
      "Epoch 78/100\n",
      "99/99 [==============================] - 4s 37ms/step - loss: 0.2959 - accuracy: 0.9570 - val_loss: 1.0140 - val_accuracy: 0.7829\n",
      "Epoch 79/100\n",
      "99/99 [==============================] - 4s 37ms/step - loss: 0.2929 - accuracy: 0.9578 - val_loss: 1.0220 - val_accuracy: 0.7904\n",
      "Epoch 80/100\n",
      "99/99 [==============================] - 4s 37ms/step - loss: 0.2914 - accuracy: 0.9586 - val_loss: 1.0093 - val_accuracy: 0.7962\n",
      "Epoch 81/100\n",
      "99/99 [==============================] - 4s 37ms/step - loss: 0.2895 - accuracy: 0.9594 - val_loss: 1.0270 - val_accuracy: 0.7846\n",
      "Epoch 82/100\n",
      "99/99 [==============================] - 4s 37ms/step - loss: 0.2863 - accuracy: 0.9593 - val_loss: 1.0063 - val_accuracy: 0.8020\n",
      "Epoch 83/100\n",
      "99/99 [==============================] - 4s 37ms/step - loss: 0.2838 - accuracy: 0.9592 - val_loss: 1.0129 - val_accuracy: 0.7945\n",
      "Epoch 84/100\n",
      "99/99 [==============================] - 4s 37ms/step - loss: 0.2836 - accuracy: 0.9593 - val_loss: 1.0526 - val_accuracy: 0.7788\n",
      "Epoch 85/100\n",
      "99/99 [==============================] - 4s 37ms/step - loss: 0.2802 - accuracy: 0.9615 - val_loss: 1.0206 - val_accuracy: 0.7937\n",
      "Epoch 86/100\n",
      "99/99 [==============================] - 4s 37ms/step - loss: 0.2775 - accuracy: 0.9642 - val_loss: 1.0403 - val_accuracy: 0.7912\n",
      "Epoch 87/100\n",
      "99/99 [==============================] - 4s 37ms/step - loss: 0.2769 - accuracy: 0.9624 - val_loss: 1.0213 - val_accuracy: 0.7954\n",
      "Epoch 88/100\n",
      "99/99 [==============================] - 4s 37ms/step - loss: 0.2749 - accuracy: 0.9619 - val_loss: 1.0175 - val_accuracy: 0.7937\n",
      "Epoch 89/100\n",
      "99/99 [==============================] - 4s 37ms/step - loss: 0.2723 - accuracy: 0.9643 - val_loss: 1.0179 - val_accuracy: 0.7970\n",
      "Epoch 90/100\n",
      "99/99 [==============================] - 4s 37ms/step - loss: 0.2739 - accuracy: 0.9593 - val_loss: 1.0228 - val_accuracy: 0.7987\n",
      "Epoch 91/100\n",
      "99/99 [==============================] - 4s 37ms/step - loss: 0.2716 - accuracy: 0.9626 - val_loss: 1.0165 - val_accuracy: 0.7904\n",
      "Epoch 92/100\n",
      "99/99 [==============================] - 4s 37ms/step - loss: 0.2680 - accuracy: 0.9639 - val_loss: 1.0034 - val_accuracy: 0.8036\n",
      "Epoch 93/100\n",
      "99/99 [==============================] - 4s 37ms/step - loss: 0.2650 - accuracy: 0.9652 - val_loss: 1.0329 - val_accuracy: 0.7987\n",
      "Epoch 94/100\n",
      "99/99 [==============================] - 4s 37ms/step - loss: 0.2656 - accuracy: 0.9656 - val_loss: 0.9757 - val_accuracy: 0.8136\n",
      "Epoch 95/100\n",
      "99/99 [==============================] - 4s 37ms/step - loss: 0.2641 - accuracy: 0.9647 - val_loss: 1.0316 - val_accuracy: 0.7945\n",
      "Epoch 96/100\n",
      "99/99 [==============================] - 4s 37ms/step - loss: 0.2611 - accuracy: 0.9649 - val_loss: 1.0245 - val_accuracy: 0.7954\n",
      "Epoch 97/100\n",
      "99/99 [==============================] - 4s 37ms/step - loss: 0.2641 - accuracy: 0.9631 - val_loss: 1.0247 - val_accuracy: 0.8003\n",
      "Epoch 98/100\n",
      "99/99 [==============================] - 4s 38ms/step - loss: 0.2584 - accuracy: 0.9659 - val_loss: 1.0419 - val_accuracy: 0.7970\n",
      "Epoch 99/100\n",
      "99/99 [==============================] - 4s 37ms/step - loss: 0.2578 - accuracy: 0.9681 - val_loss: 1.0275 - val_accuracy: 0.7945\n",
      "Epoch 100/100\n",
      "99/99 [==============================] - 4s 37ms/step - loss: 0.2552 - accuracy: 0.9671 - val_loss: 1.0467 - val_accuracy: 0.7987\n"
     ]
    }
   ],
   "source": [
    "opt = Adam(learning_rate=0.00001)\n",
    "es = EarlyStopping(monitor='val_loss', mode='min', min_delta = 1e-8, patience = 50)\n",
    "\n",
    "\n",
    "np.random.seed(42)\n",
    "baseline_model.compile(optimizer=opt,\n",
    "              loss = 'categorical_crossentropy',\n",
    "              metrics = ['accuracy'])\n",
    "\n",
    "baseline_histoire = baseline_model.fit(train_images,\n",
    "                                       train_labels,\n",
    "                                       #callbacks = [es],\n",
    "                                       epochs = 100,\n",
    "                                       batch_size = 80,\n",
    "                                       validation_data = (val_images, val_labels))"
   ]
  },
  {
   "cell_type": "code",
   "execution_count": 299,
   "id": "b171fd9b",
   "metadata": {},
   "outputs": [
    {
     "name": "stdout",
     "output_type": "stream",
     "text": [
      "Model: \"sequential_17\"\n",
      "_________________________________________________________________\n",
      " Layer (type)                Output Shape              Param #   \n",
      "=================================================================\n",
      " conv2d_24 (Conv2D)          (None, 98, 98, 18)        504       \n",
      "                                                                 \n",
      " max_pooling2d_24 (MaxPoolin  (None, 49, 49, 18)       0         \n",
      " g2D)                                                            \n",
      "                                                                 \n",
      " dropout_24 (Dropout)        (None, 49, 49, 18)        0         \n",
      "                                                                 \n",
      " conv2d_25 (Conv2D)          (None, 47, 47, 36)        5868      \n",
      "                                                                 \n",
      " dropout_25 (Dropout)        (None, 47, 47, 36)        0         \n",
      "                                                                 \n",
      " max_pooling2d_25 (MaxPoolin  (None, 23, 23, 36)       0         \n",
      " g2D)                                                            \n",
      "                                                                 \n",
      " dropout_26 (Dropout)        (None, 23, 23, 36)        0         \n",
      "                                                                 \n",
      " flatten_12 (Flatten)        (None, 19044)             0         \n",
      "                                                                 \n",
      " dense_32 (Dense)            (None, 24)                457080    \n",
      "                                                                 \n",
      " dense_33 (Dense)            (None, 6)                 150       \n",
      "                                                                 \n",
      "=================================================================\n",
      "Total params: 463,602\n",
      "Trainable params: 463,602\n",
      "Non-trainable params: 0\n",
      "_________________________________________________________________\n"
     ]
    }
   ],
   "source": [
    "baseline_model.summary()"
   ]
  },
  {
   "cell_type": "code",
   "execution_count": 300,
   "id": "6cb71f50",
   "metadata": {},
   "outputs": [
    {
     "name": "stdout",
     "output_type": "stream",
     "text": [
      "246/246 [==============================] - 3s 13ms/step - loss: 0.3805 - accuracy: 0.9181\n",
      "95/95 [==============================] - 1s 13ms/step - loss: 1.5083 - accuracy: 0.7222\n"
     ]
    }
   ],
   "source": [
    "baseline_results_train = baseline_model.evaluate(train_images, train_labels)\n",
    "baseline_results_test = baseline_model.evaluate(test_images, test_labels)"
   ]
  },
  {
   "cell_type": "code",
   "execution_count": 301,
   "id": "8f469382",
   "metadata": {},
   "outputs": [
    {
     "name": "stdout",
     "output_type": "stream",
     "text": [
      "Baseline Train Results: [0.3805387616157532, 0.9181227684020996]\n",
      "Baseline Test Results: [1.5083258152008057, 0.7222406268119812]\n"
     ]
    }
   ],
   "source": [
    "print(f'Baseline Train Results: {baseline_results_train}')\n",
    "print(f'Baseline Test Results: {baseline_results_test}')"
   ]
  },
  {
   "cell_type": "markdown",
   "id": "d89b21cb",
   "metadata": {},
   "source": [
    "#### Baseline Model Visualizations"
   ]
  },
  {
   "cell_type": "markdown",
   "id": "251ddb9a",
   "metadata": {},
   "source": [
    "#### Graphing Accuracy and Loss Metrics"
   ]
  },
  {
   "cell_type": "code",
   "execution_count": 302,
   "id": "f391b318",
   "metadata": {},
   "outputs": [
    {
     "data": {
      "image/png": "[encoded data removed]",
      "text/plain": [
       "<Figure size 640x480 with 1 Axes>"
      ]
     },
     "metadata": {},
     "output_type": "display_data"
    },
    {
     "data": {
      "image/png": "[encoded data removed]",
      "text/plain": [
       "<Figure size 640x480 with 1 Axes>"
      ]
     },
     "metadata": {},
     "output_type": "display_data"
    }
   ],
   "source": [
    "# Plot history\n",
    "acc = baseline_histoire.history['accuracy']\n",
    "val_acc = baseline_histoire.history['val_accuracy']\n",
    "loss = baseline_histoire.history['loss']\n",
    "val_loss = baseline_histoire.history['val_loss']\n",
    "epochs = range(len(acc))\n",
    "plt.plot(epochs, acc, 'bo', label='Training acc')\n",
    "plt.plot(epochs, val_acc, 'b', label='Validation acc')\n",
    "plt.title('Training and validation accuracy')\n",
    "plt.legend()\n",
    "plt.figure()\n",
    "plt.plot(epochs, loss, 'bo', label='Training loss')\n",
    "plt.plot(epochs, val_loss, 'b', label='Validation loss')\n",
    "plt.title('Training and validation loss')\n",
    "plt.legend()\n",
    "plt.show();\n",
    "\n"
   ]
  },
  {
   "cell_type": "markdown",
   "id": "77908369",
   "metadata": {},
   "source": [
    "#### Confusion Matrix"
   ]
  },
  {
   "cell_type": "code",
   "execution_count": 303,
   "id": "1f0a2ca3",
   "metadata": {},
   "outputs": [
    {
     "name": "stderr",
     "output_type": "stream",
     "text": [
      "/Users/skyejeanat/miniforge3/envs/tensorflow_env/lib/python3.8/site-packages/sklearn/utils/deprecation.py:87: FutureWarning: Function plot_confusion_matrix is deprecated; Function `plot_confusion_matrix` is deprecated in 1.0 and will be removed in 1.2. Use one of the class methods: ConfusionMatrixDisplay.from_predictions or ConfusionMatrixDisplay.from_estimator.\n",
      "  warnings.warn(msg, category=FutureWarning)\n",
      "2022-12-07 17:18:49.542202: I tensorflow/core/grappler/optimizers/custom_graph_optimizer_registry.cc:113] Plugin optimizer for device_type GPU is enabled.\n"
     ]
    },
    {
     "data": {
      "image/png": "[encoded data removed]",
      "text/plain": [
       "<Figure size 640x480 with 2 Axes>"
      ]
     },
     "metadata": {},
     "output_type": "display_data"
    }
   ],
   "source": [
    "class_names = train_class_names\n",
    "class estimator:\n",
    "    _estimator_type = ''\n",
    "    classes_= []\n",
    "    def __init__(self, model, classes):\n",
    "        self.model = model\n",
    "        self._estimator_type = 'classifier'\n",
    "        self.classes_ = classes\n",
    "    def predict(self, X):\n",
    "        y_prob = self.model.predict(X)\n",
    "        y_pred = y_prob.argmax(axis=1)\n",
    "\n",
    "        return y_pred\n",
    "\n",
    "classifier = estimator(baseline_model, class_names)\n",
    "plot_confusion_matrix(estimator = classifier, \n",
    "                      X = test_images, \n",
    "                      y_true = np.argmax(test_labels, axis = -1),\n",
    "                      display_labels = class_names,\n",
    "                     xticks_rotation = 'vertical');"
   ]
  },
  {
   "cell_type": "code",
   "execution_count": 319,
   "id": "043b7c45",
   "metadata": {},
   "outputs": [
    {
     "data": {
      "text/plain": [
       "array([[0., 0., 0., 0., 0., 1.],\n",
       "       [0., 0., 0., 1., 0., 0.],\n",
       "       [0., 0., 0., 0., 0., 1.],\n",
       "       ...,\n",
       "       [1., 0., 0., 0., 0., 0.],\n",
       "       [0., 0., 0., 0., 1., 0.],\n",
       "       [0., 0., 0., 0., 0., 1.]], dtype=float32)"
      ]
     },
     "execution_count": 319,
     "metadata": {},
     "output_type": "execute_result"
    }
   ],
   "source": [
    "test_labels"
   ]
  },
  {
   "cell_type": "markdown",
   "id": "3fd23909",
   "metadata": {},
   "source": [
    "#### Second Model"
   ]
  },
  {
   "cell_type": "code",
   "execution_count": 320,
   "id": "360a7259",
   "metadata": {},
   "outputs": [],
   "source": [
    "sz = 200\n",
    "\n",
    "# Initializing the CNN\n",
    "model1 = Sequential()\n",
    "\n",
    "# First convolution layer and pooling\n",
    "model1.add(Convolution2D(32, (3, 3), input_shape=(sz, sz, 3), activation='relu'))\n",
    "model1.add(MaxPooling2D(pool_size = (2, 2)))\n",
    "\n",
    "# Second convolution layer and pooling\n",
    "model1.add(Convolution2D(32, (3, 3), activation='relu'))\n",
    "# input_shape is going to be the pooled feature maps from the previous convolution layer\n",
    "model1.add(MaxPooling2D(pool_size=(2, 2)))\n",
    "\n",
    "# Flattening the layers\n",
    "model1.add(Flatten(input_shape = (28,28)))\n",
    "\n",
    "# Adding a fully connected layer\n",
    "model1.add(Dense(units=96, activation='relu'))\n",
    "model1.add(Dropout(0.40))\n",
    "model1.add(Dense(units=32, activation='relu'))\n",
    "model1.add(Dense(units=24, activation='softmax')) # softmax for more than 2"
   ]
  },
  {
   "cell_type": "code",
   "execution_count": 321,
   "id": "c88208d1",
   "metadata": {},
   "outputs": [
    {
     "name": "stdout",
     "output_type": "stream",
     "text": [
      "Model: \"sequential_18\"\n",
      "_________________________________________________________________\n",
      " Layer (type)                Output Shape              Param #   \n",
      "=================================================================\n",
      " conv2d_26 (Conv2D)          (None, 198, 198, 32)      896       \n",
      "                                                                 \n",
      " max_pooling2d_26 (MaxPoolin  (None, 99, 99, 32)       0         \n",
      " g2D)                                                            \n",
      "                                                                 \n",
      " conv2d_27 (Conv2D)          (None, 97, 97, 32)        9248      \n",
      "                                                                 \n",
      " max_pooling2d_27 (MaxPoolin  (None, 48, 48, 32)       0         \n",
      " g2D)                                                            \n",
      "                                                                 \n",
      " flatten_13 (Flatten)        (None, 73728)             0         \n",
      "                                                                 \n",
      " dense_34 (Dense)            (None, 96)                7077984   \n",
      "                                                                 \n",
      " dropout_27 (Dropout)        (None, 96)                0         \n",
      "                                                                 \n",
      " dense_35 (Dense)            (None, 32)                3104      \n",
      "                                                                 \n",
      " dense_36 (Dense)            (None, 24)                792       \n",
      "                                                                 \n",
      "=================================================================\n",
      "Total params: 7,092,024\n",
      "Trainable params: 7,092,024\n",
      "Non-trainable params: 0\n",
      "_________________________________________________________________\n"
     ]
    }
   ],
   "source": [
    "model1.summary()"
   ]
  },
  {
   "cell_type": "code",
   "execution_count": 322,
   "id": "1e310229",
   "metadata": {},
   "outputs": [],
   "source": [
    "model1.compile(optimizer='adam',\n",
    "               loss = tf.keras.losses.SparseCategoricalCrossentropy(from_logits=False),\n",
    "               metrics=['accuracy'])"
   ]
  },
  {
   "cell_type": "code",
   "execution_count": 323,
   "id": "470da53c",
   "metadata": {},
   "outputs": [],
   "source": [
    "# history = model1.fit(\n",
    "#     train_generator,\n",
    "#     validation_data = test_generator,\n",
    "#     epochs = 5\n",
    "# )"
   ]
  },
  {
   "cell_type": "code",
   "execution_count": null,
   "id": "bc3c8e8c",
   "metadata": {},
   "outputs": [],
   "source": []
  },
  {
   "cell_type": "code",
   "execution_count": null,
   "id": "616a58d5",
   "metadata": {},
   "outputs": [],
   "source": []
  }
 ],
 "metadata": {
  "kernelspec": {
   "display_name": "tensorflow_env",
   "language": "python",
   "name": "tensorflow_env"
  },
  "language_info": {
   "codemirror_mode": {
    "name": "ipython",
    "version": 3
   },
   "file_extension": ".py",
   "mimetype": "text/x-python",
   "name": "python",
   "nbconvert_exporter": "python",
   "pygments_lexer": "ipython3",
   "version": "3.8.15"
  }
 },
 "nbformat": 4,
 "nbformat_minor": 5
}
