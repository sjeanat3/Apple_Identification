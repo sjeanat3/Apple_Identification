{
 "cells": [
  {
   "cell_type": "markdown",
   "id": "4b40087c",
   "metadata": {},
   "source": [
    "## Import Necessary Libraries"
   ]
  },
  {
   "cell_type": "code",
   "execution_count": 1078,
   "id": "3ad423c2",
   "metadata": {},
   "outputs": [],
   "source": [
    "import pandas as pd\n",
    "import tensorflow as tf\n",
    "import os\n",
    "import numpy as np\n",
    "import itertools\n",
    "\n",
    "from tensorflow import keras\n",
    "from tensorflow.keras.models import Sequential, Model, load_model\n",
    "from tensorflow.keras.layers import Dense, Dropout, Convolution2D, MaxPooling2D, Flatten, \\\n",
    "GlobalAveragePooling2D, BatchNormalization, Resizing, Rescaling, RandomFlip, RandomRotation\n",
    "\n",
    "from tensorflow.keras.regularizers import l2\n",
    "from tensorflow.keras.utils import to_categorical\n",
    "from keras import models, layers \n",
    "from keras_preprocessing.image import load_img, array_to_img, img_to_array, ImageDataGenerator\n",
    "from keras.callbacks import EarlyStopping\n",
    "from tensorflow.keras.optimizers import  Adam\n",
    "\n",
    "from matplotlib import pyplot as plt\n",
    "import matplotlib.image as mpimg\n",
    "%matplotlib inline\n",
    "\n",
    "from sklearn.metrics import plot_confusion_matrix, confusion_matrix"
   ]
  },
  {
   "cell_type": "markdown",
   "id": "7c716d0a",
   "metadata": {},
   "source": [
    "## Load the Files of Images"
   ]
  },
  {
   "cell_type": "code",
   "execution_count": 1079,
   "id": "2c434633",
   "metadata": {},
   "outputs": [],
   "source": [
    "datagen = ImageDataGenerator()"
   ]
  },
  {
   "cell_type": "code",
   "execution_count": 1080,
   "id": "0895d807",
   "metadata": {},
   "outputs": [],
   "source": [
    "train_path =  './data/fruits-360_dataset/fruits-360/Training'\n",
    "test_path = './data/fruits-360_dataset/fruits-360/Test'\n",
    "val_path = './data/fruits-360_dataset/fruits-360/Validation'"
   ]
  },
  {
   "cell_type": "code",
   "execution_count": 1081,
   "id": "493a934d",
   "metadata": {},
   "outputs": [],
   "source": [
    "train_datagen = ImageDataGenerator(rescale = 1./255,\n",
    "                                   shear_range = 0.2, \n",
    "                                   zoom_range = 0.2,\n",
    "                                   horizontal_flip = True)\n",
    "\n",
    "test_datagen = ImageDataGenerator(rescale = 1./255)\n",
    "val_datagen = ImageDataGenerator(rescale = 1./255)"
   ]
  },
  {
   "cell_type": "code",
   "execution_count": 1082,
   "id": "19dd919a",
   "metadata": {},
   "outputs": [
    {
     "name": "stdout",
     "output_type": "stream",
     "text": [
      "Found 6019 images belonging to 6 classes.\n",
      "Found 1751 images belonging to 6 classes.\n",
      "Found 523 images belonging to 6 classes.\n"
     ]
    }
   ],
   "source": [
    "image_size = (100, 100)\n",
    "train_generator = train_datagen.flow_from_directory(\n",
    "    train_path,\n",
    "    target_size = image_size,\n",
    "    batch_size = 32,\n",
    "    color_mode = 'rgb',\n",
    "    class_mode = 'categorical')\n",
    "\n",
    "test_generator = test_datagen.flow_from_directory(\n",
    "    test_path,\n",
    "    target_size = image_size,\n",
    "    batch_size = 32,\n",
    "    color_mode = 'rgb',\n",
    "    class_mode = 'categorical')\n",
    "\n",
    "val_generator = val_datagen.flow_from_directory(\n",
    "    val_path,\n",
    "    target_size = image_size,\n",
    "    batch_size = 32,\n",
    "    color_mode = 'rgb',\n",
    "    class_mode = 'categorical')"
   ]
  },
  {
   "cell_type": "code",
   "execution_count": 1083,
   "id": "6846462f",
   "metadata": {},
   "outputs": [
    {
     "data": {
      "text/plain": [
       "['Apple Braeburn',\n",
       " 'Apple Crimson Snow',\n",
       " 'Apple Golden',\n",
       " 'Apple Granny Smith',\n",
       " 'Apple Pink Lady',\n",
       " 'Apple Red Delicious']"
      ]
     },
     "execution_count": 1083,
     "metadata": {},
     "output_type": "execute_result"
    }
   ],
   "source": [
    "train_class_names = list(train_generator.class_indices.keys())\n",
    "train_class_names"
   ]
  },
  {
   "cell_type": "code",
   "execution_count": 1084,
   "id": "a14152e8",
   "metadata": {},
   "outputs": [
    {
     "data": {
      "text/plain": [
       "['Apple Braeburn',\n",
       " 'Apple Crimson Snow',\n",
       " 'Apple Golden',\n",
       " 'Apple Granny Smith',\n",
       " 'Apple Pink Lady',\n",
       " 'Apple Red Delicious']"
      ]
     },
     "execution_count": 1084,
     "metadata": {},
     "output_type": "execute_result"
    }
   ],
   "source": [
    "test_class_names = list(test_generator.class_indices.keys())\n",
    "test_class_names"
   ]
  },
  {
   "cell_type": "code",
   "execution_count": 1085,
   "id": "135f09d1",
   "metadata": {},
   "outputs": [
    {
     "data": {
      "text/plain": [
       "['Apple Braeburn',\n",
       " 'Apple Crimson Snow',\n",
       " 'Apple Golden',\n",
       " 'Apple Granny Smith',\n",
       " 'Apple Pink Lady',\n",
       " 'Apple Red Delicious']"
      ]
     },
     "execution_count": 1085,
     "metadata": {},
     "output_type": "execute_result"
    }
   ],
   "source": [
    "val_class_names = list(val_generator.class_indices.keys())\n",
    "val_class_names"
   ]
  },
  {
   "cell_type": "markdown",
   "id": "06dd1bb1",
   "metadata": {},
   "source": [
    "## Begin Modeling"
   ]
  },
  {
   "cell_type": "markdown",
   "id": "19b89396",
   "metadata": {},
   "source": [
    "#### Baseline Model"
   ]
  },
  {
   "cell_type": "code",
   "execution_count": 1086,
   "id": "6528e7dd",
   "metadata": {},
   "outputs": [],
   "source": [
    "# create the data sets\n",
    "train_images, train_labels = next(train_generator)\n",
    "test_images, test_labels = next(test_generator)\n",
    "val_images, val_labels = next(val_generator)"
   ]
  },
  {
   "cell_type": "code",
   "execution_count": 1087,
   "id": "aed12946",
   "metadata": {},
   "outputs": [],
   "source": [
    "# enc_train_labels = to_categorical(train_labels) #/255\n",
    "# enc_train_images = to_categorical(train_images)\n",
    "\n",
    "# enc_test_labels = to_categorical(test_labels)/255\n",
    "# enc_test_images = to_categorical(test_images)\n",
    "\n",
    "# enc_val_labels = to_categorical(val_labels)/255\n",
    "# enc_val_images = to_categorical(val_images)"
   ]
  },
  {
   "cell_type": "code",
   "execution_count": 1088,
   "id": "be756f6c",
   "metadata": {},
   "outputs": [],
   "source": [
    "# train_img = train_images.reshape(train_images.shape[0], -1)\n",
    "# test_img = test_images.reshape(test_images.shape[0], -1)\n",
    "# val_img = val_images.reshape(val_images.shape[0], -1)"
   ]
  },
  {
   "cell_type": "code",
   "execution_count": 1089,
   "id": "1d962fa7",
   "metadata": {},
   "outputs": [],
   "source": [
    "# print(train_img.shape)\n",
    "# print(test_img.shape)\n",
    "# print(val_img.shape)"
   ]
  },
  {
   "cell_type": "code",
   "execution_count": 1090,
   "id": "002b9684",
   "metadata": {},
   "outputs": [
    {
     "data": {
      "text/plain": [
       "array([[0., 0., 1., 0., 0., 0.],\n",
       "       [0., 0., 0., 0., 0., 1.],\n",
       "       [0., 0., 0., 1., 0., 0.],\n",
       "       [0., 0., 0., 0., 1., 0.],\n",
       "       [0., 0., 1., 0., 0., 0.],\n",
       "       [0., 0., 1., 0., 0., 0.],\n",
       "       [0., 0., 1., 0., 0., 0.],\n",
       "       [1., 0., 0., 0., 0., 0.],\n",
       "       [0., 0., 1., 0., 0., 0.],\n",
       "       [0., 0., 1., 0., 0., 0.],\n",
       "       [0., 0., 0., 0., 0., 1.],\n",
       "       [0., 0., 1., 0., 0., 0.],\n",
       "       [0., 0., 1., 0., 0., 0.],\n",
       "       [0., 0., 1., 0., 0., 0.],\n",
       "       [0., 0., 1., 0., 0., 0.],\n",
       "       [0., 0., 1., 0., 0., 0.],\n",
       "       [1., 0., 0., 0., 0., 0.],\n",
       "       [0., 0., 0., 0., 0., 1.],\n",
       "       [1., 0., 0., 0., 0., 0.],\n",
       "       [0., 0., 1., 0., 0., 0.],\n",
       "       [0., 0., 1., 0., 0., 0.],\n",
       "       [0., 0., 1., 0., 0., 0.],\n",
       "       [0., 0., 1., 0., 0., 0.],\n",
       "       [0., 1., 0., 0., 0., 0.],\n",
       "       [0., 0., 0., 1., 0., 0.],\n",
       "       [0., 0., 0., 0., 0., 1.],\n",
       "       [0., 0., 0., 1., 0., 0.],\n",
       "       [0., 0., 0., 1., 0., 0.],\n",
       "       [0., 0., 1., 0., 0., 0.],\n",
       "       [0., 0., 1., 0., 0., 0.],\n",
       "       [0., 0., 1., 0., 0., 0.],\n",
       "       [0., 0., 1., 0., 0., 0.]], dtype=float32)"
      ]
     },
     "execution_count": 1090,
     "metadata": {},
     "output_type": "execute_result"
    }
   ],
   "source": [
    "train_labels"
   ]
  },
  {
   "cell_type": "code",
   "execution_count": 1091,
   "id": "b18f78de",
   "metadata": {},
   "outputs": [
    {
     "data": {
      "text/plain": [
       "(32, 100, 100, 3)"
      ]
     },
     "execution_count": 1091,
     "metadata": {},
     "output_type": "execute_result"
    }
   ],
   "source": [
    "train_images.shape"
   ]
  },
  {
   "cell_type": "code",
   "execution_count": 1092,
   "id": "4f0d66dc",
   "metadata": {},
   "outputs": [
    {
     "data": {
      "text/plain": [
       "(32, 6)"
      ]
     },
     "execution_count": 1092,
     "metadata": {},
     "output_type": "execute_result"
    }
   ],
   "source": [
    "train_labels.shape"
   ]
  },
  {
   "cell_type": "code",
   "execution_count": 1093,
   "id": "17ee0a39",
   "metadata": {},
   "outputs": [],
   "source": [
    "# train_y = np.reshape(train_labels[:,0], (32, ))\n",
    "# test_y = np.reshape(test_labels[:,0], (32, ))\n",
    "# val_y = np.reshape(val_labels[:,0], (32, ))"
   ]
  },
  {
   "cell_type": "code",
   "execution_count": 1094,
   "id": "02fea473",
   "metadata": {},
   "outputs": [],
   "source": [
    "#Instantiate a Regularizer\n",
    "reg = l2(3e-3)"
   ]
  },
  {
   "cell_type": "code",
   "execution_count": 1095,
   "id": "209069fe",
   "metadata": {},
   "outputs": [],
   "source": [
    "data_augmentation = tf.keras.Sequential([\n",
    "  layers.RandomFlip(\"horizontal_and_vertical\"),\n",
    "  layers.RandomRotation(0.2),\n",
    "])"
   ]
  },
  {
   "cell_type": "code",
   "execution_count": 1096,
   "id": "6982a8bd",
   "metadata": {},
   "outputs": [],
   "source": [
    "baseline_model = models.Sequential([layers.RandomFlip(\"horizontal_and_vertical\"),\n",
    "                                   layers.RandomRotation(0.2),])\n",
    "baseline_model.add(layers.Conv2D(18, (3,3), activation='relu', input_shape=(100, 100, 3))) # 2 hidden layers\n",
    "baseline_model.add(layers.MaxPooling2D(2,2))\n",
    "baseline_model.add(layers.Dropout(0.25))\n",
    "baseline_model.add(layers.Conv2D(36, (3,3), activation='relu')) # 2 hidden layers\n",
    "baseline_model.add(layers.MaxPooling2D(2,2))\n",
    "#baseline_model.add(BatchNormalization())\n",
    "baseline_model.add(layers.Flatten())\n",
    "baseline_model.add(layers.Dense(36, activation='relu', kernel_regularizer = reg))\n",
    "baseline_model.add(layers.Dense(48, activation='relu', kernel_regularizer = reg))\n",
    "#baseline_model.add(layers.Dense(24, activation='relu', kernel_regularizer = reg))\n",
    "baseline_model.add(layers.Dense(6, activation='softmax', kernel_regularizer = reg))\n",
    "#Check example of dropout, towrards start, filyters\n",
    "# CNNS Intro\n",
    "# "
   ]
  },
  {
   "cell_type": "code",
   "execution_count": 1097,
   "id": "b82cf148",
   "metadata": {},
   "outputs": [
    {
     "data": {
      "text/plain": [
       "(32, 100, 100, 3)"
      ]
     },
     "execution_count": 1097,
     "metadata": {},
     "output_type": "execute_result"
    }
   ],
   "source": [
    "train_images.shape"
   ]
  },
  {
   "cell_type": "code",
   "execution_count": 1098,
   "id": "02e494d7",
   "metadata": {},
   "outputs": [
    {
     "data": {
      "text/plain": [
       "(32, 6)"
      ]
     },
     "execution_count": 1098,
     "metadata": {},
     "output_type": "execute_result"
    }
   ],
   "source": [
    "train_labels.shape"
   ]
  },
  {
   "cell_type": "code",
   "execution_count": 1099,
   "id": "68c2ec73",
   "metadata": {},
   "outputs": [
    {
     "name": "stdout",
     "output_type": "stream",
     "text": [
      "Epoch 1/40\n"
     ]
    },
    {
     "name": "stderr",
     "output_type": "stream",
     "text": [
      "2022-12-06 22:49:57.296097: I tensorflow/core/grappler/optimizers/custom_graph_optimizer_registry.cc:113] Plugin optimizer for device_type GPU is enabled.\n"
     ]
    },
    {
     "name": "stdout",
     "output_type": "stream",
     "text": [
      "1/1 [==============================] - 1s 871ms/step - loss: 2.1675 - accuracy: 0.0312 - val_loss: 2.3696 - val_accuracy: 0.0312\n",
      "Epoch 2/40\n",
      "1/1 [==============================] - ETA: 0s - loss: 2.3304 - accuracy: 0.0312"
     ]
    },
    {
     "name": "stderr",
     "output_type": "stream",
     "text": [
      "2022-12-06 22:49:57.812482: I tensorflow/core/grappler/optimizers/custom_graph_optimizer_registry.cc:113] Plugin optimizer for device_type GPU is enabled.\n"
     ]
    },
    {
     "name": "stdout",
     "output_type": "stream",
     "text": [
      "1/1 [==============================] - 0s 136ms/step - loss: 2.3304 - accuracy: 0.0312 - val_loss: 2.0106 - val_accuracy: 0.2500\n",
      "Epoch 3/40\n",
      "1/1 [==============================] - 0s 124ms/step - loss: 1.5607 - accuracy: 0.5938 - val_loss: 2.1087 - val_accuracy: 0.2500\n",
      "Epoch 4/40\n",
      "1/1 [==============================] - 0s 134ms/step - loss: 1.6439 - accuracy: 0.5938 - val_loss: 2.0458 - val_accuracy: 0.2500\n",
      "Epoch 5/40\n",
      "1/1 [==============================] - 0s 135ms/step - loss: 1.5415 - accuracy: 0.5938 - val_loss: 1.9434 - val_accuracy: 0.2500\n",
      "Epoch 6/40\n",
      "1/1 [==============================] - 0s 136ms/step - loss: 1.4920 - accuracy: 0.5938 - val_loss: 1.8714 - val_accuracy: 0.2500\n",
      "Epoch 7/40\n",
      "1/1 [==============================] - 0s 139ms/step - loss: 1.4458 - accuracy: 0.5938 - val_loss: 1.8462 - val_accuracy: 0.2500\n",
      "Epoch 8/40\n",
      "1/1 [==============================] - 0s 132ms/step - loss: 1.4330 - accuracy: 0.5938 - val_loss: 1.8389 - val_accuracy: 0.2500\n",
      "Epoch 9/40\n",
      "1/1 [==============================] - 0s 120ms/step - loss: 1.4305 - accuracy: 0.5938 - val_loss: 1.8477 - val_accuracy: 0.2500\n",
      "Epoch 10/40\n",
      "1/1 [==============================] - 0s 138ms/step - loss: 1.3713 - accuracy: 0.5938 - val_loss: 1.8582 - val_accuracy: 0.2500\n",
      "Epoch 11/40\n",
      "1/1 [==============================] - 0s 126ms/step - loss: 1.3484 - accuracy: 0.5938 - val_loss: 1.8682 - val_accuracy: 0.2500\n",
      "Epoch 12/40\n",
      "1/1 [==============================] - 0s 126ms/step - loss: 1.3152 - accuracy: 0.5938 - val_loss: 1.8763 - val_accuracy: 0.2500\n",
      "Epoch 13/40\n",
      "1/1 [==============================] - 0s 119ms/step - loss: 1.3225 - accuracy: 0.5938 - val_loss: 1.8677 - val_accuracy: 0.2500\n",
      "Epoch 14/40\n",
      "1/1 [==============================] - 0s 117ms/step - loss: 1.2745 - accuracy: 0.5938 - val_loss: 1.8557 - val_accuracy: 0.2500\n",
      "Epoch 15/40\n",
      "1/1 [==============================] - 0s 129ms/step - loss: 1.2073 - accuracy: 0.6250 - val_loss: 1.8511 - val_accuracy: 0.2500\n",
      "Epoch 16/40\n",
      "1/1 [==============================] - 0s 129ms/step - loss: 1.1786 - accuracy: 0.6875 - val_loss: 1.8495 - val_accuracy: 0.2500\n",
      "Epoch 17/40\n",
      "1/1 [==============================] - 0s 127ms/step - loss: 1.1516 - accuracy: 0.6875 - val_loss: 1.8244 - val_accuracy: 0.2500\n",
      "Epoch 18/40\n",
      "1/1 [==============================] - 0s 120ms/step - loss: 1.1309 - accuracy: 0.6875 - val_loss: 1.8035 - val_accuracy: 0.2500\n",
      "Epoch 19/40\n",
      "1/1 [==============================] - 0s 127ms/step - loss: 1.1889 - accuracy: 0.6875 - val_loss: 1.7701 - val_accuracy: 0.2500\n",
      "Epoch 20/40\n",
      "1/1 [==============================] - 0s 128ms/step - loss: 1.0480 - accuracy: 0.6875 - val_loss: 1.7450 - val_accuracy: 0.2500\n",
      "Epoch 21/40\n",
      "1/1 [==============================] - 0s 121ms/step - loss: 1.0925 - accuracy: 0.6875 - val_loss: 1.7186 - val_accuracy: 0.2500\n",
      "Epoch 22/40\n",
      "1/1 [==============================] - 0s 121ms/step - loss: 1.1067 - accuracy: 0.6875 - val_loss: 1.6993 - val_accuracy: 0.2500\n",
      "Epoch 23/40\n",
      "1/1 [==============================] - 0s 113ms/step - loss: 1.0547 - accuracy: 0.6875 - val_loss: 1.6691 - val_accuracy: 0.2500\n",
      "Epoch 24/40\n",
      "1/1 [==============================] - 0s 118ms/step - loss: 1.0854 - accuracy: 0.7188 - val_loss: 1.6242 - val_accuracy: 0.2812\n",
      "Epoch 25/40\n",
      "1/1 [==============================] - 0s 114ms/step - loss: 1.0223 - accuracy: 0.7188 - val_loss: 1.5932 - val_accuracy: 0.2812\n",
      "Epoch 26/40\n",
      "1/1 [==============================] - 0s 119ms/step - loss: 1.0361 - accuracy: 0.7188 - val_loss: 1.5699 - val_accuracy: 0.2812\n",
      "Epoch 27/40\n",
      "1/1 [==============================] - 0s 110ms/step - loss: 0.9924 - accuracy: 0.7188 - val_loss: 1.5560 - val_accuracy: 0.2812\n",
      "Epoch 28/40\n",
      "1/1 [==============================] - 0s 115ms/step - loss: 0.9778 - accuracy: 0.7500 - val_loss: 1.5289 - val_accuracy: 0.2812\n",
      "Epoch 29/40\n",
      "1/1 [==============================] - 0s 114ms/step - loss: 0.9708 - accuracy: 0.7188 - val_loss: 1.4902 - val_accuracy: 0.2812\n",
      "Epoch 30/40\n",
      "1/1 [==============================] - 0s 115ms/step - loss: 0.9825 - accuracy: 0.7500 - val_loss: 1.4640 - val_accuracy: 0.2812\n",
      "Epoch 31/40\n",
      "1/1 [==============================] - 0s 116ms/step - loss: 0.9319 - accuracy: 0.7500 - val_loss: 1.4472 - val_accuracy: 0.3125\n",
      "Epoch 32/40\n",
      "1/1 [==============================] - 0s 120ms/step - loss: 0.9390 - accuracy: 0.7500 - val_loss: 1.4330 - val_accuracy: 0.3750\n",
      "Epoch 33/40\n",
      "1/1 [==============================] - 0s 114ms/step - loss: 0.9159 - accuracy: 0.7500 - val_loss: 1.4262 - val_accuracy: 0.4375\n",
      "Epoch 34/40\n",
      "1/1 [==============================] - 0s 110ms/step - loss: 0.8856 - accuracy: 0.7188 - val_loss: 1.4071 - val_accuracy: 0.4688\n",
      "Epoch 35/40\n",
      "1/1 [==============================] - 0s 112ms/step - loss: 0.8834 - accuracy: 0.7812 - val_loss: 1.3811 - val_accuracy: 0.4375\n",
      "Epoch 36/40\n",
      "1/1 [==============================] - 0s 113ms/step - loss: 0.9161 - accuracy: 0.7812 - val_loss: 1.3543 - val_accuracy: 0.4375\n",
      "Epoch 37/40\n",
      "1/1 [==============================] - 0s 107ms/step - loss: 0.8796 - accuracy: 0.7812 - val_loss: 1.3290 - val_accuracy: 0.4375\n",
      "Epoch 38/40\n",
      "1/1 [==============================] - 0s 113ms/step - loss: 0.9095 - accuracy: 0.7812 - val_loss: 1.2974 - val_accuracy: 0.5000\n",
      "Epoch 39/40\n",
      "1/1 [==============================] - 0s 111ms/step - loss: 0.8574 - accuracy: 0.8125 - val_loss: 1.2742 - val_accuracy: 0.5312\n",
      "Epoch 40/40\n",
      "1/1 [==============================] - 0s 116ms/step - loss: 0.8491 - accuracy: 0.7812 - val_loss: 1.2270 - val_accuracy: 0.5625\n"
     ]
    }
   ],
   "source": [
    "opt = Adam(learning_rate=0.001)\n",
    "es = EarlyStopping(monitor='val_loss', mode='min')\n",
    "\n",
    "\n",
    "np.random.seed(42)\n",
    "baseline_model.compile(optimizer=opt,\n",
    "              loss = 'categorical_crossentropy',\n",
    "              metrics = ['accuracy'])\n",
    "\n",
    "baseline_histoire = baseline_model.fit(train_images,\n",
    "                                       train_labels,\n",
    "                                       #callbacks = [es],\n",
    "                                       epochs = 40,\n",
    "                                       batch_size = 32,\n",
    "                                       validation_data = (val_images, val_labels))"
   ]
  },
  {
   "cell_type": "code",
   "execution_count": 1100,
   "id": "b171fd9b",
   "metadata": {},
   "outputs": [
    {
     "name": "stdout",
     "output_type": "stream",
     "text": [
      "Model: \"sequential_67\"\n",
      "_________________________________________________________________\n",
      " Layer (type)                Output Shape              Param #   \n",
      "=================================================================\n",
      " random_flip_24 (RandomFlip)  (32, 100, 100, 3)        0         \n",
      "                                                                 \n",
      " random_rotation_24 (RandomR  (32, 100, 100, 3)        0         \n",
      " otation)                                                        \n",
      "                                                                 \n",
      " conv2d_84 (Conv2D)          (32, 98, 98, 18)          504       \n",
      "                                                                 \n",
      " max_pooling2d_84 (MaxPoolin  (32, 49, 49, 18)         0         \n",
      " g2D)                                                            \n",
      "                                                                 \n",
      " dropout_56 (Dropout)        (32, 49, 49, 18)          0         \n",
      "                                                                 \n",
      " conv2d_85 (Conv2D)          (32, 47, 47, 36)          5868      \n",
      "                                                                 \n",
      " max_pooling2d_85 (MaxPoolin  (32, 23, 23, 36)         0         \n",
      " g2D)                                                            \n",
      "                                                                 \n",
      " flatten_56 (Flatten)        (32, 19044)               0         \n",
      "                                                                 \n",
      " dense_168 (Dense)           (32, 36)                  685620    \n",
      "                                                                 \n",
      " dense_169 (Dense)           (32, 48)                  1776      \n",
      "                                                                 \n",
      " dense_170 (Dense)           (32, 6)                   294       \n",
      "                                                                 \n",
      "=================================================================\n",
      "Total params: 694,062\n",
      "Trainable params: 694,062\n",
      "Non-trainable params: 0\n",
      "_________________________________________________________________\n"
     ]
    }
   ],
   "source": [
    "baseline_model.summary()"
   ]
  },
  {
   "cell_type": "code",
   "execution_count": 1101,
   "id": "6cb71f50",
   "metadata": {},
   "outputs": [
    {
     "name": "stdout",
     "output_type": "stream",
     "text": [
      "1/1 [==============================] - 0s 22ms/step - loss: 0.8939 - accuracy: 0.7812\n",
      "1/1 [==============================] - 0s 25ms/step - loss: 1.4721 - accuracy: 0.5000\n"
     ]
    }
   ],
   "source": [
    "baseline_results_train = baseline_model.evaluate(train_images, train_labels)\n",
    "baseline_results_test = baseline_model.evaluate(test_images, test_labels)"
   ]
  },
  {
   "cell_type": "code",
   "execution_count": 1102,
   "id": "8f469382",
   "metadata": {},
   "outputs": [
    {
     "name": "stdout",
     "output_type": "stream",
     "text": [
      "Baseline Train Results: [0.893923819065094, 0.78125]\n",
      "Baseline Test Results: [1.4720780849456787, 0.5]\n"
     ]
    }
   ],
   "source": [
    "print(f'Baseline Train Results: {baseline_results_train}')\n",
    "print(f'Baseline Test Results: {baseline_results_test}')"
   ]
  },
  {
   "cell_type": "markdown",
   "id": "d89b21cb",
   "metadata": {},
   "source": [
    "#### Baseline Model Visualizations"
   ]
  },
  {
   "cell_type": "markdown",
   "id": "251ddb9a",
   "metadata": {},
   "source": [
    "#### Graphing Accuracy and Loss Metrics"
   ]
  },
  {
   "cell_type": "code",
   "execution_count": 1103,
   "id": "f391b318",
   "metadata": {},
   "outputs": [
    {
     "data": {
      "image/png": "[encoded data removed]",
      "text/plain": [
       "<Figure size 640x480 with 1 Axes>"
      ]
     },
     "metadata": {},
     "output_type": "display_data"
    },
    {
     "data": {
      "image/png": "[encoded data removed]",
      "text/plain": [
       "<Figure size 640x480 with 1 Axes>"
      ]
     },
     "metadata": {},
     "output_type": "display_data"
    }
   ],
   "source": [
    "# Plot history\n",
    "acc = baseline_histoire.history['accuracy']\n",
    "val_acc = baseline_histoire.history['val_accuracy']\n",
    "loss = baseline_histoire.history['loss']\n",
    "val_loss = baseline_histoire.history['val_loss']\n",
    "epochs = range(len(acc))\n",
    "plt.plot(epochs, acc, 'bo', label='Training acc')\n",
    "plt.plot(epochs, val_acc, 'b', label='Validation acc')\n",
    "plt.title('Training and validation accuracy')\n",
    "plt.legend()\n",
    "plt.figure()\n",
    "plt.plot(epochs, loss, 'bo', label='Training loss')\n",
    "plt.plot(epochs, val_loss, 'b', label='Validation loss')\n",
    "plt.title('Training and validation loss')\n",
    "plt.legend()\n",
    "plt.show();\n",
    "\n"
   ]
  },
  {
   "cell_type": "markdown",
   "id": "77908369",
   "metadata": {},
   "source": [
    "#### Confusion Matrix"
   ]
  },
  {
   "cell_type": "code",
   "execution_count": 1104,
   "id": "98020715",
   "metadata": {},
   "outputs": [
    {
     "data": {
      "text/plain": [
       "(32, 100, 100, 3)"
      ]
     },
     "execution_count": 1104,
     "metadata": {},
     "output_type": "execute_result"
    }
   ],
   "source": [
    "test_images.shape"
   ]
  },
  {
   "cell_type": "code",
   "execution_count": 1105,
   "id": "a5b12e93",
   "metadata": {},
   "outputs": [
    {
     "name": "stderr",
     "output_type": "stream",
     "text": [
      "2022-12-06 22:50:02.971649: I tensorflow/core/grappler/optimizers/custom_graph_optimizer_registry.cc:113] Plugin optimizer for device_type GPU is enabled.\n"
     ]
    }
   ],
   "source": [
    "baseline_predictions = baseline_model.predict(x = test_images, batch_size = 32, verbose = 0)\n",
    "baseline_rounded_predictions = np.argmax(baseline_predictions, axis = -1)\n",
    "baseline_rounded_labels = np.argmax(test_labels, axis=1)\n",
    "baseline_cm = confusion_matrix(y_true = baseline_rounded_labels, y_pred = baseline_rounded_predictions)"
   ]
  },
  {
   "cell_type": "code",
   "execution_count": 1106,
   "id": "3364026e",
   "metadata": {},
   "outputs": [
    {
     "data": {
      "text/plain": [
       "array([[4.40223664e-01, 1.55153975e-01, 1.04108956e-02, 4.52947477e-03,\n",
       "        1.52263626e-01, 2.37418324e-01],\n",
       "       [1.20733842e-01, 1.06357463e-01, 1.34368226e-01, 8.09558928e-02,\n",
       "        1.17390357e-01, 4.40194190e-01],\n",
       "       [6.08118135e-04, 3.92529415e-03, 5.07700086e-01, 3.36932421e-01,\n",
       "        6.77657453e-03, 1.44057482e-01],\n",
       "       [2.87523083e-02, 4.36865278e-02, 2.98920184e-01, 1.64683565e-01,\n",
       "        7.25883394e-02, 3.91369134e-01],\n",
       "       [1.39688343e-01, 9.20952559e-02, 8.74808058e-02, 3.89375016e-02,\n",
       "        9.14114639e-02, 5.50386608e-01],\n",
       "       [4.50952917e-01, 1.40125930e-01, 8.81099235e-03, 3.20003158e-03,\n",
       "        1.62989467e-01, 2.33920619e-01],\n",
       "       [1.99139193e-01, 1.06878459e-01, 9.34235379e-02, 4.76917140e-02,\n",
       "        1.59629866e-01, 3.93237263e-01],\n",
       "       [2.44107973e-02, 3.47682498e-02, 2.48393953e-01, 1.77811861e-01,\n",
       "        4.67781648e-02, 4.67837036e-01],\n",
       "       [3.55199784e-01, 1.77557662e-01, 2.66920328e-02, 1.60780791e-02,\n",
       "        1.23804249e-01, 3.00668269e-01],\n",
       "       [3.39282423e-01, 1.39434263e-01, 3.96602303e-02, 2.17164923e-02,\n",
       "        1.75588459e-01, 2.84318119e-01],\n",
       "       [1.68644283e-02, 3.65167074e-02, 2.80997574e-01, 2.68967956e-01,\n",
       "        4.13263626e-02, 3.55327010e-01],\n",
       "       [3.44781041e-01, 1.39735714e-01, 3.74123342e-02, 2.04029623e-02,\n",
       "        1.73071980e-01, 2.84596056e-01],\n",
       "       [1.14265516e-01, 8.06899369e-02, 1.13264516e-01, 5.98831438e-02,\n",
       "        9.58277658e-02, 5.36069155e-01],\n",
       "       [3.57711285e-01, 1.87771723e-01, 2.66539883e-02, 1.45543506e-02,\n",
       "        1.67456612e-01, 2.45851994e-01],\n",
       "       [1.96213703e-04, 1.12051726e-03, 5.95648110e-01, 3.27884108e-01,\n",
       "        4.46825987e-03, 7.06827939e-02],\n",
       "       [1.36358454e-03, 5.94659243e-03, 4.68546301e-01, 3.41088921e-01,\n",
       "        1.15807010e-02, 1.71473935e-01],\n",
       "       [9.64149907e-02, 8.44995454e-02, 1.22793272e-01, 6.65188432e-02,\n",
       "        8.42300802e-02, 5.45543313e-01],\n",
       "       [1.25093656e-02, 2.51706187e-02, 3.44474316e-01, 2.19973266e-01,\n",
       "        4.14428040e-02, 3.56429547e-01],\n",
       "       [5.36087975e-02, 5.78844324e-02, 2.21021429e-01, 1.35388479e-01,\n",
       "        8.41751918e-02, 4.47921723e-01],\n",
       "       [4.32549804e-01, 1.89340189e-01, 1.14251748e-02, 6.84395013e-03,\n",
       "        1.38552934e-01, 2.21287891e-01],\n",
       "       [5.83988032e-04, 3.37480661e-03, 5.51371038e-01, 3.34288359e-01,\n",
       "        7.59103522e-03, 1.02790780e-01],\n",
       "       [1.51970744e-04, 8.25291208e-04, 6.48888588e-01, 2.92388022e-01,\n",
       "        3.84740764e-03, 5.38986549e-02],\n",
       "       [6.38993224e-04, 4.07765899e-03, 5.03472567e-01, 3.41387808e-01,\n",
       "        6.98600849e-03, 1.43436939e-01],\n",
       "       [4.53550547e-01, 1.39599383e-01, 8.56743567e-03, 3.10542108e-03,\n",
       "        1.70170754e-01, 2.25006372e-01],\n",
       "       [5.30636986e-04, 2.99386121e-03, 4.95880902e-01, 3.84187162e-01,\n",
       "        7.03081535e-03, 1.09376602e-01],\n",
       "       [4.33120161e-01, 1.54690936e-01, 1.24444822e-02, 5.08968998e-03,\n",
       "        1.78429469e-01, 2.16225237e-01],\n",
       "       [3.31906311e-04, 2.17419118e-03, 5.16835928e-01, 3.55410665e-01,\n",
       "        5.11911605e-03, 1.20128155e-01],\n",
       "       [9.96593968e-04, 5.58135100e-03, 4.91717368e-01, 3.19572330e-01,\n",
       "        8.77744798e-03, 1.73354939e-01],\n",
       "       [3.79543868e-04, 2.59887986e-03, 5.37079751e-01, 3.20449382e-01,\n",
       "        5.41938189e-03, 1.34073064e-01],\n",
       "       [1.74565196e-01, 8.41176212e-02, 6.68311864e-02, 2.51356196e-02,\n",
       "        8.76110196e-02, 5.61739385e-01],\n",
       "       [4.20468718e-01, 1.80821016e-01, 1.35844210e-02, 6.69513177e-03,\n",
       "        1.74086198e-01, 2.04344541e-01],\n",
       "       [7.86752644e-05, 3.42379557e-04, 6.13739312e-01, 3.54106814e-01,\n",
       "        3.24958330e-03, 2.84832530e-02]], dtype=float32)"
      ]
     },
     "execution_count": 1106,
     "metadata": {},
     "output_type": "execute_result"
    }
   ],
   "source": [
    "baseline_predictions"
   ]
  },
  {
   "cell_type": "code",
   "execution_count": 1107,
   "id": "499b6588",
   "metadata": {},
   "outputs": [
    {
     "data": {
      "text/plain": [
       "array([0, 5, 2, 4, 0, 0, 5, 5, 5, 5, 5, 5, 5, 5, 2, 3, 0, 4, 4, 1, 2, 2,\n",
       "       2, 0, 2, 1, 2, 3, 3, 0, 5, 2])"
      ]
     },
     "execution_count": 1107,
     "metadata": {},
     "output_type": "execute_result"
    }
   ],
   "source": [
    "baseline_rounded_labels"
   ]
  },
  {
   "cell_type": "code",
   "execution_count": 1108,
   "id": "1394614d",
   "metadata": {},
   "outputs": [
    {
     "data": {
      "text/plain": [
       "array([0, 5, 2, 4, 0, 0, 5, 5, 5, 5, 5, 5, 5, 5, 2, 3, 0, 4, 4, 1, 2, 2,\n",
       "       2, 0, 2, 1, 2, 3, 3, 0, 5, 2])"
      ]
     },
     "execution_count": 1108,
     "metadata": {},
     "output_type": "execute_result"
    }
   ],
   "source": [
    "baseline_rounded_labels"
   ]
  },
  {
   "cell_type": "code",
   "execution_count": 1109,
   "id": "99eb995d",
   "metadata": {},
   "outputs": [
    {
     "data": {
      "text/plain": [
       "array([0, 5, 2, 5, 5, 0, 5, 5, 0, 0, 5, 0, 5, 0, 2, 2, 5, 5, 5, 0, 2, 2,\n",
       "       2, 0, 2, 0, 2, 2, 2, 5, 0, 2])"
      ]
     },
     "execution_count": 1109,
     "metadata": {},
     "output_type": "execute_result"
    }
   ],
   "source": [
    "baseline_rounded_predictions"
   ]
  },
  {
   "cell_type": "code",
   "execution_count": 1110,
   "id": "4b1aee79",
   "metadata": {},
   "outputs": [],
   "source": [
    "# cm_digits = confusion_matrix(y_test, predicted)\n",
    "# disp = ConfusionMatrixDisplay(\n",
    "#     confusion_matrix=cm_digits)\n",
    "\n",
    "# disp.plot(cmap=plt.cm.Blues)\n",
    "# plt.show()"
   ]
  },
  {
   "cell_type": "code",
   "execution_count": 1111,
   "id": "5a299704",
   "metadata": {},
   "outputs": [],
   "source": [
    "# cm_digits = confusion_matrix(y_test, predicted)\n",
    "# disp = ConfusionMatrixDisplay(\n",
    "#     confusion_matrix=cm_digits)\n",
    "\n",
    "# disp.plot(cmap=plt.cm.Blues)\n",
    "# plt.show()"
   ]
  },
  {
   "cell_type": "code",
   "execution_count": 1112,
   "id": "50f4de59",
   "metadata": {},
   "outputs": [],
   "source": [
    "def plot_confusion_matrix_func(cm, classes,\n",
    "                        normalize=False,\n",
    "                        title='Confusion matrix',\n",
    "                        cmap=plt.cm.Blues):\n",
    "    \"\"\"\n",
    "    This function prints and plots the confusion matrix.\n",
    "    Normalization can be applied by setting `normalize=True`.\n",
    "    \"\"\"\n",
    "    plt.imshow(cm, interpolation='none', cmap=cmap)\n",
    "    plt.title(title)\n",
    "    plt.colorbar()\n",
    "    tick_marks = np.arange(len(classes))\n",
    "    plt.xticks(tick_marks, classes, rotation=45)\n",
    "    plt.yticks(tick_marks, classes)\n",
    "\n",
    "    if normalize:\n",
    "        cm = cm.astype('float') / cm.sum(axis=1)[:, np.newaxis]\n",
    "        print(\"Normalized confusion matrix\")\n",
    "    else:\n",
    "        print('Confusion matrix, without normalization')\n",
    "\n",
    "    print(cm)\n",
    "\n",
    "    thresh = cm.max() / 2.\n",
    "    for i, j in itertools.product(range(cm.shape[0]), range(cm.shape[1])):\n",
    "        plt.text(j, i, cm[i, j],\n",
    "            horizontalalignment=\"center\",\n",
    "            color=\"white\" if cm[i, j] > thresh else \"black\")"
   ]
  },
  {
   "cell_type": "code",
   "execution_count": 1113,
   "id": "e2c22ead",
   "metadata": {},
   "outputs": [],
   "source": [
    "cm_plot_labels = test_class_names"
   ]
  },
  {
   "cell_type": "code",
   "execution_count": 1114,
   "id": "3990742b",
   "metadata": {},
   "outputs": [
    {
     "name": "stdout",
     "output_type": "stream",
     "text": [
      "Confusion matrix, without normalization\n",
      "[[3 0 0 0 0 3]\n",
      " [2 0 0 0 0 0]\n",
      " [0 0 8 0 0 0]\n",
      " [0 0 3 0 0 0]\n",
      " [0 0 0 0 0 3]\n",
      " [5 0 0 0 0 5]]\n"
     ]
    },
    {
     "data": {
      "image/png": "[encoded data removed]",
      "text/plain": [
       "<Figure size 640x480 with 2 Axes>"
      ]
     },
     "metadata": {},
     "output_type": "display_data"
    }
   ],
   "source": [
    "plot_confusion_matrix_func(cm = baseline_cm, classes = cm_plot_labels, title='Confusion Matrix')"
   ]
  },
  {
   "cell_type": "code",
   "execution_count": 1115,
   "id": "291e7691",
   "metadata": {},
   "outputs": [
    {
     "data": {
      "text/plain": [
       "numpy.ndarray"
      ]
     },
     "execution_count": 1115,
     "metadata": {},
     "output_type": "execute_result"
    }
   ],
   "source": [
    "type(baseline_cm)"
   ]
  },
  {
   "cell_type": "code",
   "execution_count": 1116,
   "id": "043b7c45",
   "metadata": {},
   "outputs": [
    {
     "data": {
      "text/plain": [
       "array([[1., 0., 0., 0., 0., 0.],\n",
       "       [0., 0., 0., 0., 0., 1.],\n",
       "       [0., 0., 1., 0., 0., 0.],\n",
       "       [0., 0., 0., 0., 1., 0.],\n",
       "       [1., 0., 0., 0., 0., 0.],\n",
       "       [1., 0., 0., 0., 0., 0.],\n",
       "       [0., 0., 0., 0., 0., 1.],\n",
       "       [0., 0., 0., 0., 0., 1.],\n",
       "       [0., 0., 0., 0., 0., 1.],\n",
       "       [0., 0., 0., 0., 0., 1.],\n",
       "       [0., 0., 0., 0., 0., 1.],\n",
       "       [0., 0., 0., 0., 0., 1.],\n",
       "       [0., 0., 0., 0., 0., 1.],\n",
       "       [0., 0., 0., 0., 0., 1.],\n",
       "       [0., 0., 1., 0., 0., 0.],\n",
       "       [0., 0., 0., 1., 0., 0.],\n",
       "       [1., 0., 0., 0., 0., 0.],\n",
       "       [0., 0., 0., 0., 1., 0.],\n",
       "       [0., 0., 0., 0., 1., 0.],\n",
       "       [0., 1., 0., 0., 0., 0.],\n",
       "       [0., 0., 1., 0., 0., 0.],\n",
       "       [0., 0., 1., 0., 0., 0.],\n",
       "       [0., 0., 1., 0., 0., 0.],\n",
       "       [1., 0., 0., 0., 0., 0.],\n",
       "       [0., 0., 1., 0., 0., 0.],\n",
       "       [0., 1., 0., 0., 0., 0.],\n",
       "       [0., 0., 1., 0., 0., 0.],\n",
       "       [0., 0., 0., 1., 0., 0.],\n",
       "       [0., 0., 0., 1., 0., 0.],\n",
       "       [1., 0., 0., 0., 0., 0.],\n",
       "       [0., 0., 0., 0., 0., 1.],\n",
       "       [0., 0., 1., 0., 0., 0.]], dtype=float32)"
      ]
     },
     "execution_count": 1116,
     "metadata": {},
     "output_type": "execute_result"
    }
   ],
   "source": [
    "test_labels"
   ]
  },
  {
   "cell_type": "markdown",
   "id": "3fd23909",
   "metadata": {},
   "source": [
    "#### Second Model"
   ]
  },
  {
   "cell_type": "code",
   "execution_count": 1117,
   "id": "360a7259",
   "metadata": {},
   "outputs": [],
   "source": [
    "sz = 200\n",
    "\n",
    "# Initializing the CNN\n",
    "model1 = Sequential()\n",
    "\n",
    "# First convolution layer and pooling\n",
    "model1.add(Convolution2D(32, (3, 3), input_shape=(sz, sz, 3), activation='relu'))\n",
    "model1.add(MaxPooling2D(pool_size = (2, 2)))\n",
    "\n",
    "# Second convolution layer and pooling\n",
    "model1.add(Convolution2D(32, (3, 3), activation='relu'))\n",
    "# input_shape is going to be the pooled feature maps from the previous convolution layer\n",
    "model1.add(MaxPooling2D(pool_size=(2, 2)))\n",
    "\n",
    "# Flattening the layers\n",
    "model1.add(Flatten(input_shape = (28,28)))\n",
    "\n",
    "# Adding a fully connected layer\n",
    "model1.add(Dense(units=96, activation='relu'))\n",
    "model1.add(Dropout(0.40))\n",
    "model1.add(Dense(units=32, activation='relu'))\n",
    "model1.add(Dense(units=24, activation='softmax')) # softmax for more than 2"
   ]
  },
  {
   "cell_type": "code",
   "execution_count": 1118,
   "id": "c88208d1",
   "metadata": {},
   "outputs": [
    {
     "name": "stdout",
     "output_type": "stream",
     "text": [
      "Model: \"sequential_68\"\n",
      "_________________________________________________________________\n",
      " Layer (type)                Output Shape              Param #   \n",
      "=================================================================\n",
      " conv2d_86 (Conv2D)          (None, 198, 198, 32)      896       \n",
      "                                                                 \n",
      " max_pooling2d_86 (MaxPoolin  (None, 99, 99, 32)       0         \n",
      " g2D)                                                            \n",
      "                                                                 \n",
      " conv2d_87 (Conv2D)          (None, 97, 97, 32)        9248      \n",
      "                                                                 \n",
      " max_pooling2d_87 (MaxPoolin  (None, 48, 48, 32)       0         \n",
      " g2D)                                                            \n",
      "                                                                 \n",
      " flatten_57 (Flatten)        (None, 73728)             0         \n",
      "                                                                 \n",
      " dense_171 (Dense)           (None, 96)                7077984   \n",
      "                                                                 \n",
      " dropout_57 (Dropout)        (None, 96)                0         \n",
      "                                                                 \n",
      " dense_172 (Dense)           (None, 32)                3104      \n",
      "                                                                 \n",
      " dense_173 (Dense)           (None, 24)                792       \n",
      "                                                                 \n",
      "=================================================================\n",
      "Total params: 7,092,024\n",
      "Trainable params: 7,092,024\n",
      "Non-trainable params: 0\n",
      "_________________________________________________________________\n"
     ]
    }
   ],
   "source": [
    "model1.summary()"
   ]
  },
  {
   "cell_type": "code",
   "execution_count": 1119,
   "id": "1e310229",
   "metadata": {},
   "outputs": [],
   "source": [
    "model1.compile(optimizer='adam',\n",
    "               loss = tf.keras.losses.SparseCategoricalCrossentropy(from_logits=False),\n",
    "               metrics=['accuracy'])"
   ]
  },
  {
   "cell_type": "code",
   "execution_count": 1120,
   "id": "470da53c",
   "metadata": {},
   "outputs": [],
   "source": [
    "# history = model1.fit(\n",
    "#     train_generator,\n",
    "#     validation_data = test_generator,\n",
    "#     epochs = 5\n",
    "# )"
   ]
  },
  {
   "cell_type": "code",
   "execution_count": null,
   "id": "bc3c8e8c",
   "metadata": {},
   "outputs": [],
   "source": []
  }
 ],
 "metadata": {
  "kernelspec": {
   "display_name": "tensorflow_env",
   "language": "python",
   "name": "tensorflow_env"
  },
  "language_info": {
   "codemirror_mode": {
    "name": "ipython",
    "version": 3
   },
   "file_extension": ".py",
   "mimetype": "text/x-python",
   "name": "python",
   "nbconvert_exporter": "python",
   "pygments_lexer": "ipython3",
   "version": "3.8.15"
  }
 },
 "nbformat": 4,
 "nbformat_minor": 5
}
