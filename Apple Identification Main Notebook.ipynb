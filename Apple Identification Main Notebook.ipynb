{
 "cells": [
  {
   "cell_type": "markdown",
   "id": "4b40087c",
   "metadata": {},
   "source": [
    "## Import Necessary Libraries"
   ]
  },
  {
   "cell_type": "code",
   "execution_count": 98,
   "id": "3ad423c2",
   "metadata": {},
   "outputs": [],
   "source": [
    "import pandas as pd\n",
    "import tensorflow as tf\n",
    "import os\n",
    "import numpy as np\n",
    "from tensorflow import keras\n",
    "from tensorflow.keras.models import Sequential, Model, load_model\n",
    "from tensorflow.keras.layers import Dense, Dropout, Convolution2D, MaxPooling2D, Flatten, GlobalAveragePooling2D\n",
    "from keras import models, layers\n",
    "from keras_preprocessing.image import load_img, array_to_img, img_to_array, ImageDataGenerator\n",
    "from tensorflow.keras.optimizers import  Adam\n",
    "from matplotlib import pyplot as plt\n",
    "import matplotlib.image as mpimg\n",
    "%matplotlib inline"
   ]
  },
  {
   "cell_type": "markdown",
   "id": "7c716d0a",
   "metadata": {},
   "source": [
    "## Load the Files of Images"
   ]
  },
  {
   "cell_type": "code",
   "execution_count": 99,
   "id": "2c434633",
   "metadata": {},
   "outputs": [],
   "source": [
    "datagen = ImageDataGenerator()"
   ]
  },
  {
   "cell_type": "code",
   "execution_count": 100,
   "id": "0895d807",
   "metadata": {},
   "outputs": [],
   "source": [
    "train_path =  './data/fruits-360_dataset/fruits-360/Training'\n",
    "test_path = './data/fruits-360_dataset/fruits-360/Test'\n",
    "val_path = './data/fruits-360_dataset/fruits-360/Validation'"
   ]
  },
  {
   "cell_type": "code",
   "execution_count": 101,
   "id": "493a934d",
   "metadata": {},
   "outputs": [],
   "source": [
    "train_datagen = ImageDataGenerator(rescale = 1./255,\n",
    "                                   shear_range = 0.2, \n",
    "                                   zoom_range = 0.2,\n",
    "                                   horizontal_flip = True)\n",
    "\n",
    "test_datagen = ImageDataGenerator(rescale = 1./255)\n",
    "val_datagen = ImageDataGenerator(rescale = 1./255)"
   ]
  },
  {
   "cell_type": "code",
   "execution_count": 102,
   "id": "19dd919a",
   "metadata": {},
   "outputs": [
    {
     "name": "stdout",
     "output_type": "stream",
     "text": [
      "Found 4711 images belonging to 6 classes.\n",
      "Found 1751 images belonging to 6 classes.\n",
      "Found 523 images belonging to 6 classes.\n"
     ]
    }
   ],
   "source": [
    "train_generator = train_datagen.flow_from_directory(\n",
    "    train_path,\n",
    "    target_size = (200, 200),\n",
    "    batch_size = 32,\n",
    "    color_mode = 'rgb',\n",
    "    class_mode = 'categorical')\n",
    "\n",
    "test_generator = test_datagen.flow_from_directory(\n",
    "    test_path,\n",
    "    target_size = (200, 200),\n",
    "    batch_size = 32,\n",
    "    color_mode = 'rgb',\n",
    "    class_mode = 'categorical')\n",
    "\n",
    "val_generator = val_datagen.flow_from_directory(\n",
    "    val_path,\n",
    "    target_size = (200, 200),\n",
    "    batch_size = 32,\n",
    "    color_mode = 'rgb',\n",
    "    class_mode = 'categorical')"
   ]
  },
  {
   "cell_type": "code",
   "execution_count": 103,
   "id": "6846462f",
   "metadata": {},
   "outputs": [
    {
     "data": {
      "text/plain": [
       "['Apple Braeburn',\n",
       " 'Apple Crimson Snow',\n",
       " 'Apple Golden',\n",
       " 'Apple Granny Smith',\n",
       " 'Apple Pink Lady',\n",
       " 'Apple Red Delicious']"
      ]
     },
     "execution_count": 103,
     "metadata": {},
     "output_type": "execute_result"
    }
   ],
   "source": [
    "train_class_names = list(train_generator.class_indices.keys())\n",
    "train_class_names"
   ]
  },
  {
   "cell_type": "code",
   "execution_count": 104,
   "id": "a14152e8",
   "metadata": {},
   "outputs": [
    {
     "data": {
      "text/plain": [
       "['Apple Braeburn',\n",
       " 'Apple Crimson Snow',\n",
       " 'Apple Golden',\n",
       " 'Apple Granny Smith',\n",
       " 'Apple Pink Lady',\n",
       " 'Apple Red Delicious']"
      ]
     },
     "execution_count": 104,
     "metadata": {},
     "output_type": "execute_result"
    }
   ],
   "source": [
    "test_class_names = list(test_generator.class_indices.keys())\n",
    "test_class_names"
   ]
  },
  {
   "cell_type": "code",
   "execution_count": 105,
   "id": "135f09d1",
   "metadata": {},
   "outputs": [
    {
     "data": {
      "text/plain": [
       "['Apple Braeburn',\n",
       " 'Apple Crimson Snow',\n",
       " 'Apple Golden',\n",
       " 'Apple Granny Smith',\n",
       " 'Apple Pink Lady',\n",
       " 'Apple Red Delicious']"
      ]
     },
     "execution_count": 105,
     "metadata": {},
     "output_type": "execute_result"
    }
   ],
   "source": [
    "val_class_names = list(val_generator.class_indices.keys())\n",
    "val_class_names"
   ]
  },
  {
   "cell_type": "markdown",
   "id": "06dd1bb1",
   "metadata": {},
   "source": [
    "## Begin Modeling"
   ]
  },
  {
   "cell_type": "markdown",
   "id": "19b89396",
   "metadata": {},
   "source": [
    "#### Baseline Model"
   ]
  },
  {
   "cell_type": "code",
   "execution_count": 106,
   "id": "6528e7dd",
   "metadata": {},
   "outputs": [],
   "source": [
    "# create the data sets\n",
    "train_images, train_labels = next(train_generator)\n",
    "test_images, test_labels = next(test_generator)\n",
    "val_images, val_labels = next(val_generator)"
   ]
  },
  {
   "cell_type": "code",
   "execution_count": 107,
   "id": "be756f6c",
   "metadata": {},
   "outputs": [],
   "source": [
    "train_img = train_images.reshape(train_images.shape[0], -1)\n",
    "test_img = test_images.reshape(test_images.shape[0], -1)\n",
    "val_img = val_images.reshape(val_images.shape[0], -1)"
   ]
  },
  {
   "cell_type": "code",
   "execution_count": 108,
   "id": "1d962fa7",
   "metadata": {},
   "outputs": [
    {
     "name": "stdout",
     "output_type": "stream",
     "text": [
      "(32, 120000)\n",
      "(32, 120000)\n",
      "(32, 120000)\n"
     ]
    }
   ],
   "source": [
    "print(train_img.shape)\n",
    "print(test_img.shape)\n",
    "print(val_img.shape)"
   ]
  },
  {
   "cell_type": "code",
   "execution_count": 109,
   "id": "17ee0a39",
   "metadata": {},
   "outputs": [],
   "source": [
    "train_y = np.reshape(train_labels[:,0], (32,1))\n",
    "test_y = np.reshape(test_labels[:,0], (32,1))\n",
    "val_y = np.reshape(val_labels[:,0], (32,1))"
   ]
  },
  {
   "cell_type": "code",
   "execution_count": 110,
   "id": "6982a8bd",
   "metadata": {},
   "outputs": [],
   "source": [
    "np.random.seed(3)\n",
    "baseline_model = models.Sequential()\n",
    "baseline_model.add(layers.Dense(20, activation='relu', input_shape=(120000,))) # 2 hidden layers\n",
    "baseline_model.add(layers.Dense(7, activation='relu'))\n",
    "baseline_model.add(layers.Dense(5, activation='relu'))\n",
    "baseline_model.add(layers.Dense(1, activation='sigmoid'))"
   ]
  },
  {
   "cell_type": "code",
   "execution_count": 111,
   "id": "68c2ec73",
   "metadata": {},
   "outputs": [
    {
     "name": "stdout",
     "output_type": "stream",
     "text": [
      "Epoch 1/30\n",
      "1/1 [==============================] - ETA: 0s - loss: 0.0000e+00 - accuracy: 0.7500"
     ]
    },
    {
     "name": "stderr",
     "output_type": "stream",
     "text": [
      "2022-12-06 11:18:27.367151: I tensorflow/core/grappler/optimizers/custom_graph_optimizer_registry.cc:113] Plugin optimizer for device_type GPU is enabled.\n",
      "2022-12-06 11:18:27.511491: I tensorflow/core/grappler/optimizers/custom_graph_optimizer_registry.cc:113] Plugin optimizer for device_type GPU is enabled.\n"
     ]
    },
    {
     "name": "stdout",
     "output_type": "stream",
     "text": [
      "1/1 [==============================] - 0s 308ms/step - loss: 0.0000e+00 - accuracy: 0.7500 - val_loss: 0.0000e+00 - val_accuracy: 0.9688\n",
      "Epoch 2/30\n",
      "1/1 [==============================] - 0s 110ms/step - loss: 0.0000e+00 - accuracy: 0.7500 - val_loss: 0.0000e+00 - val_accuracy: 0.9688\n",
      "Epoch 3/30\n",
      "1/1 [==============================] - 0s 105ms/step - loss: 0.0000e+00 - accuracy: 0.7500 - val_loss: 0.0000e+00 - val_accuracy: 0.9688\n",
      "Epoch 4/30\n",
      "1/1 [==============================] - 0s 106ms/step - loss: 0.0000e+00 - accuracy: 0.7500 - val_loss: 0.0000e+00 - val_accuracy: 0.9688\n",
      "Epoch 5/30\n",
      "1/1 [==============================] - 0s 105ms/step - loss: 0.0000e+00 - accuracy: 0.7500 - val_loss: 0.0000e+00 - val_accuracy: 0.9688\n",
      "Epoch 6/30\n",
      "1/1 [==============================] - 0s 104ms/step - loss: 0.0000e+00 - accuracy: 0.7500 - val_loss: 0.0000e+00 - val_accuracy: 0.9688\n",
      "Epoch 7/30\n",
      "1/1 [==============================] - 0s 105ms/step - loss: 0.0000e+00 - accuracy: 0.7500 - val_loss: 0.0000e+00 - val_accuracy: 0.9688\n",
      "Epoch 8/30\n",
      "1/1 [==============================] - 0s 105ms/step - loss: 0.0000e+00 - accuracy: 0.7500 - val_loss: 0.0000e+00 - val_accuracy: 0.9688\n",
      "Epoch 9/30\n",
      "1/1 [==============================] - 0s 104ms/step - loss: 0.0000e+00 - accuracy: 0.7500 - val_loss: 0.0000e+00 - val_accuracy: 0.9688\n",
      "Epoch 10/30\n",
      "1/1 [==============================] - 0s 105ms/step - loss: 0.0000e+00 - accuracy: 0.7500 - val_loss: 0.0000e+00 - val_accuracy: 0.9688\n",
      "Epoch 11/30\n",
      "1/1 [==============================] - 0s 105ms/step - loss: 0.0000e+00 - accuracy: 0.7500 - val_loss: 0.0000e+00 - val_accuracy: 0.9688\n",
      "Epoch 12/30\n",
      "1/1 [==============================] - 0s 106ms/step - loss: 0.0000e+00 - accuracy: 0.7500 - val_loss: 0.0000e+00 - val_accuracy: 0.9688\n",
      "Epoch 13/30\n",
      "1/1 [==============================] - 0s 105ms/step - loss: 0.0000e+00 - accuracy: 0.7500 - val_loss: 0.0000e+00 - val_accuracy: 0.9688\n",
      "Epoch 14/30\n",
      "1/1 [==============================] - 0s 105ms/step - loss: 0.0000e+00 - accuracy: 0.7500 - val_loss: 0.0000e+00 - val_accuracy: 0.9688\n",
      "Epoch 15/30\n",
      "1/1 [==============================] - 0s 105ms/step - loss: 0.0000e+00 - accuracy: 0.7500 - val_loss: 0.0000e+00 - val_accuracy: 0.9688\n",
      "Epoch 16/30\n",
      "1/1 [==============================] - 0s 105ms/step - loss: 0.0000e+00 - accuracy: 0.7500 - val_loss: 0.0000e+00 - val_accuracy: 0.9688\n",
      "Epoch 17/30\n",
      "1/1 [==============================] - 0s 105ms/step - loss: 0.0000e+00 - accuracy: 0.7500 - val_loss: 0.0000e+00 - val_accuracy: 0.9688\n",
      "Epoch 18/30\n",
      "1/1 [==============================] - 0s 104ms/step - loss: 0.0000e+00 - accuracy: 0.7500 - val_loss: 0.0000e+00 - val_accuracy: 0.9688\n",
      "Epoch 19/30\n",
      "1/1 [==============================] - 0s 104ms/step - loss: 0.0000e+00 - accuracy: 0.7500 - val_loss: 0.0000e+00 - val_accuracy: 0.9688\n",
      "Epoch 20/30\n",
      "1/1 [==============================] - 0s 105ms/step - loss: 0.0000e+00 - accuracy: 0.7500 - val_loss: 0.0000e+00 - val_accuracy: 0.9688\n",
      "Epoch 21/30\n",
      "1/1 [==============================] - 0s 105ms/step - loss: 0.0000e+00 - accuracy: 0.7500 - val_loss: 0.0000e+00 - val_accuracy: 0.9688\n",
      "Epoch 22/30\n",
      "1/1 [==============================] - 0s 105ms/step - loss: 0.0000e+00 - accuracy: 0.7500 - val_loss: 0.0000e+00 - val_accuracy: 0.9688\n",
      "Epoch 23/30\n",
      "1/1 [==============================] - 0s 104ms/step - loss: 0.0000e+00 - accuracy: 0.7500 - val_loss: 0.0000e+00 - val_accuracy: 0.9688\n",
      "Epoch 24/30\n",
      "1/1 [==============================] - 0s 104ms/step - loss: 0.0000e+00 - accuracy: 0.7500 - val_loss: 0.0000e+00 - val_accuracy: 0.9688\n",
      "Epoch 25/30\n",
      "1/1 [==============================] - 0s 104ms/step - loss: 0.0000e+00 - accuracy: 0.7500 - val_loss: 0.0000e+00 - val_accuracy: 0.9688\n",
      "Epoch 26/30\n",
      "1/1 [==============================] - 0s 104ms/step - loss: 0.0000e+00 - accuracy: 0.7500 - val_loss: 0.0000e+00 - val_accuracy: 0.9688\n",
      "Epoch 27/30\n",
      "1/1 [==============================] - 0s 105ms/step - loss: 0.0000e+00 - accuracy: 0.7500 - val_loss: 0.0000e+00 - val_accuracy: 0.9688\n",
      "Epoch 28/30\n",
      "1/1 [==============================] - 0s 104ms/step - loss: 0.0000e+00 - accuracy: 0.7500 - val_loss: 0.0000e+00 - val_accuracy: 0.9688\n",
      "Epoch 29/30\n",
      "1/1 [==============================] - 0s 104ms/step - loss: 0.0000e+00 - accuracy: 0.7500 - val_loss: 0.0000e+00 - val_accuracy: 0.9688\n",
      "Epoch 30/30\n",
      "1/1 [==============================] - 0s 104ms/step - loss: 0.0000e+00 - accuracy: 0.7500 - val_loss: 0.0000e+00 - val_accuracy: 0.9688\n"
     ]
    }
   ],
   "source": [
    "baseline_model.compile(optimizer='sgd',\n",
    "              loss = 'categorical_crossentropy',\n",
    "              metrics = ['accuracy'])\n",
    "\n",
    "baseline_histoire = baseline_model.fit(train_img,\n",
    "                    train_y,\n",
    "                    epochs = 30,\n",
    "                    batch_size = 32,\n",
    "                    validation_data = (val_img, val_y))"
   ]
  },
  {
   "cell_type": "code",
   "execution_count": 112,
   "id": "6cb71f50",
   "metadata": {},
   "outputs": [
    {
     "name": "stdout",
     "output_type": "stream",
     "text": [
      "1/1 [==============================] - 0s 57ms/step - loss: 0.0000e+00 - accuracy: 0.7500\n"
     ]
    }
   ],
   "source": [
    "baseline_results_train = baseline_model.evaluate(train_img, train_y)"
   ]
  },
  {
   "cell_type": "code",
   "execution_count": 113,
   "id": "7ebee621",
   "metadata": {},
   "outputs": [
    {
     "name": "stdout",
     "output_type": "stream",
     "text": [
      "1/1 [==============================] - 0s 57ms/step - loss: 0.0000e+00 - accuracy: 1.0000\n"
     ]
    }
   ],
   "source": [
    "baseline_results_test = baseline_model.evaluate(test_img, test_y)"
   ]
  },
  {
   "cell_type": "code",
   "execution_count": 114,
   "id": "8f469382",
   "metadata": {},
   "outputs": [
    {
     "name": "stdout",
     "output_type": "stream",
     "text": [
      "Baseline Train Results: [0.0, 0.75]\n",
      "Baseline Test Results: [0.0, 1.0]\n"
     ]
    }
   ],
   "source": [
    "print(f'Baseline Train Results: {baseline_results_train}')\n",
    "print(f'Baseline Test Results: {baseline_results_test}')"
   ]
  },
  {
   "cell_type": "markdown",
   "id": "d89b21cb",
   "metadata": {},
   "source": [
    "#### Baseline Model Visualizations"
   ]
  },
  {
   "cell_type": "markdown",
   "id": "251ddb9a",
   "metadata": {},
   "source": [
    "#### Graphing Accuracy and Loss Metrics"
   ]
  },
  {
   "cell_type": "code",
   "execution_count": 115,
   "id": "f391b318",
   "metadata": {},
   "outputs": [
    {
     "data": {
      "image/png": "[encoded data removed]",
      "text/plain": [
       "<Figure size 640x480 with 1 Axes>"
      ]
     },
     "metadata": {},
     "output_type": "display_data"
    },
    {
     "data": {
      "image/png": "[encoded data removed]",
      "text/plain": [
       "<Figure size 640x480 with 1 Axes>"
      ]
     },
     "metadata": {},
     "output_type": "display_data"
    }
   ],
   "source": [
    "# Plot history\n",
    "acc = baseline_histoire.history['accuracy']\n",
    "val_acc = baseline_histoire.history['val_accuracy']\n",
    "loss = baseline_histoire.history['loss']\n",
    "val_loss = baseline_histoire.history['val_loss']\n",
    "epochs = range(len(acc))\n",
    "plt.plot(epochs, acc, 'bo', label='Training acc')\n",
    "plt.plot(epochs, val_acc, 'b', label='Validation acc')\n",
    "plt.title('Training and validation accuracy')\n",
    "plt.legend()\n",
    "plt.figure()\n",
    "plt.plot(epochs, loss, 'bo', label='Training loss')\n",
    "plt.plot(epochs, val_loss, 'b', label='Validation loss')\n",
    "plt.title('Training and validation loss')\n",
    "plt.legend()\n",
    "plt.show()\n"
   ]
  },
  {
   "cell_type": "markdown",
   "id": "77908369",
   "metadata": {},
   "source": []
  },
  {
   "cell_type": "markdown",
   "id": "3fd23909",
   "metadata": {},
   "source": [
    "#### Second Model"
   ]
  },
  {
   "cell_type": "code",
   "execution_count": null,
   "id": "7ededf00",
   "metadata": {},
   "outputs": [],
   "source": []
  },
  {
   "cell_type": "code",
   "execution_count": null,
   "id": "14dc4163",
   "metadata": {},
   "outputs": [],
   "source": []
  },
  {
   "cell_type": "code",
   "execution_count": null,
   "id": "97eeb933",
   "metadata": {},
   "outputs": [],
   "source": []
  },
  {
   "cell_type": "code",
   "execution_count": 116,
   "id": "360a7259",
   "metadata": {},
   "outputs": [],
   "source": [
    "# sz = 200\n",
    "\n",
    "# # Initializing the CNN\n",
    "# model1 = Sequential()\n",
    "\n",
    "# # First convolution layer and pooling\n",
    "# model1.add(Convolution2D(32, (3, 3), input_shape=(sz, sz, 3), activation='relu'))\n",
    "# model1.add(MaxPooling2D(pool_size = (2, 2)))\n",
    "\n",
    "# # Second convolution layer and pooling\n",
    "# model1.add(Convolution2D(32, (3, 3), activation='relu'))\n",
    "# # input_shape is going to be the pooled feature maps from the previous convolution layer\n",
    "# model1.add(MaxPooling2D(pool_size=(2, 2)))\n",
    "\n",
    "# # Flattening the layers\n",
    "# model1.add(Flatten(input_shape = (28,28)))\n",
    "\n",
    "# # Adding a fully connected layer\n",
    "# model1.add(Dense(units=96, activation='relu'))\n",
    "# model1.add(Dropout(0.40))\n",
    "# model1.add(Dense(units=32, activation='relu'))\n",
    "# model1.add(Dense(units=24, activation='softmax')) # softmax for more than 2"
   ]
  },
  {
   "cell_type": "code",
   "execution_count": 117,
   "id": "c88208d1",
   "metadata": {},
   "outputs": [],
   "source": [
    "# model1.summary()"
   ]
  },
  {
   "cell_type": "code",
   "execution_count": 118,
   "id": "1e310229",
   "metadata": {},
   "outputs": [],
   "source": [
    "# model1.compile(optimizer='adam',\n",
    "#                loss = tf.keras.losses.SparseCategoricalCrossentropy(from_logits=False),\n",
    "#                metrics=['accuracy'])"
   ]
  },
  {
   "cell_type": "code",
   "execution_count": 119,
   "id": "470da53c",
   "metadata": {},
   "outputs": [],
   "source": [
    "# history = model1.fit(\n",
    "#     train_generator,\n",
    "#     validation_data = test_generator,\n",
    "#     epochs = 5\n",
    "# )"
   ]
  },
  {
   "cell_type": "code",
   "execution_count": null,
   "id": "bc3c8e8c",
   "metadata": {},
   "outputs": [],
   "source": []
  }
 ],
 "metadata": {
  "kernelspec": {
   "display_name": "tensorflow_env",
   "language": "python",
   "name": "tensorflow_env"
  },
  "language_info": {
   "codemirror_mode": {
    "name": "ipython",
    "version": 3
   },
   "file_extension": ".py",
   "mimetype": "text/x-python",
   "name": "python",
   "nbconvert_exporter": "python",
   "pygments_lexer": "ipython3",
   "version": "3.8.15"
  }
 },
 "nbformat": 4,
 "nbformat_minor": 5
}
