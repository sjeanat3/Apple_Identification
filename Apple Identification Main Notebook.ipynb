{
 "cells": [
  {
   "cell_type": "markdown",
   "id": "4b40087c",
   "metadata": {},
   "source": [
    "## Import Necessary Libraries"
   ]
  },
  {
   "cell_type": "code",
   "execution_count": 757,
   "id": "3ad423c2",
   "metadata": {},
   "outputs": [],
   "source": [
    "import pandas as pd\n",
    "import tensorflow as tf\n",
    "import os\n",
    "import numpy as np\n",
    "import itertools\n",
    "import random\n",
    "import PIL\n",
    "from PIL import Image\n",
    "import io\n",
    "\n",
    "from tensorflow import keras\n",
    "from tensorflow.keras.models import Sequential, Model, load_model\n",
    "from tensorflow.keras.layers import Dense, Dropout, Convolution2D, MaxPooling2D, Flatten, \\\n",
    "GlobalAveragePooling2D, BatchNormalization, Resizing, Rescaling, RandomFlip, RandomRotation\n",
    "\n",
    "from tensorflow.keras.regularizers import l2\n",
    "from tensorflow.keras.utils import to_categorical\n",
    "from keras import models, layers \n",
    "from keras_preprocessing.image import load_img, array_to_img, img_to_array, ImageDataGenerator\n",
    "from keras.callbacks import EarlyStopping\n",
    "from tensorflow.keras.optimizers import  Adam\n",
    "\n",
    "from sklearn.metrics import ConfusionMatrixDisplay\n",
    "from matplotlib import pyplot as plt\n",
    "import matplotlib.image as mpimg\n",
    "%matplotlib inline\n",
    "\n",
    "from sklearn.metrics import plot_confusion_matrix, confusion_matrix"
   ]
  },
  {
   "cell_type": "markdown",
   "id": "7c716d0a",
   "metadata": {},
   "source": [
    "## Load the Files of Images"
   ]
  },
  {
   "cell_type": "code",
   "execution_count": 758,
   "id": "2c434633",
   "metadata": {},
   "outputs": [],
   "source": [
    "datagen = ImageDataGenerator()"
   ]
  },
  {
   "cell_type": "code",
   "execution_count": 759,
   "id": "0895d807",
   "metadata": {},
   "outputs": [],
   "source": [
    "train_path =  './data/fruits-360_dataset/fruits-360/Training'\n",
    "test_path = './data/fruits-360_dataset/fruits-360/Test'\n",
    "val_path = './data/fruits-360_dataset/fruits-360/Validation'"
   ]
  },
  {
   "cell_type": "code",
   "execution_count": 760,
   "id": "493a934d",
   "metadata": {},
   "outputs": [],
   "source": [
    "train_datagen = ImageDataGenerator(rescale = 1./255,\n",
    "                                   shear_range = 0.2, \n",
    "                                   zoom_range = 0.2,\n",
    "                                   horizontal_flip = True,\n",
    "                                   rotation_range=10, \n",
    "                                   width_shift_range=0.1, \n",
    "                                   height_shift_range=0.1, \n",
    "                                   channel_shift_range=10.)\n",
    "\n",
    "test_datagen = ImageDataGenerator(rescale = 1./255)\n",
    "val_datagen = ImageDataGenerator(rescale = 1./255)"
   ]
  },
  {
   "cell_type": "code",
   "execution_count": 761,
   "id": "19dd919a",
   "metadata": {},
   "outputs": [
    {
     "name": "stdout",
     "output_type": "stream",
     "text": [
      "Found 7841 images belonging to 6 classes.\n",
      "Found 3017 images belonging to 6 classes.\n",
      "Found 1207 images belonging to 6 classes.\n"
     ]
    }
   ],
   "source": [
    "image_size = (100, 100)\n",
    "train_generator = train_datagen.flow_from_directory(\n",
    "    train_path,\n",
    "    target_size = image_size,\n",
    "    batch_size = 7841,\n",
    "    color_mode = 'rgb',\n",
    "    class_mode = 'categorical',\n",
    "    seed = 42)\n",
    "\n",
    "test_generator = test_datagen.flow_from_directory(\n",
    "    test_path,\n",
    "    target_size = image_size,\n",
    "    batch_size = 3017,\n",
    "    color_mode = 'rgb',\n",
    "    class_mode = 'categorical',\n",
    "    seed = 42)\n",
    "\n",
    "val_generator = val_datagen.flow_from_directory(\n",
    "    val_path,\n",
    "    target_size = image_size,\n",
    "    batch_size = 1207,\n",
    "    color_mode = 'rgb',\n",
    "    class_mode = 'categorical',\n",
    "    seed = 42)"
   ]
  },
  {
   "cell_type": "code",
   "execution_count": 762,
   "id": "6846462f",
   "metadata": {},
   "outputs": [
    {
     "data": {
      "text/plain": [
       "['Apple Braeburn',\n",
       " 'Apple Crimson Snow',\n",
       " 'Apple Golden',\n",
       " 'Apple Granny Smith',\n",
       " 'Apple Pink Lady',\n",
       " 'Apple Red Delicious']"
      ]
     },
     "execution_count": 762,
     "metadata": {},
     "output_type": "execute_result"
    }
   ],
   "source": [
    "train_class_names = list(train_generator.class_indices.keys())\n",
    "train_class_names"
   ]
  },
  {
   "cell_type": "code",
   "execution_count": 763,
   "id": "a14152e8",
   "metadata": {},
   "outputs": [
    {
     "data": {
      "text/plain": [
       "['Apple Braeburn',\n",
       " 'Apple Crimson Snow',\n",
       " 'Apple Golden',\n",
       " 'Apple Granny Smith',\n",
       " 'Apple Pink Lady',\n",
       " 'Apple Red Delicious']"
      ]
     },
     "execution_count": 763,
     "metadata": {},
     "output_type": "execute_result"
    }
   ],
   "source": [
    "test_class_names = list(test_generator.class_indices.keys())\n",
    "test_class_names"
   ]
  },
  {
   "cell_type": "code",
   "execution_count": 764,
   "id": "135f09d1",
   "metadata": {},
   "outputs": [
    {
     "data": {
      "text/plain": [
       "['Apple Braeburn',\n",
       " 'Apple Crimson Snow',\n",
       " 'Apple Golden',\n",
       " 'Apple Granny Smith',\n",
       " 'Apple Pink Lady',\n",
       " 'Apple Red Delicious']"
      ]
     },
     "execution_count": 764,
     "metadata": {},
     "output_type": "execute_result"
    }
   ],
   "source": [
    "val_class_names = list(val_generator.class_indices.keys())\n",
    "val_class_names"
   ]
  },
  {
   "cell_type": "markdown",
   "id": "06dd1bb1",
   "metadata": {},
   "source": [
    "## Begin Modeling"
   ]
  },
  {
   "cell_type": "markdown",
   "id": "19b89396",
   "metadata": {},
   "source": [
    "#### Baseline Model"
   ]
  },
  {
   "cell_type": "code",
   "execution_count": 765,
   "id": "6528e7dd",
   "metadata": {},
   "outputs": [],
   "source": [
    "# create the data sets\n",
    "train_images, train_labels = next(train_generator)\n",
    "test_images, test_labels = next(test_generator)\n",
    "val_images, val_labels = next(val_generator)"
   ]
  },
  {
   "cell_type": "code",
   "execution_count": 766,
   "id": "aed12946",
   "metadata": {},
   "outputs": [],
   "source": [
    "# enc_train_labels = to_categorical(train_labels) #/255\n",
    "# enc_train_images = to_categorical(train_images)\n",
    "\n",
    "# enc_test_labels = to_categorical(test_labels)/255\n",
    "# enc_test_images = to_categorical(test_images)\n",
    "\n",
    "# enc_val_labels = to_categorical(val_labels)/255\n",
    "# enc_val_images = to_categorical(val_images)"
   ]
  },
  {
   "cell_type": "code",
   "execution_count": 767,
   "id": "be756f6c",
   "metadata": {},
   "outputs": [],
   "source": [
    "train_img = train_images.reshape(train_images.shape[0], -1)\n",
    "test_img = test_images.reshape(test_images.shape[0], -1)\n",
    "val_img = val_images.reshape(val_images.shape[0], -1)"
   ]
  },
  {
   "cell_type": "code",
   "execution_count": 768,
   "id": "1d962fa7",
   "metadata": {},
   "outputs": [],
   "source": [
    "# print(train_img.shape)\n",
    "# print(test_img.shape)\n",
    "# print(val_img.shape)"
   ]
  },
  {
   "cell_type": "code",
   "execution_count": 769,
   "id": "002b9684",
   "metadata": {},
   "outputs": [
    {
     "data": {
      "text/plain": [
       "array([[0., 1., 0., 0., 0., 0.],\n",
       "       [0., 1., 0., 0., 0., 0.],\n",
       "       [0., 0., 0., 1., 0., 0.],\n",
       "       ...,\n",
       "       [1., 0., 0., 0., 0., 0.],\n",
       "       [0., 0., 0., 0., 0., 1.],\n",
       "       [0., 0., 0., 0., 0., 1.]], dtype=float32)"
      ]
     },
     "execution_count": 769,
     "metadata": {},
     "output_type": "execute_result"
    }
   ],
   "source": [
    "train_labels"
   ]
  },
  {
   "cell_type": "code",
   "execution_count": 770,
   "id": "b18f78de",
   "metadata": {},
   "outputs": [
    {
     "data": {
      "text/plain": [
       "(7841, 100, 100, 3)"
      ]
     },
     "execution_count": 770,
     "metadata": {},
     "output_type": "execute_result"
    }
   ],
   "source": [
    "train_images.shape"
   ]
  },
  {
   "cell_type": "code",
   "execution_count": 771,
   "id": "4f0d66dc",
   "metadata": {},
   "outputs": [
    {
     "data": {
      "text/plain": [
       "(7841, 6)"
      ]
     },
     "execution_count": 771,
     "metadata": {},
     "output_type": "execute_result"
    }
   ],
   "source": [
    "train_labels.shape"
   ]
  },
  {
   "cell_type": "code",
   "execution_count": 772,
   "id": "17ee0a39",
   "metadata": {},
   "outputs": [],
   "source": [
    "# train_y = np.reshape(train_labels[:,0], (32, ))\n",
    "# test_y = np.reshape(test_labels[:,0], (32, ))\n",
    "# val_y = np.reshape(val_labels[:,0], (32, ))"
   ]
  },
  {
   "cell_type": "code",
   "execution_count": 773,
   "id": "02fea473",
   "metadata": {},
   "outputs": [],
   "source": [
    "#Instantiate a Regularizer\n",
    "reg = l2(3e-3)"
   ]
  },
  {
   "cell_type": "code",
   "execution_count": 774,
   "id": "7643d8eb",
   "metadata": {},
   "outputs": [
    {
     "data": {
      "text/plain": [
       "<matplotlib.image.AxesImage at 0x2c162d580>"
      ]
     },
     "execution_count": 774,
     "metadata": {},
     "output_type": "execute_result"
    },
    {
     "data": {
      "image/png": "[encoded data removed]",
      "text/plain": [
       "<Figure size 640x480 with 1 Axes>"
      ]
     },
     "metadata": {},
     "output_type": "display_data"
    }
   ],
   "source": [
    "chosen_image = random.choice(os.listdir('./data/fruits-360_dataset/fruits-360/Training/Apple Braeburn/'))\n",
    "image_path = './data/fruits-360_dataset/fruits-360/Training/Apple Braeburn/' + chosen_image\n",
    "image = np.expand_dims(plt.imread(image_path),0)\n",
    "plt.imshow(image[0])"
   ]
  },
  {
   "cell_type": "code",
   "execution_count": 775,
   "id": "6f2d2096",
   "metadata": {},
   "outputs": [],
   "source": [
    "def augment_images(apple_name):\n",
    "    names = [os.path.join(f'./data/fruits-360_dataset/fruits-360/Training/{apple_name}/'\n",
    "                      , name) for name in os.listdir(f'./data/fruits-360_dataset/fruits-360/Training/{apple_name}/')]\n",
    "    for f in names:\n",
    "        if f.endswith('.jpg'):\n",
    "            img = Image.open(f)\n",
    "            x = img_to_array(img) \n",
    "            # Reshape the input image \n",
    "            x = x.reshape((1, ) + x.shape)  \n",
    "            i = 0\n",
    "\n",
    "            # generate 2 new augmented images \n",
    "            for batch in train_datagen.flow(x, batch_size = 1, \n",
    "                              save_to_dir = f'./data/fruits-360_dataset/fruits-360/Training/{apple_name}',  \n",
    "                              save_prefix = 'aug-image-', save_format ='jpg'):\n",
    "                i += 1\n",
    "                if i > 2: \n",
    "                    break"
   ]
  },
  {
   "cell_type": "code",
   "execution_count": 776,
   "id": "fc39bdba",
   "metadata": {},
   "outputs": [],
   "source": [
    "# DO NOT RUN\n",
    "# augment_images('Apple Braeburn')\n",
    "# augment_images('Apple Crimson Snow')\n",
    "# augment_images('Apple Golden')\n",
    "# augment_images('Apple Granny Smith')\n",
    "# augment_images('Apple Pink Lady')\n",
    "# augment_images('Apple Red Delicious')"
   ]
  },
  {
   "cell_type": "code",
   "execution_count": 777,
   "id": "06a67f71",
   "metadata": {},
   "outputs": [],
   "source": [
    "# aug_iter = train_datagen.flow(augment_images, \n",
    "#                               save_to_dir='./data/fruits-360_dataset/fruits-360_2/Txraining/Apple Braeburn', \n",
    "#                               save_prefix='aug-image-', \n",
    "#                               save_format='jpeg')"
   ]
  },
  {
   "cell_type": "code",
   "execution_count": 778,
   "id": "209069fe",
   "metadata": {},
   "outputs": [],
   "source": [
    "contrast = tf.keras.Sequential([layers.RandomContrast(factor = 0.5)])"
   ]
  },
  {
   "cell_type": "markdown",
   "id": "8802e3a6",
   "metadata": {},
   "source": [
    "#### Baseline Model Visualizations"
   ]
  },
  {
   "cell_type": "markdown",
   "id": "06dee301",
   "metadata": {},
   "source": [
    "#### Model 3"
   ]
  },
  {
   "cell_type": "code",
   "execution_count": 779,
   "id": "6982a8bd",
   "metadata": {},
   "outputs": [],
   "source": [
    "model_3 = models.Sequential()\n",
    "model_3.add(layers.Conv2D(18, (3,3), activation='relu', input_shape=(100, 100, 3))) # 2 hidden layers\n",
    "model_3.add(layers.MaxPooling2D((2,2), padding = 'same'))\n",
    "model_3.add(layers.Dropout(0.3))\n",
    "model_3.add(layers.Conv2D(36, (3,3), activation='relu')) # 2 hidden layers\n",
    "model_3.add(layers.Dropout(0.25))\n",
    "model_3.add(layers.MaxPooling2D((2,2), padding = 'same'))\n",
    "model_3.add(layers.Dropout(0.2))\n",
    "#model_3.add(BatchNormalization())\n",
    "model_3.add(layers.Flatten())\n",
    "model_3.add(layers.Dense(24, activation = 'relu', kernel_regularizer = reg))\n",
    "model_3.add(layers.Dense(48, activation='relu', kernel_regularizer = reg))\n",
    "model_3.add(layers.Dense(24, activation='relu', kernel_regularizer = reg))\n",
    "model_3.add(layers.Dense(6, activation='softmax', kernel_regularizer = reg))"
   ]
  },
  {
   "cell_type": "code",
   "execution_count": 780,
   "id": "68c2ec73",
   "metadata": {},
   "outputs": [
    {
     "name": "stdout",
     "output_type": "stream",
     "text": [
      "Epoch 1/70\n"
     ]
    },
    {
     "name": "stderr",
     "output_type": "stream",
     "text": [
      "2022-12-08 12:23:21.363136: I tensorflow/core/grappler/optimizers/custom_graph_optimizer_registry.cc:113] Plugin optimizer for device_type GPU is enabled.\n"
     ]
    },
    {
     "name": "stdout",
     "output_type": "stream",
     "text": [
      "66/66 [==============================] - ETA: 0s - loss: 1.8339 - accuracy: 0.3613"
     ]
    },
    {
     "name": "stderr",
     "output_type": "stream",
     "text": [
      "2022-12-08 12:23:25.493730: I tensorflow/core/grappler/optimizers/custom_graph_optimizer_registry.cc:113] Plugin optimizer for device_type GPU is enabled.\n"
     ]
    },
    {
     "name": "stdout",
     "output_type": "stream",
     "text": [
      "66/66 [==============================] - 5s 63ms/step - loss: 1.8339 - accuracy: 0.3613 - val_loss: 1.6376 - val_accuracy: 0.5286\n",
      "Epoch 2/70\n",
      "66/66 [==============================] - 4s 54ms/step - loss: 1.2428 - accuracy: 0.6068 - val_loss: 1.4503 - val_accuracy: 0.5360\n",
      "Epoch 3/70\n",
      "66/66 [==============================] - 4s 54ms/step - loss: 0.9319 - accuracy: 0.7264 - val_loss: 1.4823 - val_accuracy: 0.5551\n",
      "Epoch 4/70\n",
      "66/66 [==============================] - 3s 53ms/step - loss: 0.7502 - accuracy: 0.7985 - val_loss: 1.3264 - val_accuracy: 0.6512\n",
      "Epoch 5/70\n",
      "66/66 [==============================] - 4s 53ms/step - loss: 0.6471 - accuracy: 0.8281 - val_loss: 1.4305 - val_accuracy: 0.6164\n",
      "Epoch 6/70\n",
      "66/66 [==============================] - 3s 53ms/step - loss: 0.5955 - accuracy: 0.8485 - val_loss: 1.3842 - val_accuracy: 0.6479\n",
      "Epoch 7/70\n",
      "66/66 [==============================] - 4s 53ms/step - loss: 0.5426 - accuracy: 0.8669 - val_loss: 1.4182 - val_accuracy: 0.6636\n",
      "Epoch 8/70\n",
      "66/66 [==============================] - 4s 55ms/step - loss: 0.4870 - accuracy: 0.8922 - val_loss: 1.4076 - val_accuracy: 0.6761\n",
      "Epoch 9/70\n",
      "66/66 [==============================] - 3s 52ms/step - loss: 0.4547 - accuracy: 0.9037 - val_loss: 1.3941 - val_accuracy: 0.6893\n",
      "Epoch 10/70\n",
      "66/66 [==============================] - 3s 53ms/step - loss: 0.4316 - accuracy: 0.9101 - val_loss: 1.3635 - val_accuracy: 0.7158\n",
      "Epoch 11/70\n",
      "66/66 [==============================] - 3s 53ms/step - loss: 0.4091 - accuracy: 0.9208 - val_loss: 1.3561 - val_accuracy: 0.7341\n",
      "Epoch 12/70\n",
      "66/66 [==============================] - 3s 52ms/step - loss: 0.3837 - accuracy: 0.9273 - val_loss: 1.4041 - val_accuracy: 0.7291\n",
      "Epoch 13/70\n",
      "66/66 [==============================] - 3s 53ms/step - loss: 0.3697 - accuracy: 0.9307 - val_loss: 1.3646 - val_accuracy: 0.7597\n",
      "Epoch 14/70\n",
      "66/66 [==============================] - 3s 53ms/step - loss: 0.3483 - accuracy: 0.9371 - val_loss: 1.2594 - val_accuracy: 0.7514\n",
      "Epoch 15/70\n",
      "66/66 [==============================] - 3s 53ms/step - loss: 0.3420 - accuracy: 0.9378 - val_loss: 1.4452 - val_accuracy: 0.7249\n",
      "Epoch 16/70\n",
      "66/66 [==============================] - 3s 52ms/step - loss: 0.3209 - accuracy: 0.9455 - val_loss: 1.3538 - val_accuracy: 0.7672\n",
      "Epoch 17/70\n",
      "66/66 [==============================] - 4s 53ms/step - loss: 0.3163 - accuracy: 0.9481 - val_loss: 1.2641 - val_accuracy: 0.8310\n",
      "Epoch 18/70\n",
      "66/66 [==============================] - 3s 53ms/step - loss: 0.2997 - accuracy: 0.9531 - val_loss: 1.2585 - val_accuracy: 0.7954\n",
      "Epoch 19/70\n",
      "66/66 [==============================] - 3s 53ms/step - loss: 0.2815 - accuracy: 0.9612 - val_loss: 1.2641 - val_accuracy: 0.8393\n",
      "Epoch 20/70\n",
      "66/66 [==============================] - 3s 53ms/step - loss: 0.2799 - accuracy: 0.9577 - val_loss: 1.3027 - val_accuracy: 0.7440\n",
      "Epoch 21/70\n",
      "66/66 [==============================] - 3s 53ms/step - loss: 0.2685 - accuracy: 0.9622 - val_loss: 1.1821 - val_accuracy: 0.8318\n",
      "Epoch 22/70\n",
      "66/66 [==============================] - 3s 53ms/step - loss: 0.2613 - accuracy: 0.9656 - val_loss: 1.1358 - val_accuracy: 0.8442\n",
      "Epoch 23/70\n",
      "66/66 [==============================] - 3s 53ms/step - loss: 0.2500 - accuracy: 0.9695 - val_loss: 1.1276 - val_accuracy: 0.8567\n",
      "Epoch 24/70\n",
      "66/66 [==============================] - 3s 53ms/step - loss: 0.2420 - accuracy: 0.9719 - val_loss: 1.1455 - val_accuracy: 0.8376\n",
      "Epoch 25/70\n",
      "66/66 [==============================] - 3s 53ms/step - loss: 0.2386 - accuracy: 0.9731 - val_loss: 1.1580 - val_accuracy: 0.8210\n",
      "Epoch 26/70\n",
      "66/66 [==============================] - 3s 53ms/step - loss: 0.2281 - accuracy: 0.9776 - val_loss: 1.1387 - val_accuracy: 0.8567\n",
      "Epoch 27/70\n",
      "66/66 [==============================] - 3s 53ms/step - loss: 0.2292 - accuracy: 0.9753 - val_loss: 1.1923 - val_accuracy: 0.8045\n",
      "Epoch 28/70\n",
      "66/66 [==============================] - 3s 53ms/step - loss: 0.2230 - accuracy: 0.9760 - val_loss: 1.0885 - val_accuracy: 0.8500\n",
      "Epoch 29/70\n",
      "66/66 [==============================] - 3s 53ms/step - loss: 0.2181 - accuracy: 0.9781 - val_loss: 1.0807 - val_accuracy: 0.8567\n",
      "Epoch 30/70\n",
      "66/66 [==============================] - 3s 53ms/step - loss: 0.2086 - accuracy: 0.9816 - val_loss: 1.1075 - val_accuracy: 0.8302\n",
      "Epoch 31/70\n",
      "66/66 [==============================] - 3s 53ms/step - loss: 0.2116 - accuracy: 0.9790 - val_loss: 1.0735 - val_accuracy: 0.8525\n",
      "Epoch 32/70\n",
      "66/66 [==============================] - 4s 53ms/step - loss: 0.2078 - accuracy: 0.9801 - val_loss: 1.1692 - val_accuracy: 0.8401\n",
      "Epoch 33/70\n",
      "66/66 [==============================] - 3s 52ms/step - loss: 0.2080 - accuracy: 0.9791 - val_loss: 0.9713 - val_accuracy: 0.8641\n",
      "Epoch 34/70\n",
      "66/66 [==============================] - 3s 52ms/step - loss: 0.1981 - accuracy: 0.9835 - val_loss: 1.0055 - val_accuracy: 0.8616\n",
      "Epoch 35/70\n",
      "66/66 [==============================] - 3s 53ms/step - loss: 0.1958 - accuracy: 0.9830 - val_loss: 1.0414 - val_accuracy: 0.8666\n",
      "Epoch 36/70\n",
      "66/66 [==============================] - 3s 53ms/step - loss: 0.1946 - accuracy: 0.9823 - val_loss: 1.0138 - val_accuracy: 0.8600\n",
      "Epoch 37/70\n",
      "66/66 [==============================] - 3s 52ms/step - loss: 0.1875 - accuracy: 0.9872 - val_loss: 1.0311 - val_accuracy: 0.8558\n",
      "Epoch 38/70\n",
      "66/66 [==============================] - 3s 52ms/step - loss: 0.1873 - accuracy: 0.9841 - val_loss: 0.9970 - val_accuracy: 0.8542\n",
      "Epoch 39/70\n",
      "66/66 [==============================] - 3s 52ms/step - loss: 0.1921 - accuracy: 0.9818 - val_loss: 1.0087 - val_accuracy: 0.8625\n",
      "Epoch 40/70\n",
      "66/66 [==============================] - 3s 52ms/step - loss: 0.1845 - accuracy: 0.9856 - val_loss: 0.9772 - val_accuracy: 0.8534\n",
      "Epoch 41/70\n",
      "66/66 [==============================] - 3s 52ms/step - loss: 0.1763 - accuracy: 0.9889 - val_loss: 1.0104 - val_accuracy: 0.8650\n",
      "Epoch 42/70\n",
      "66/66 [==============================] - 3s 53ms/step - loss: 0.1811 - accuracy: 0.9861 - val_loss: 0.9674 - val_accuracy: 0.8459\n",
      "Epoch 43/70\n",
      "66/66 [==============================] - 3s 53ms/step - loss: 0.1759 - accuracy: 0.9881 - val_loss: 0.9901 - val_accuracy: 0.8666\n",
      "Epoch 44/70\n",
      "66/66 [==============================] - 3s 53ms/step - loss: 0.1709 - accuracy: 0.9893 - val_loss: 0.9721 - val_accuracy: 0.8691\n",
      "Epoch 45/70\n",
      "66/66 [==============================] - 3s 53ms/step - loss: 0.1658 - accuracy: 0.9909 - val_loss: 0.9473 - val_accuracy: 0.8683\n",
      "Epoch 46/70\n",
      "66/66 [==============================] - 3s 53ms/step - loss: 0.1693 - accuracy: 0.9886 - val_loss: 0.9861 - val_accuracy: 0.8608\n",
      "Epoch 47/70\n",
      "66/66 [==============================] - 3s 53ms/step - loss: 0.1643 - accuracy: 0.9906 - val_loss: 0.9813 - val_accuracy: 0.8708\n",
      "Epoch 48/70\n",
      "66/66 [==============================] - 3s 53ms/step - loss: 0.1688 - accuracy: 0.9875 - val_loss: 0.9654 - val_accuracy: 0.8633\n",
      "Epoch 49/70\n",
      "66/66 [==============================] - 3s 53ms/step - loss: 0.1604 - accuracy: 0.9909 - val_loss: 1.0770 - val_accuracy: 0.8293\n",
      "Epoch 50/70\n",
      "66/66 [==============================] - 3s 53ms/step - loss: 0.1610 - accuracy: 0.9894 - val_loss: 0.8956 - val_accuracy: 0.8650\n",
      "Epoch 51/70\n",
      "66/66 [==============================] - 3s 53ms/step - loss: 0.1552 - accuracy: 0.9913 - val_loss: 0.9553 - val_accuracy: 0.8691\n",
      "Epoch 52/70\n",
      "66/66 [==============================] - 3s 53ms/step - loss: 0.1572 - accuracy: 0.9925 - val_loss: 0.9758 - val_accuracy: 0.8691\n",
      "Epoch 53/70\n",
      "66/66 [==============================] - 3s 53ms/step - loss: 0.1545 - accuracy: 0.9917 - val_loss: 0.9656 - val_accuracy: 0.8658\n",
      "Epoch 54/70\n",
      "66/66 [==============================] - 3s 53ms/step - loss: 0.1517 - accuracy: 0.9922 - val_loss: 1.0248 - val_accuracy: 0.8658\n",
      "Epoch 55/70\n",
      "66/66 [==============================] - 3s 53ms/step - loss: 0.1484 - accuracy: 0.9939 - val_loss: 0.9596 - val_accuracy: 0.8724\n",
      "Epoch 56/70\n",
      "66/66 [==============================] - 3s 52ms/step - loss: 0.1625 - accuracy: 0.9862 - val_loss: 1.0352 - val_accuracy: 0.8674\n",
      "Epoch 57/70\n",
      "66/66 [==============================] - 3s 53ms/step - loss: 0.1525 - accuracy: 0.9906 - val_loss: 1.0065 - val_accuracy: 0.8666\n",
      "Epoch 58/70\n",
      "66/66 [==============================] - 3s 53ms/step - loss: 0.1463 - accuracy: 0.9935 - val_loss: 1.0728 - val_accuracy: 0.8658\n"
     ]
    },
    {
     "name": "stdout",
     "output_type": "stream",
     "text": [
      "Epoch 59/70\n",
      "66/66 [==============================] - 3s 52ms/step - loss: 0.1445 - accuracy: 0.9941 - val_loss: 0.9857 - val_accuracy: 0.8691\n",
      "Epoch 60/70\n",
      "66/66 [==============================] - 3s 52ms/step - loss: 0.1432 - accuracy: 0.9938 - val_loss: 1.0639 - val_accuracy: 0.8641\n"
     ]
    }
   ],
   "source": [
    "opt = Adam(learning_rate=0.0002)\n",
    "es = EarlyStopping(monitor='val_loss', mode='min', min_delta = 1e-8, patience = 10)\n",
    "\n",
    "\n",
    "np.random.seed(42)\n",
    "model_3.compile(optimizer=opt,\n",
    "              loss = 'categorical_crossentropy',\n",
    "              metrics = ['accuracy'])\n",
    "\n",
    "model_3_histoire = model_3.fit(train_images,\n",
    "                                       train_labels,\n",
    "                                       callbacks = [es],\n",
    "                                       epochs = 70,\n",
    "                                       batch_size = 120,\n",
    "                                       validation_data = (val_images, val_labels))\n",
    "\n"
   ]
  },
  {
   "cell_type": "code",
   "execution_count": 781,
   "id": "17ef10e6",
   "metadata": {},
   "outputs": [
    {
     "name": "stdout",
     "output_type": "stream",
     "text": [
      "INFO:tensorflow:Assets written to: ./Supplement Notebooks/Saved Models/Model 3/assets\n"
     ]
    }
   ],
   "source": [
    "model_3.save('./Supplement Notebooks/Saved Models/Model 3', save_format='tf')"
   ]
  },
  {
   "cell_type": "code",
   "execution_count": 782,
   "id": "b171fd9b",
   "metadata": {},
   "outputs": [
    {
     "name": "stdout",
     "output_type": "stream",
     "text": [
      "Model: \"sequential_60\"\n",
      "_________________________________________________________________\n",
      " Layer (type)                Output Shape              Param #   \n",
      "=================================================================\n",
      " conv2d_74 (Conv2D)          (None, 98, 98, 18)        504       \n",
      "                                                                 \n",
      " max_pooling2d_74 (MaxPoolin  (None, 49, 49, 18)       0         \n",
      " g2D)                                                            \n",
      "                                                                 \n",
      " dropout_79 (Dropout)        (None, 49, 49, 18)        0         \n",
      "                                                                 \n",
      " conv2d_75 (Conv2D)          (None, 47, 47, 36)        5868      \n",
      "                                                                 \n",
      " dropout_80 (Dropout)        (None, 47, 47, 36)        0         \n",
      "                                                                 \n",
      " max_pooling2d_75 (MaxPoolin  (None, 24, 24, 36)       0         \n",
      " g2D)                                                            \n",
      "                                                                 \n",
      " dropout_81 (Dropout)        (None, 24, 24, 36)        0         \n",
      "                                                                 \n",
      " flatten_37 (Flatten)        (None, 20736)             0         \n",
      "                                                                 \n",
      " dense_132 (Dense)           (None, 24)                497688    \n",
      "                                                                 \n",
      " dense_133 (Dense)           (None, 48)                1200      \n",
      "                                                                 \n",
      " dense_134 (Dense)           (None, 24)                1176      \n",
      "                                                                 \n",
      " dense_135 (Dense)           (None, 6)                 150       \n",
      "                                                                 \n",
      "=================================================================\n",
      "Total params: 506,586\n",
      "Trainable params: 506,586\n",
      "Non-trainable params: 0\n",
      "_________________________________________________________________\n"
     ]
    }
   ],
   "source": [
    "model_3.summary()"
   ]
  },
  {
   "cell_type": "code",
   "execution_count": 783,
   "id": "6cb71f50",
   "metadata": {},
   "outputs": [
    {
     "name": "stdout",
     "output_type": "stream",
     "text": [
      "246/246 [==============================] - 3s 13ms/step - loss: 0.2395 - accuracy: 0.9592\n",
      "95/95 [==============================] - 1s 13ms/step - loss: 1.4859 - accuracy: 0.7971\n"
     ]
    }
   ],
   "source": [
    "model_3_results_train = model_3.evaluate(train_images, train_labels)\n",
    "model_3_results_test = model_3.evaluate(test_images, test_labels)"
   ]
  },
  {
   "cell_type": "code",
   "execution_count": 784,
   "id": "8f469382",
   "metadata": {},
   "outputs": [
    {
     "name": "stdout",
     "output_type": "stream",
     "text": [
      "Model 3 Train Results: [0.2394864559173584, 0.9591889381408691]\n",
      "Model 3 Test Results: [1.485914707183838, 0.7971494793891907]\n"
     ]
    }
   ],
   "source": [
    "print(f'Model 3 Train Results: {model_3_results_train}')\n",
    "print(f'Model 3 Test Results: {model_3_results_test}')"
   ]
  },
  {
   "cell_type": "markdown",
   "id": "8a950b4f",
   "metadata": {},
   "source": [
    "#### Model 3 Visualizations"
   ]
  },
  {
   "cell_type": "markdown",
   "id": "251ddb9a",
   "metadata": {},
   "source": [
    "#### Graphing Accuracy and Loss Metrics"
   ]
  },
  {
   "cell_type": "code",
   "execution_count": 785,
   "id": "f391b318",
   "metadata": {},
   "outputs": [
    {
     "data": {
      "image/png": "[encoded data removed]",
      "text/plain": [
       "<Figure size 640x480 with 1 Axes>"
      ]
     },
     "metadata": {},
     "output_type": "display_data"
    },
    {
     "data": {
      "image/png": "[encoded data removed]",
      "text/plain": [
       "<Figure size 640x480 with 1 Axes>"
      ]
     },
     "metadata": {},
     "output_type": "display_data"
    }
   ],
   "source": [
    "# Plot history\n",
    "model_3_acc = model_3_histoire.history['accuracy']\n",
    "model_3_val_acc = model_3_histoire.history['val_accuracy']\n",
    "model_3_loss = model_3_histoire.history['loss']\n",
    "model_3_val_loss = model_3_histoire.history['val_loss']\n",
    "model_3_epochs = range(len(model_3_acc))\n",
    "\n",
    "plt.plot(model_3_epochs, model_3_acc, 'bo', label = 'Training acc')\n",
    "plt.plot(model_3_epochs, model_3_val_acc, 'b', label = 'Validation acc')\n",
    "plt.title('Model 3 Training and Validation Accuracy')\n",
    "plt.legend()\n",
    "plt.figure()\n",
    "plt.plot(model_3_epochs, model_3_loss, 'bo', label = 'Training loss')\n",
    "plt.plot(model_3_epochs, model_3_val_loss, 'b', label = 'Validation loss')\n",
    "plt.title('Model 3 Training and Validation Loss')\n",
    "plt.legend()\n",
    "plt.show();\n",
    "\n"
   ]
  },
  {
   "cell_type": "markdown",
   "id": "77908369",
   "metadata": {},
   "source": [
    "#### Confusion Matrix"
   ]
  },
  {
   "cell_type": "code",
   "execution_count": 786,
   "id": "1f0a2ca3",
   "metadata": {},
   "outputs": [
    {
     "name": "stderr",
     "output_type": "stream",
     "text": [
      "/Users/skyejeanat/miniforge3/envs/tensorflow_env/lib/python3.8/site-packages/sklearn/utils/deprecation.py:87: FutureWarning: Function plot_confusion_matrix is deprecated; Function `plot_confusion_matrix` is deprecated in 1.0 and will be removed in 1.2. Use one of the class methods: ConfusionMatrixDisplay.from_predictions or ConfusionMatrixDisplay.from_estimator.\n",
      "  warnings.warn(msg, category=FutureWarning)\n",
      "2022-12-08 12:26:57.161964: I tensorflow/core/grappler/optimizers/custom_graph_optimizer_registry.cc:113] Plugin optimizer for device_type GPU is enabled.\n"
     ]
    },
    {
     "data": {
      "image/png": "[encoded data removed]",
      "text/plain": [
       "<Figure size 640x480 with 2 Axes>"
      ]
     },
     "metadata": {},
     "output_type": "display_data"
    }
   ],
   "source": [
    "class_names = train_class_names\n",
    "class estimator:\n",
    "    _estimator_type = ''\n",
    "    classes_= []\n",
    "    def __init__(self, model, classes):\n",
    "        self.model = model\n",
    "        self._estimator_type = 'classifier'\n",
    "        self.classes_ = classes\n",
    "    def predict(self, X):\n",
    "        y_prob = self.model.predict(X)\n",
    "        y_pred = y_prob.argmax(axis=1)\n",
    "\n",
    "        return y_pred\n",
    "\n",
    "classifier = estimator(model_3, class_names)\n",
    "plot_confusion_matrix(estimator = classifier, \n",
    "                      X = test_images, \n",
    "                      y_true = np.argmax(test_labels, axis = -1),\n",
    "                      display_labels = class_names,\n",
    "                      xticks_rotation = 'vertical',\n",
    "                     cmap='OrRd');\n",
    "plt.title('Apple Identification Confusion Matrix')\n",
    "plt.show()"
   ]
  },
  {
   "cell_type": "code",
   "execution_count": 787,
   "id": "043b7c45",
   "metadata": {},
   "outputs": [
    {
     "data": {
      "text/plain": [
       "array([[9.86674368e-01, 3.61867365e-03, 4.30198224e-06, 1.42250827e-03,\n",
       "        3.97636264e-04, 7.88238551e-03],\n",
       "       [6.85327686e-04, 9.59547520e-01, 2.72564677e-07, 2.35043831e-06,\n",
       "        3.97319719e-02, 3.25287001e-05],\n",
       "       [8.65956426e-01, 1.91949098e-03, 3.30700786e-05, 2.36576263e-04,\n",
       "        1.31750956e-01, 1.03483850e-04],\n",
       "       ...,\n",
       "       [1.09693296e-01, 1.43995765e-03, 8.48528087e-01, 6.54126471e-03,\n",
       "        3.20671685e-02, 1.73019792e-03],\n",
       "       [3.47108493e-04, 2.34042807e-03, 3.84425092e-03, 1.47182960e-04,\n",
       "        9.93320227e-01, 8.56202121e-07],\n",
       "       [2.99023855e-02, 5.82893379e-04, 9.54085052e-01, 3.24650784e-03,\n",
       "        1.14213731e-02, 7.61824951e-04]], dtype=float32)"
      ]
     },
     "execution_count": 787,
     "metadata": {},
     "output_type": "execute_result"
    }
   ],
   "source": [
    "predictions = model_3.predict(val_images)\n",
    "predictions"
   ]
  },
  {
   "cell_type": "code",
   "execution_count": 788,
   "id": "66c01eec",
   "metadata": {},
   "outputs": [
    {
     "data": {
      "text/plain": [
       "array([[1., 0., 0., 0., 0., 0.],\n",
       "       [0., 1., 0., 0., 0., 0.],\n",
       "       [0., 0., 0., 0., 0., 1.],\n",
       "       ...,\n",
       "       [0., 0., 0., 0., 0., 1.],\n",
       "       [0., 0., 0., 0., 1., 0.],\n",
       "       [0., 0., 0., 0., 0., 1.]], dtype=float32)"
      ]
     },
     "execution_count": 788,
     "metadata": {},
     "output_type": "execute_result"
    }
   ],
   "source": [
    "val_labels"
   ]
  },
  {
   "cell_type": "markdown",
   "id": "3fd23909",
   "metadata": {},
   "source": [
    "#### Second Model"
   ]
  },
  {
   "cell_type": "code",
   "execution_count": 789,
   "id": "360a7259",
   "metadata": {},
   "outputs": [],
   "source": [
    "sz = 200\n",
    "\n",
    "# Initializing the CNN\n",
    "model1 = Sequential()\n",
    "\n",
    "# First convolution layer and pooling\n",
    "model1.add(Convolution2D(32, (3, 3), input_shape=(sz, sz, 3), activation='relu'))\n",
    "model1.add(MaxPooling2D(pool_size = (2, 2)))\n",
    "\n",
    "# Second convolution layer and pooling\n",
    "model1.add(Convolution2D(32, (3, 3), activation='relu'))\n",
    "# input_shape is going to be the pooled feature maps from the previous convolution layer\n",
    "model1.add(MaxPooling2D(pool_size=(2, 2)))\n",
    "\n",
    "# Flattening the layers\n",
    "model1.add(Flatten(input_shape = (28,28)))\n",
    "\n",
    "# Adding a fully connected layer\n",
    "model1.add(Dense(units=96, activation='relu'))\n",
    "model1.add(Dropout(0.40))\n",
    "model1.add(Dense(units=32, activation='relu'))\n",
    "model1.add(Dense(units=24, activation='softmax')) # softmax for more than 2"
   ]
  },
  {
   "cell_type": "code",
   "execution_count": 790,
   "id": "c88208d1",
   "metadata": {},
   "outputs": [
    {
     "name": "stdout",
     "output_type": "stream",
     "text": [
      "Model: \"sequential_61\"\n",
      "_________________________________________________________________\n",
      " Layer (type)                Output Shape              Param #   \n",
      "=================================================================\n",
      " conv2d_76 (Conv2D)          (None, 198, 198, 32)      896       \n",
      "                                                                 \n",
      " max_pooling2d_76 (MaxPoolin  (None, 99, 99, 32)       0         \n",
      " g2D)                                                            \n",
      "                                                                 \n",
      " conv2d_77 (Conv2D)          (None, 97, 97, 32)        9248      \n",
      "                                                                 \n",
      " max_pooling2d_77 (MaxPoolin  (None, 48, 48, 32)       0         \n",
      " g2D)                                                            \n",
      "                                                                 \n",
      " flatten_38 (Flatten)        (None, 73728)             0         \n",
      "                                                                 \n",
      " dense_136 (Dense)           (None, 96)                7077984   \n",
      "                                                                 \n",
      " dropout_82 (Dropout)        (None, 96)                0         \n",
      "                                                                 \n",
      " dense_137 (Dense)           (None, 32)                3104      \n",
      "                                                                 \n",
      " dense_138 (Dense)           (None, 24)                792       \n",
      "                                                                 \n",
      "=================================================================\n",
      "Total params: 7,092,024\n",
      "Trainable params: 7,092,024\n",
      "Non-trainable params: 0\n",
      "_________________________________________________________________\n"
     ]
    }
   ],
   "source": [
    "model1.summary()"
   ]
  },
  {
   "cell_type": "code",
   "execution_count": 791,
   "id": "1e310229",
   "metadata": {},
   "outputs": [],
   "source": [
    "model1.compile(optimizer='adam',\n",
    "               loss = tf.keras.losses.SparseCategoricalCrossentropy(from_logits=False),\n",
    "               metrics=['accuracy'])"
   ]
  },
  {
   "cell_type": "code",
   "execution_count": 792,
   "id": "470da53c",
   "metadata": {},
   "outputs": [],
   "source": [
    "# history = model1.fit(\n",
    "#     train_generator,\n",
    "#     validation_data = test_generator,\n",
    "#     epochs = 5\n",
    "# )"
   ]
  },
  {
   "cell_type": "code",
   "execution_count": null,
   "id": "bc3c8e8c",
   "metadata": {},
   "outputs": [],
   "source": []
  },
  {
   "cell_type": "code",
   "execution_count": null,
   "id": "616a58d5",
   "metadata": {},
   "outputs": [],
   "source": []
  }
 ],
 "metadata": {
  "kernelspec": {
   "display_name": "tensorflow_env",
   "language": "python",
   "name": "tensorflow_env"
  },
  "language_info": {
   "codemirror_mode": {
    "name": "ipython",
    "version": 3
   },
   "file_extension": ".py",
   "mimetype": "text/x-python",
   "name": "python",
   "nbconvert_exporter": "python",
   "pygments_lexer": "ipython3",
   "version": "3.8.15"
  }
 },
 "nbformat": 4,
 "nbformat_minor": 5
}
